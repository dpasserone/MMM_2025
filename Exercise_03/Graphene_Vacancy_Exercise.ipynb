{
 "cells": [
  {
   "cell_type": "markdown",
   "id": "0f8de296",
   "metadata": {},
   "source": [
    "# Vacancy migration in graphene\n",
    "## Exercise MMM 2025 - Week 3"
   ]
  },
  {
   "cell_type": "markdown",
   "id": "aa13f74a",
   "metadata": {},
   "source": [
    "In the present exercise, we will investigate the equilibrium structures of graphene as a periodic 2D lattice, as well as a vacancy (defect) diffusion mechanism. \n",
    "As a calculator we will use the code CP2K.\n",
    "As an interaction potential we will use the Tersoff potential.\n",
    "As minimization methods for minima and transition states (elastic band) we will use BFGS and the FIRE MD-based algorithm (https://www.math.uni-bielefeld.de/~gaehler/papers/fire.pdf).\n",
    "There is a paper where the same diffusion mechanism is described with ab initio calculations: https://link.aps.org/doi/10.1103/PhysRevB.98.075439\n"
   ]
  },
  {
   "cell_type": "markdown",
   "id": "41937c2e",
   "metadata": {},
   "source": [
    "### First part: graphene and defects - model preparation\n",
    "A graphene periodic layer is prepared. Two visualization functions are defined."
   ]
  },
  {
   "cell_type": "code",
   "execution_count": null,
   "id": "89af81d4",
   "metadata": {},
   "outputs": [],
   "source": [
    "import numpy as np\n",
    "from ase import Atoms\n",
    "from ase.io import read\n",
    "from ase.calculators.lammpsrun import LAMMPS\n",
    "from ase.calculators.cp2k import CP2K\n",
    "from ase.optimize import BFGS\n",
    "from ase.build import graphene\n",
    "import nglview as nv\n",
    "\n",
    "# Graphene lattice\n",
    "\n",
    "\n",
    "graph_0 = graphene(formula='C2',a=2.46,vacuum=1.0,size=(15,15,1))\n",
    "print (len(graph_0),\" Carbon atoms\")\n",
    "\n"
   ]
  },
  {
   "cell_type": "code",
   "execution_count": null,
   "id": "e16c44fe",
   "metadata": {},
   "outputs": [],
   "source": [
    "def view_structure(structure,myvec=[]):\n",
    "    \"\"\"\n",
    "    Use the ASE library to view an atoms object.\n",
    "\n",
    "    Parameters\n",
    "    ----------\n",
    "\n",
    "    structure: Atoms object\n",
    "\n",
    "    Returns\n",
    "    -------\n",
    "\n",
    "    NGLWidget with GUI: object to be viewed\n",
    "    \n",
    "    \"\"\"\n",
    "    t = nv.ASEStructure(structure)\n",
    "    w = nv.NGLWidget(t, gui=True)\n",
    "    w.add_unitcell()\n",
    "    w.add_ball_and_stick()\n",
    "    w.add_representation('label',label_type='atomindex',color='black')\n",
    "    w.add_representation('spacefill',selection=myvec,color=\"blue\",radius=0.5)\n",
    "    return w\n",
    "\n",
    "def view_trajectory(trajectory,myvec=[]):\n",
    "    t2 = nv.ASETrajectory(trajectory)\n",
    "    w2 = nv.NGLWidget(t2, gui=True)\n",
    "    #w2.add_unitcell()\n",
    "    w2.add_ball_and_stick()\n",
    "    w2.add_representation('spacefill',selection=myvec,color=\"blue\",radius=0.5)\n",
    "    return w2"
   ]
  },
  {
   "cell_type": "code",
   "execution_count": null,
   "id": "8179c57f",
   "metadata": {},
   "outputs": [],
   "source": [
    "from ase.io import write"
   ]
  },
  {
   "cell_type": "code",
   "execution_count": null,
   "id": "be4f6f26",
   "metadata": {},
   "outputs": [],
   "source": [
    "graph_0.set_pbc([True,True,False])\n",
    "my = graph_0.get_cell()\n",
    "my[2,2] = 30\n",
    "graph_0.set_cell(my)\n",
    "view_structure(graph_0)"
   ]
  },
  {
   "cell_type": "markdown",
   "id": "1f219152",
   "metadata": {},
   "source": [
    "A calculator based on CP2K is prepared"
   ]
  },
  {
   "cell_type": "code",
   "execution_count": null,
   "id": "e569cb46",
   "metadata": {},
   "outputs": [],
   "source": [
    "inp=\"\"\"&FORCE_EVAL\n",
    "  &MM\n",
    "    &FORCEFIELD\n",
    "      &NONBONDED\n",
    "        &TERSOFF\n",
    "          A 1.3936E3\n",
    "          ALPHA 0.00\n",
    "          ATOMS C C\n",
    "          B 3.467E2\n",
    "          BETA 1.5724E-7\n",
    "          BIGD 0.15\n",
    "          BIGR 1.95\n",
    "          C 3.8049E4\n",
    "          D 4.384\n",
    "          H -5.7058E-1\n",
    "          LAMBDA1 3.4879\n",
    "          LAMBDA2 2.2119\n",
    "          LAMBDA3 0.0000\n",
    "          N 7.2751E-1\n",
    "        &END TERSOFF\n",
    "      &END NONBONDED\n",
    "      &SPLINE\n",
    "        EPS_SPLINE 1.E-6\n",
    "      &END SPLINE\n",
    "    &END FORCEFIELD\n",
    "    &POISSON\n",
    "      &EWALD\n",
    "        EWALD_TYPE none\n",
    "      &END EWALD\n",
    "    &END POISSON\n",
    "    #&PRINT\n",
    "    #  &NEIGHBOR_LISTS SILENT\n",
    "    #  &END NEIGHBOR_LISTS\n",
    "    #&END PRINT\n",
    "  &END MM\n",
    "&END FORCE_EVAL\"\"\""
   ]
  },
  {
   "cell_type": "code",
   "execution_count": null,
   "id": "ca93a712",
   "metadata": {},
   "outputs": [],
   "source": [
    "calc = CP2K(inp=inp,command=\"/usr/bin/cp2k_shell.psmp\",poisson_solver='None',force_eval_method='FIST')"
   ]
  },
  {
   "cell_type": "code",
   "execution_count": null,
   "id": "3de72f70",
   "metadata": {},
   "outputs": [],
   "source": [
    "graph_0.calc = calc\n"
   ]
  },
  {
   "cell_type": "markdown",
   "id": "ae8b19b2",
   "metadata": {},
   "source": [
    "### Second part: using the defected graphene as initial and final state for diffusion.\n",
    "\n",
    "An atom is removed from the two samples. Identify the atom in the two structures.\n",
    "\n",
    "**ASSIGNMENT 1: Why do we need to reorder the positions in sample graph_b?**"
   ]
  },
  {
   "cell_type": "code",
   "execution_count": null,
   "id": "9d2ccc28",
   "metadata": {},
   "outputs": [],
   "source": [
    "#\n",
    "#  Vacancy in A\n",
    "#\n",
    "\n",
    "graph_a = graph_0.copy() \n",
    "graph_a.calc = calc\n",
    "\n",
    "\n",
    "\n",
    "del graph_a[225]\n",
    "\n",
    "#\n",
    "#  Vacancy in B\n",
    "#\n",
    "\n",
    "graph_b = graph_0.copy()\n",
    "graph_b.calc = calc\n",
    "\n",
    "del graph_b[256]\n",
    "\n",
    "view_structure(graph_a)\n"
   ]
  },
  {
   "cell_type": "code",
   "execution_count": null,
   "id": "5a76969c",
   "metadata": {},
   "outputs": [],
   "source": [
    "#print (graph_a.get_positions()[225:256])\n",
    "\n",
    "#\n",
    "# Reorder\n",
    "#\n",
    "graph_b.positions[[255,225,226,227,228,229,230,231,232,233,234,235,236,237,238,239,240,241,242,243,244,245,246,247,248,249,250,251,252,253,254]]=graph_b.positions[[225,226,227,228,229,230,231,232,233,234,235,236,237,238,239,240,241,242,243,244,245,246,247,248,249,250,251,252,253,254,255]]\n",
    "#print (graph_b.get_positions()[225:256])\n",
    "\n"
   ]
  },
  {
   "cell_type": "code",
   "execution_count": null,
   "id": "ab0b31c8",
   "metadata": {},
   "outputs": [],
   "source": [
    "view_structure(graph_a)"
   ]
  },
  {
   "cell_type": "code",
   "execution_count": null,
   "id": "ae829a13",
   "metadata": {},
   "outputs": [],
   "source": [
    "view_structure(graph_b)"
   ]
  },
  {
   "cell_type": "markdown",
   "id": "4e5624f5",
   "metadata": {},
   "source": [
    "### Fixing the atoms at the border of the vacancy region\n",
    "**ASSIGNMENT 2: Insert different values of r_relax and imagine the situation for those values. Discuss the chosen value that will presumably lead to a good NEB convergence**\n"
   ]
  },
  {
   "cell_type": "code",
   "execution_count": null,
   "id": "a0aefca3",
   "metadata": {},
   "outputs": [],
   "source": [
    "#\n",
    "#Apply Constraints\n",
    "#\n",
    "\n",
    "r_relax = INSERT A VALUE!!!\n",
    "from ase.constraints import FixAtoms\n",
    "\n",
    "my_ind_0 = [atom.index for atom in graph_0 if (graph_0.get_distance(atom.index,254,mic=True)>r_relax)]\n",
    "c = FixAtoms(indices=my_ind_0)\n",
    "graph_0.set_constraint(c)\n",
    "graph_0.rattle(stdev=0.005)\n",
    "\n",
    "\n",
    "my_ind_a = [atom.index for atom in graph_a if (graph_a.get_distance(atom.index,253,mic=True)>r_relax)]\n",
    "c = FixAtoms(indices=my_ind_a)\n",
    "graph_a.set_constraint(c)\n",
    "graph_a.rattle(stdev=0.005)\n",
    "\n",
    "\n",
    "my_ind_b = [atom.index for atom in graph_b if (graph_b.get_distance(atom.index,253,mic=True)>r_relax)]\n",
    "c = FixAtoms(indices=my_ind_b)\n",
    "graph_b.set_constraint(c)\n",
    "graph_b.rattle(stdev=0.005)\n",
    "\n",
    "\n",
    "\n",
    "view_structure(graph_a,my_ind_a)\n",
    "\n",
    "\n"
   ]
  },
  {
   "cell_type": "markdown",
   "id": "d8cd9778",
   "metadata": {},
   "source": [
    "### Let's optimize graphene first"
   ]
  },
  {
   "cell_type": "code",
   "execution_count": null,
   "id": "8b90719b",
   "metadata": {},
   "outputs": [],
   "source": [
    "\n",
    "opt = BFGS(graph_0, trajectory='graphene_0_opt.traj')\n",
    "opt.run(fmax=0.05)"
   ]
  },
  {
   "cell_type": "code",
   "execution_count": null,
   "id": "30d86922",
   "metadata": {},
   "outputs": [],
   "source": [
    "mytraj = read(\"graphene_0_opt.traj\",\":\")\n",
    "view_trajectory(mytraj,my_ind_0)"
   ]
  },
  {
   "cell_type": "markdown",
   "id": "fc89473a",
   "metadata": {},
   "source": [
    "### Optimizing the defect\n",
    "\n",
    "**Assignment 3: What happens if you uncomment the line #mypos[:,2] = 1.? Will something change in the final result of the optimization?**"
   ]
  },
  {
   "cell_type": "code",
   "execution_count": null,
   "id": "9783465b",
   "metadata": {
    "scrolled": true
   },
   "outputs": [],
   "source": [
    "#\n",
    "# Optimize the geometry of vacancy A\n",
    "#\n",
    "graph_a.rattle(stdev=0.05)\n",
    "mypos = graph_a.get_positions()\n",
    "#mypos[:,2] = 1.\n",
    "graph_a.set_positions(mypos)\n",
    "view_structure(graph_a)\n",
    "\n",
    "opt = BFGS(graph_a, trajectory='graphene_a_opt.traj')\n",
    "opt.run(fmax=0.05)\n",
    "mytraj = read(\"graphene_a_opt.traj\",\":\")\n",
    "view_trajectory(mytraj,my_ind_a)\n"
   ]
  },
  {
   "cell_type": "code",
   "execution_count": null,
   "id": "1c4a3c91",
   "metadata": {},
   "outputs": [],
   "source": [
    "print (graph_a.get_distance(194,224))\n",
    "view_structure(graph_a)\n"
   ]
  },
  {
   "cell_type": "code",
   "execution_count": null,
   "id": "653a5200",
   "metadata": {},
   "outputs": [],
   "source": [
    "#\n",
    "# Optimize the geometry of Vacancy B\n",
    "#\n",
    "\n",
    "graph_b.rattle(stdev=0.05)\n",
    "mypos = graph_b.get_positions()\n",
    "#mypos[:,2] = 1.\n",
    "graph_b.set_positions(mypos)\n",
    "opt = BFGS(graph_b, trajectory='graphene_b_opt.traj')\n",
    "opt.run(fmax=0.05)\n",
    "mytraj_b = read(\"graphene_b_opt.traj\",\":\")\n",
    "\n",
    "\n",
    "graph_a.write(\"graphene_a.xyz\",format=\"extxyz\")\n",
    "graph_b.write(\"graphene_b.xyz\",format=\"extxyz\")\n",
    "view_trajectory(mytraj_b,my_ind_b)"
   ]
  },
  {
   "cell_type": "code",
   "execution_count": null,
   "id": "c6e2e37c",
   "metadata": {},
   "outputs": [],
   "source": [
    "print (graph_b.get_distance(257,226))\n",
    "view_structure(graph_b,my_ind_b)"
   ]
  },
  {
   "cell_type": "markdown",
   "id": "a7df4016",
   "metadata": {},
   "source": [
    "### Part 3: Nudged Elastic Band\n",
    "\n",
    "Now, we can optimize the nudged elastic band. The initial and final configurations are the graphene with the vacancy in two different places (https://wiki.fysik.dtu.dk/ase/ase/neb.html)\n",
    "\n",
    "\n",
    "**ASSIGNMENT 4: Try the NEB with 7 and then again with 11 replicas. Do we need a randomization of the coordinates (rattle)? Why? Which difference do you observe? Do you always arrive to convergence? Play with the parameters and comment**"
   ]
  },
  {
   "cell_type": "code",
   "execution_count": null,
   "id": "9156194d",
   "metadata": {},
   "outputs": [],
   "source": [
    "#\n",
    "# NEB\n",
    "#\n",
    "\n",
    "n_replica = PUT_A_NUMBER_OF_REPLICAS\n",
    "from ase import io\n",
    "from ase.neb import NEB\n",
    "from ase.optimize import MDMin, BFGS, FIRE, GPMin\n",
    "\n",
    "# Read initial and final states:\n",
    "initial = graph_a.copy()\n",
    "final = graph_b.copy()\n",
    "\n",
    "\n",
    "\n",
    "# Make a band consisting of n_replica images:\n",
    "images = [initial]\n",
    "images += [initial.copy() for i in range(n_replica - 2)]\n",
    "images += [final]\n",
    "\n",
    "\n",
    "#\n",
    "# Restart\n",
    "#\n",
    "\n",
    "\n",
    "neb = NEB(images,k=0.05, climb=False)\n",
    "\n",
    "# Interpolate linearly the positions of the three middle images:\n",
    "neb.interpolate(apply_constraint = False)\n",
    "\n",
    "for image in images [1:n_replica-1]:\n",
    "       image.rattle(stdev=0.02)\n",
    "    \n",
    "\n",
    "\n",
    "# Set calculators:\n",
    "      \n",
    "for image in images[1:n_replica-1]:\n",
    "    calc = CP2K(inp=inp,command=\"/usr/bin/cp2k_shell.psmp\",poisson_solver='None',force_eval_method='FIST')\n",
    "    image.calc = calc\n",
    "    \n",
    "# Optimize:\n",
    "optimizer =  FIRE(neb, trajectory='A2B.traj')\n",
    "optimizer.run(fmax=0.07)"
   ]
  },
  {
   "cell_type": "markdown",
   "id": "57afedc2",
   "metadata": {},
   "source": [
    "**ASSIGNMENT 5: Observe the barrier and compare with the values in the paper. Discuss possible sources of errors in our approach**"
   ]
  },
  {
   "cell_type": "code",
   "execution_count": null,
   "id": "13112e0a",
   "metadata": {},
   "outputs": [],
   "source": [
    "\n",
    "ene = np.zeros(n_replica)\n",
    "i=0\n",
    "\n",
    "for image in images[0:n_replica]:\n",
    "    image.calc = calc    \n",
    "    print (i,image.get_potential_energy())\n",
    "    ene[i]=image.get_potential_energy()\n",
    "    i = i+1\n",
    "    \n",
    "import matplotlib.pyplot as plt\n",
    "plt.plot(ene)\n",
    "\n",
    "plt.show()\n",
    "    \n",
    "#print (images[4].get_positions())\n"
   ]
  },
  {
   "cell_type": "code",
   "execution_count": null,
   "id": "d2013286",
   "metadata": {
    "scrolled": true
   },
   "outputs": [],
   "source": [
    "view_trajectory(images[0:n_replica],my_ind_a)\n",
    "\n",
    "\n"
   ]
  },
  {
   "cell_type": "markdown",
   "id": "fb03790e",
   "metadata": {},
   "source": [
    "### Part 4: Analysis of the structures \n",
    "\n",
    "**ASSIGNMENT 6: Discuss the corrugation plot as well as the geometry at the transition state**"
   ]
  },
  {
   "cell_type": "code",
   "execution_count": null,
   "id": "52c4cb36",
   "metadata": {},
   "outputs": [],
   "source": [
    "import matplotlib.pyplot as plt\n",
    "from ase import Atoms\n",
    "\n",
    "def plot_atoms_corrugation(atoms, index):\n",
    "    \"\"\"\n",
    "    Plots the x and y coordinates of an ASE Atoms object in 2D, with z-encoded color.\n",
    "    The plot maintains equal scaling for x and y axes, has a squared grid, and includes a colorbar.\n",
    "\n",
    "    Args:\n",
    "        atoms (ase.Atoms): The ASE Atoms object containing x, y, and z coordinates.\n",
    "\n",
    "    Returns:\n",
    "        None (displays the plot)\n",
    "    \"\"\"\n",
    "    # Extract x, y, and z coordinates\n",
    "    x_coords = atoms.positions[:, 0]\n",
    "    y_coords = atoms.positions[:, 1]\n",
    "    z_coords = atoms.positions[:, 2]\n",
    "\n",
    "    # Calculate the aspect ratio\n",
    "    L_x = max(x_coords) - min(x_coords)\n",
    "    L_y = max(y_coords) - min(y_coords)\n",
    "    aspect_ratio = L_y / L_x\n",
    "\n",
    "    # Create a scatter plot with z-coordinates determining color\n",
    "    fig, ax = plt.subplots(figsize=(8, 8 * aspect_ratio))  # Equal scaling for x and y axes\n",
    "    scatter = ax.scatter(x_coords, y_coords, c=z_coords, cmap='viridis', s=50)  # Adjust 'cmap' and 's' as desired\n",
    "    ax.set_xlabel('x')\n",
    "    ax.set_ylabel('y')\n",
    "    ax.set_title('Atoms Object: x-y Coordinates with Z-encoded Color '+str(index))\n",
    "    plt.grid(True)\n",
    "    plt.gca().set_aspect('equal')  # Set aspect ratio to be equal\n",
    "    plt.colorbar(scatter, label='Z-coordinate')  # Add colorbar\n",
    "    plt.show()\n",
    "\n"
   ]
  },
  {
   "cell_type": "code",
   "execution_count": null,
   "id": "e6dcae04",
   "metadata": {},
   "outputs": [],
   "source": [
    "import ipywidgets as ipw\n",
    "from IPython.display import clear_output\n",
    "output = ipw.Output()\n",
    "display(output)"
   ]
  },
  {
   "cell_type": "code",
   "execution_count": null,
   "id": "e49696a6",
   "metadata": {},
   "outputs": [],
   "source": [
    "# Example usage:\n",
    "import time\n",
    "i = 0\n",
    "for image in images[0:n_replica]:  \n",
    "    time.sleep(1)\n",
    "    with output:\n",
    "        clear_output()\n",
    "        plot_atoms_corrugation(image,i)\n",
    "    i = i+1\n"
   ]
  },
  {
   "cell_type": "code",
   "execution_count": null,
   "id": "262740af",
   "metadata": {},
   "outputs": [],
   "source": [
    "plot_atoms_corrugation(images[INSERT_HERE_THE_TRANSITION_STATE_REPLICA],6)"
   ]
  },
  {
   "cell_type": "code",
   "execution_count": null,
   "id": "f0721436",
   "metadata": {},
   "outputs": [],
   "source": [
    "view_structure(images[INSERT_HERE_THE_CORRECT_TRANSITION_STATE_REPLICA],my_ind_a)"
   ]
  },
  {
   "cell_type": "code",
   "execution_count": null,
   "id": "b54ddc61",
   "metadata": {},
   "outputs": [],
   "source": []
  }
 ],
 "metadata": {
  "kernelspec": {
   "display_name": "Python 3 (ipykernel)",
   "language": "python",
   "name": "python3"
  },
  "language_info": {
   "codemirror_mode": {
    "name": "ipython",
    "version": 3
   },
   "file_extension": ".py",
   "mimetype": "text/x-python",
   "name": "python",
   "nbconvert_exporter": "python",
   "pygments_lexer": "ipython3",
   "version": "3.9.13"
  }
 },
 "nbformat": 4,
 "nbformat_minor": 5
}
