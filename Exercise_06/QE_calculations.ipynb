{
 "cells": [
  {
   "cell_type": "code",
   "execution_count": null,
   "id": "35734d64",
   "metadata": {},
   "outputs": [],
   "source": [
    "import os\n",
    "import re\n",
    "import io\n",
    "from pathlib import Path\n",
    "import shutil\n",
    "import subprocess\n",
    "from scipy.constants import physical_constants, angstrom\n",
    "import numpy as np\n",
    "from numpy.linalg import norm\n",
    "import xml.etree.ElementTree as et\n",
    "import matplotlib.pyplot as plt\n",
    "\n",
    "from ase.io import read,write\n",
    "from ase.visualize import view,ngl\n",
    "from ase.build import molecule\n",
    "from ase.spacegroup import crystal\n",
    "from ase.build import bulk\n",
    "from ase.dft.kpoints import get_special_points, bandpath\n",
    "import nglview as nv"
   ]
  },
  {
   "cell_type": "markdown",
   "id": "955508c2",
   "metadata": {},
   "source": [
    "### Preparation of workspace"
   ]
  },
  {
   "cell_type": "code",
   "execution_count": null,
   "id": "dbc7858f",
   "metadata": {},
   "outputs": [],
   "source": [
    "clean = True  # Set to True to remove existing directories\n",
    "current_dir = Path.cwd().absolute()\n",
    "\n",
    "for task in ['TASK_0', 'TASK_0b', 'TASK_0c', 'TASK_2', 'TASK_3', 'TASK_4', 'TASK_free']:\n",
    "    task_dir = current_dir / task\n",
    "\n",
    "    if task_dir.exists():\n",
    "        if clean:\n",
    "            shutil.rmtree(task_dir)  # This will remove the directory and all its contents\n",
    "            print(f\"Removed existing directory: {task_dir}\")\n",
    "            task_dir.mkdir()\n",
    "            print(f\"Directory created: {task_dir}\")\n",
    "    else:\n",
    "        task_dir.mkdir()\n",
    "        print(f\"Directory created: {task_dir}\")"
   ]
  },
  {
   "cell_type": "code",
   "execution_count": null,
   "id": "ee2155a9",
   "metadata": {},
   "outputs": [],
   "source": [
    "pw_exec=Path('/home/jovyan/.conda/envs/quantum-espresso-7.4/bin/pw.x')"
   ]
  },
  {
   "cell_type": "code",
   "execution_count": null,
   "id": "35e39258",
   "metadata": {},
   "outputs": [],
   "source": [
    "# Get the Bohr radius\n",
    "bohr_radius = physical_constants['Bohr radius'][0]/angstrom"
   ]
  },
  {
   "cell_type": "code",
   "execution_count": null,
   "id": "66add894",
   "metadata": {},
   "outputs": [],
   "source": [
    "def view_structure(structure,myvec=[]):\n",
    "    t = nv.ASEStructure(structure)\n",
    "    w = nv.NGLWidget(t, gui=True)\n",
    "    w.add_unitcell()\n",
    "    w.add_ball_and_stick()\n",
    "    w.add_representation('label',label_type='atomindex',color='black')\n",
    "    w.add_representation('spacefill',selection=myvec,color=\"blue\",radius=0.5)\n",
    "    return w"
   ]
  },
  {
   "cell_type": "markdown",
   "id": "703d891b",
   "metadata": {},
   "source": [
    "### Function to convert into a multiline string the atomic coordinates and the cell of an ASE Atoms object"
   ]
  },
  {
   "cell_type": "code",
   "execution_count": null,
   "id": "05334c27",
   "metadata": {},
   "outputs": [],
   "source": [
    "def atoms2string(atoms):\n",
    "    lines=[]\n",
    "    for atom in atoms:\n",
    "        symbol = atom.symbol  # Get the atomic symbol\n",
    "        scaled_position = atoms.get_scaled_positions()[atom.index]  # Get the scaled position of the current atom\n",
    "        # Format the symbol and scaled coordinates into a string and add it to the lines list\n",
    "        lines.append(f\"{symbol} {scaled_position[0]} {scaled_position[1]} {scaled_position[2]}\")\n",
    "\n",
    "    # Join the lines into a single string with each line separated by a newline character\n",
    "    positions = \"\\n\".join(lines)\n",
    "    lines=[]\n",
    "    for vector in atoms.get_cell():\n",
    "        lines.append(f\"{vector[0]} {vector[1]} {vector[2]}\")\n",
    "    cellvectors = \"\\n\".join(lines)\n",
    "    return cellvectors ,positions"
   ]
  },
  {
   "cell_type": "markdown",
   "id": "10455825",
   "metadata": {},
   "source": [
    "### Function to extract from a QE output the total energy"
   ]
  },
  {
   "cell_type": "code",
   "execution_count": null,
   "id": "c1996d2f",
   "metadata": {},
   "outputs": [],
   "source": [
    "def parse_energy(pw_out):\n",
    "    pattern = r\"!\\s+total energy\\s+=\\s+(-?\\d+\\.\\d+)\"\n",
    "    energies = re.findall(pattern, pw_out)\n",
    "    return float(energies[-1])"
   ]
  },
  {
   "cell_type": "markdown",
   "id": "e71a94c9",
   "metadata": {},
   "source": [
    "### Function responsible for parsing the xml file output of QE. Reads the xml file following the provided path and retrieves the Fermi energy, the k-points,  the KS eigenvalues needed to plot the bands as well as the recirocal lattice vectors in units of $2\\pi/a$"
   ]
  },
  {
   "cell_type": "code",
   "execution_count": null,
   "id": "395ca632",
   "metadata": {},
   "outputs": [],
   "source": [
    "def read_qe_xml(xml_file):\n",
    "    \"\"\"\n",
    "    Reads data from QE bands calculations (new XML)\n",
    "    Returns:\n",
    "      - kpts[i_kpt] = [kx, ky, kz] in [2*pi/a]\n",
    "      - eigvals[i_kpt, i_band] in [eV]\n",
    "      - fermi_en in [eV]\n",
    "    \"\"\"\n",
    "\n",
    "    data_file_xml = et.parse(xml_file)\n",
    "    data_file_root = data_file_xml.getroot()\n",
    "\n",
    "    output_node = data_file_root.find('output')\n",
    "\n",
    "    # Find fermi\n",
    "    band_node = output_node.find('band_structure')\n",
    "    fermi_en = float(band_node.find('fermi_energy').text)*27.21138602\n",
    "    lsda = band_node.find('spinorbit').text\n",
    "\n",
    "    kpts = []\n",
    "    eigvals = []\n",
    "\n",
    "    for kpt in band_node.findall(\"ks_energies\"):\n",
    "        k_coords = np.array(kpt.find('k_point').text.split(), dtype=float)\n",
    "        kpts.append(k_coords)\n",
    "\n",
    "        eig_vals = np.array(kpt.find('eigenvalues').text.split(), dtype=float)\n",
    "        eigvals.append(eig_vals*27.21138602)\n",
    "    kpts = np.array(kpts)\n",
    "    eigvals = np.array(eigvals)\n",
    "    \n",
    "    basis_set = output_node.find('basis_set')\n",
    "    b1 = np.array(list(map(float, basis_set.find('reciprocal_lattice/b1').text.strip().split())))\n",
    "    b2 = np.array(list(map(float, basis_set.find('reciprocal_lattice/b2').text.strip().split())))\n",
    "    b3 = np.array(list(map(float, basis_set.find('reciprocal_lattice/b3').text.strip().split())))\n",
    "        \n",
    "    return {'kpts':kpts,'eigvals': eigvals,'fermi_en': fermi_en,'rep_lat':np.array([b1,b2,b3]),\n",
    "            'alat':float(output_node.find('atomic_structure').attrib['alat'])}"
   ]
  },
  {
   "cell_type": "code",
   "execution_count": null,
   "id": "5f3bcce9",
   "metadata": {},
   "outputs": [],
   "source": [
    "def add_x_tick(x_ticks,label,dkm_sum):\n",
    "    if label in x_ticks:\n",
    "        x_ticks[label+' ']=dkm_sum\n",
    "    else:\n",
    "        x_ticks[label]=dkm_sum\n",
    "    return x_ticks\n",
    "    "
   ]
  },
  {
   "cell_type": "markdown",
   "id": "ededf921",
   "metadata": {},
   "source": [
    "### Function to retrieve from the eigenvalues the ones belonging to a specific k-point that is provided in crystal coordinates"
   ]
  },
  {
   "cell_type": "code",
   "execution_count": null,
   "id": "6811de78",
   "metadata": {},
   "outputs": [],
   "source": [
    "def get_eig_k(kpt_cryst,rep_lat,kpts,eigvals):\n",
    "    # Check for closeness\n",
    "    matching = np.all(np.isclose(kpts, kpt_cryst@rep_lat, atol=0.001), axis=1)\n",
    "\n",
    "    # Find indices where all elements are close\n",
    "    index = np.where(matching)[0]\n",
    "    return eigvals[index][0]"
   ]
  },
  {
   "cell_type": "markdown",
   "id": "e7dc0d9c",
   "metadata": {},
   "source": [
    "### This function plots the eigenvalues wrt kpoints producing a bandplot. The path labels provided in input are used."
   ]
  },
  {
   "cell_type": "code",
   "execution_count": null,
   "id": "460b0315",
   "metadata": {},
   "outputs": [],
   "source": [
    "def plot_bands(bands_path,kpts,eigvals,fermi_en,emin,emax):\n",
    "    k_arr = [0.0]\n",
    "\n",
    "    dkm_sum = 0.0\n",
    "    x_ticks = {bands_path[0]:0}\n",
    "    ticks_done=1\n",
    "    dk_old = kpts[1]-kpts[0]\n",
    "    \n",
    "    for i_k in range(1, len(kpts)):\n",
    "        k0 = kpts[i_k-1]\n",
    "        k1 = kpts[i_k]\n",
    "        dk = k1-k0\n",
    "        #update k-point label if change of direction befroe updating dkm_sum\n",
    "        if not np.allclose(dk,dk_old,atol=0.001):\n",
    "            add_x_tick(x_ticks,bands_path[ticks_done],dkm_sum)\n",
    "            ticks_done+=1\n",
    "        dk_old = dk\n",
    "        dkm_sum += np.linalg.norm(dk)\n",
    "        k_arr.append(dkm_sum)\n",
    "        \n",
    "    add_x_tick(x_ticks,bands_path[ticks_done],dkm_sum)\n",
    "\n",
    "    plt.figure(figsize=(6, 10))\n",
    "    plt.plot(k_arr, eigvals-fermi_en, 'b', lw=2.0)\n",
    "    plt.xlim([0.0, np.max(k_arr)])\n",
    "    #plt.ylim([np.min(eigvals-fermi_en), np.max(eigvals-fermi_en)])\n",
    "    plt.ylim(emin, emax)\n",
    "    plt.xticks(list(x_ticks.values()), list(x_ticks.keys()))\n",
    "    for xtick in list(x_ticks.values()):\n",
    "        plt.axvline(xtick, color='gray')\n",
    "    plt.ylabel(\"energy [eV]\")\n",
    "    plt.show()\n",
    "#plt.savefig(\"./task3_bands.png\", dpi=200)"
   ]
  },
  {
   "cell_type": "markdown",
   "id": "ff184f17",
   "metadata": {},
   "source": [
    "### The funcion executes the pw executable (path provided by pw_exec) using the input string \"pw_in\". The output file and standrd QE files are written in workdir"
   ]
  },
  {
   "cell_type": "code",
   "execution_count": null,
   "id": "9c24062e",
   "metadata": {},
   "outputs": [],
   "source": [
    "def run_pw(pw_in, pw_exec, workdir, file_out,live=False):\n",
    "    workdir = Path(workdir)\n",
    "    file_out = workdir / file_out\n",
    "    pw_exec = Path(pw_exec)\n",
    "    pw_inp = workdir / 'pw.inp'\n",
    "    \n",
    "    # Ensure workdir exists\n",
    "    workdir.mkdir(parents=True, exist_ok=True)\n",
    "\n",
    "    # Clean previous calculation data for SCF calculations\n",
    "    if 'bands' not in pw_in:\n",
    "        (workdir / 'mycalc.xml').unlink(missing_ok=True)\n",
    "        shutil.rmtree(workdir / 'mycalc.save', ignore_errors=True)\n",
    "\n",
    "    # Write pw_in to the input file\n",
    "    pw_inp.write_text(pw_in)\n",
    "\n",
    "    # Open the output file and run the command\n",
    "    with file_out.open('w') as output_file:\n",
    "        process = subprocess.Popen(\n",
    "            [pw_exec, '-in', str(pw_inp)], # Pass input file as argument\n",
    "            stdout=subprocess.PIPE,         # Capture stdout\n",
    "            stderr=subprocess.STDOUT,       # Merge stderr with stdout\n",
    "            text=True\n",
    "        )\n",
    "\n",
    "        output = []\n",
    "        for line in process.stdout:\n",
    "            if(live):\n",
    "                print(line, end='')            # Optionally print to console\n",
    "            output_file.write(line)        # Write to file\n",
    "            output.append(line)\n",
    "\n",
    "        process.wait()\n",
    "\n",
    "    # Return the full output as a string\n",
    "    return ''.join(output)"
   ]
  },
  {
   "cell_type": "markdown",
   "id": "8ad47c52",
   "metadata": {},
   "source": [
    "### We use this template for QE input to compute the equilibrium charge density and the band structure. Depending on the type of calculation, the set of k-points changes from a 3D grid (scf calculation) to a 1D path (bandstructure)."
   ]
  },
  {
   "cell_type": "code",
   "execution_count": null,
   "id": "71a16d1a",
   "metadata": {},
   "outputs": [],
   "source": [
    "def pw_input(atoms,calc_type,kpt_mesh,workdir,ecutwfc,ecutrho):\n",
    "    cell,positions = atoms2string(atoms)\n",
    "    automatic='automatic'\n",
    "    kpts = kpt_mesh\n",
    "    if calc_type=='bands':\n",
    "        automatic='crystal'\n",
    "        kpoints=kpt_mesh.split() # splits 'GWXL 100' into 'GWXL' , 100\n",
    "        path = atoms.cell.bandpath(kpoints[0], npoints=int(kpoints[1])) \n",
    "        \n",
    "        kpts=f\"{kpoints[1]}\\n\"\n",
    "        kpts+='\\n'.join(f\"{kpt[0]:.8f} {kpt[1]:.8f} {kpt[2]:.8f} 1\" for kpt in path.kpts )\n",
    "    pw_inp=f\"\"\"&control\n",
    "verbosity='high'\n",
    "calculation='{calc_type}'\n",
    "prefix='mycalc'\n",
    "pseudo_dir = '{workdir}/../'\n",
    "outdir='{workdir}/'\n",
    "/\n",
    "&system\n",
    "ibrav=0\n",
    "nat={len(atoms)},\n",
    "ntyp=1,\n",
    "ecutwfc = {ecutwfc},\n",
    "ecutrho = {ecutrho},\n",
    "occupations='smearing',\n",
    "degauss=0.001\n",
    "/\n",
    "&electrons\n",
    "conv_thr = 1.0e-8\n",
    "mixing_beta = 0.5\n",
    "/\n",
    "&ions\n",
    "/\n",
    "&cell\n",
    "/\n",
    "ATOMIC_SPECIES\n",
    "  Si  28.086  Si.pbesol-n-rrkjus_psl.1.0.0.UPF\n",
    "ATOMIC_POSITIONS  crystal\n",
    "{positions}\n",
    "K_POINTS {automatic}\n",
    "{kpts}\n",
    "CELL_PARAMETERS angstrom\n",
    "{cell}\n",
    "\"\"\"\n",
    "    return pw_inp "
   ]
  },
  {
   "cell_type": "markdown",
   "id": "0397d432",
   "metadata": {},
   "source": [
    "## Cutoff setting for all tasks. Adapt if you use other elements (e.g. Carbon)"
   ]
  },
  {
   "cell_type": "code",
   "execution_count": null,
   "id": "2c99bcd6",
   "metadata": {},
   "outputs": [],
   "source": [
    "ecutwfc=30\n",
    "ecutrho=240"
   ]
  },
  {
   "cell_type": "markdown",
   "id": "e2bc21f1",
   "metadata": {},
   "source": [
    "## TASK_0: SCF for Si bulk in conventional cell (cubic, 8 atoms), $\\Gamma$  point only. We check total energy and eigenvalues."
   ]
  },
  {
   "cell_type": "code",
   "execution_count": null,
   "id": "13b8162e",
   "metadata": {},
   "outputs": [],
   "source": [
    "crystal = bulk('Si', 'diamond', a=5.43, cubic=True)"
   ]
  },
  {
   "cell_type": "code",
   "execution_count": null,
   "id": "718b9442",
   "metadata": {},
   "outputs": [],
   "source": [
    "workdir=current_dir / 'TASK_0'"
   ]
  },
  {
   "cell_type": "code",
   "execution_count": null,
   "id": "fc76a82b",
   "metadata": {},
   "outputs": [],
   "source": [
    "pw_in=pw_input(crystal,'scf','1 1 1 0 0 0',workdir,ecutwfc,ecutrho)"
   ]
  },
  {
   "cell_type": "code",
   "execution_count": null,
   "id": "a6e1de69",
   "metadata": {},
   "outputs": [],
   "source": [
    "#print(pw_in)"
   ]
  },
  {
   "cell_type": "code",
   "execution_count": null,
   "id": "da6445bd",
   "metadata": {},
   "outputs": [],
   "source": [
    "scf_out0 = run_pw(pw_in,pw_exec,workdir,'pw.out',live=True)"
   ]
  },
  {
   "cell_type": "code",
   "execution_count": null,
   "id": "3b601978",
   "metadata": {},
   "outputs": [],
   "source": [
    "ene0 = parse_energy(scf_out0)"
   ]
  },
  {
   "cell_type": "code",
   "execution_count": null,
   "id": "2ca19160",
   "metadata": {},
   "outputs": [],
   "source": [
    "#print(scf_out0)"
   ]
  },
  {
   "cell_type": "markdown",
   "id": "cebd3a89",
   "metadata": {},
   "source": [
    "## TASK_0b: we repeat the calculation above using a non shifted 2x2x2 grid of k-points"
   ]
  },
  {
   "cell_type": "code",
   "execution_count": null,
   "id": "d629706e",
   "metadata": {},
   "outputs": [],
   "source": [
    "workdir=current_dir / 'TASK_0b'"
   ]
  },
  {
   "cell_type": "code",
   "execution_count": null,
   "id": "5ca9ef12",
   "metadata": {},
   "outputs": [],
   "source": [
    "pw_in=pw_input(crystal,'scf','2 2 2 0 0 0',workdir,ecutwfc,ecutrho)"
   ]
  },
  {
   "cell_type": "code",
   "execution_count": null,
   "id": "ae4043d2",
   "metadata": {},
   "outputs": [],
   "source": [
    "scf_out0b = run_pw(pw_in,pw_exec,workdir,'pw.out')"
   ]
  },
  {
   "cell_type": "code",
   "execution_count": null,
   "id": "08ca1ed4",
   "metadata": {},
   "outputs": [],
   "source": [
    "ene0b = parse_energy(scf_out0b)"
   ]
  },
  {
   "cell_type": "markdown",
   "id": "ce4a4b57",
   "metadata": {},
   "source": [
    "## TASK_0c: we repeat the calculation above using a  shifted 2x2x2 grid of k-points"
   ]
  },
  {
   "cell_type": "code",
   "execution_count": null,
   "id": "be3fc096",
   "metadata": {},
   "outputs": [],
   "source": [
    "workdir=current_dir / 'TASK_0b'"
   ]
  },
  {
   "cell_type": "code",
   "execution_count": null,
   "id": "aeacfb57",
   "metadata": {},
   "outputs": [],
   "source": [
    "pw_in=pw_input(crystal,'scf','2 2 2 1 1 1',workdir,ecutwfc,ecutrho)"
   ]
  },
  {
   "cell_type": "code",
   "execution_count": null,
   "id": "fbd755a5",
   "metadata": {},
   "outputs": [],
   "source": [
    "scf_out0c = run_pw(pw_in,pw_exec,workdir,'pw.out')"
   ]
  },
  {
   "cell_type": "code",
   "execution_count": null,
   "id": "6a6bc7ad",
   "metadata": {},
   "outputs": [],
   "source": [
    "ene0c = parse_energy(scf_out0c)"
   ]
  },
  {
   "cell_type": "markdown",
   "id": "8dfad9b9",
   "metadata": {},
   "source": [
    "## TASK_2 now we use a 2x2x2 supercell and only the $\\Gamma$ k-point  (In the lecture notes this example is done with a 3x3x3 supercell to compare with TASK_1 here we compare with TASK_0b)"
   ]
  },
  {
   "cell_type": "code",
   "execution_count": null,
   "id": "c80b2775",
   "metadata": {},
   "outputs": [],
   "source": [
    "workdir=current_dir / 'TASK_2'"
   ]
  },
  {
   "cell_type": "code",
   "execution_count": null,
   "id": "8d1a8888",
   "metadata": {},
   "outputs": [],
   "source": [
    "crystal = bulk('Si', 'diamond', a=5.43, cubic=True).repeat((2,2,2))"
   ]
  },
  {
   "cell_type": "code",
   "execution_count": null,
   "id": "bf954960",
   "metadata": {},
   "outputs": [],
   "source": [
    "pw_in=pw_input(crystal,'scf','1 1 1 0 0 0',workdir,ecutwfc,ecutrho)"
   ]
  },
  {
   "cell_type": "code",
   "execution_count": null,
   "id": "6fca372e",
   "metadata": {},
   "outputs": [],
   "source": [
    "scf_out2 = run_pw(pw_in,pw_exec,workdir,'pw.out')"
   ]
  },
  {
   "cell_type": "code",
   "execution_count": null,
   "id": "39ad8274",
   "metadata": {},
   "outputs": [],
   "source": [
    "ene2 = parse_energy(scf_out2)"
   ]
  },
  {
   "cell_type": "code",
   "execution_count": null,
   "id": "ed7470bd",
   "metadata": {},
   "outputs": [],
   "source": [
    "print(f\"Energy single cell 2x2x2 ptk: {ene0b} Energy/8 2x2x2 cell $\\Gamma$ poit only: {ene2/8}\" )"
   ]
  },
  {
   "cell_type": "markdown",
   "id": "7de3230f",
   "metadata": {},
   "source": [
    "## TASK_3 we use the primitive cell for bulk silicon, we perform an accurate scf (5x5x5 grid of k-points) and we compute the bands starting from the accurate scf."
   ]
  },
  {
   "cell_type": "code",
   "execution_count": null,
   "id": "ab2e484b",
   "metadata": {},
   "outputs": [],
   "source": [
    "workdir=current_dir / 'TASK_3'"
   ]
  },
  {
   "cell_type": "code",
   "execution_count": null,
   "id": "7e36024a",
   "metadata": {},
   "outputs": [],
   "source": [
    "crystal = bulk('Si', 'diamond', a=5.43)"
   ]
  },
  {
   "cell_type": "code",
   "execution_count": null,
   "id": "545e0ef0",
   "metadata": {},
   "outputs": [],
   "source": [
    "pw_in=pw_input(crystal,'scf','5 5 5 1 1 1',workdir,ecutwfc,ecutrho)"
   ]
  },
  {
   "cell_type": "code",
   "execution_count": null,
   "id": "7cbd0f7b",
   "metadata": {},
   "outputs": [],
   "source": [
    "scf_out3 = run_pw(pw_in,pw_exec,workdir,'pw.out')"
   ]
  },
  {
   "cell_type": "code",
   "execution_count": null,
   "id": "408acc00",
   "metadata": {},
   "outputs": [],
   "source": [
    "bands_path='LGXWL'\n",
    "npoints=50\n",
    "pw_inb=pw_input(crystal,'bands',bands_path+' '+str(npoints),workdir,ecutwfc,ecutrho)"
   ]
  },
  {
   "cell_type": "code",
   "execution_count": null,
   "id": "8ae29030",
   "metadata": {},
   "outputs": [],
   "source": [
    "scf_out3b = run_pw(pw_inb,pw_exec,workdir,'bands.out')"
   ]
  },
  {
   "cell_type": "code",
   "execution_count": null,
   "id": "54f40469",
   "metadata": {},
   "outputs": [],
   "source": [
    "xml_data = read_qe_xml(f\"{workdir}/mycalc.xml\")\n",
    "plot_bands('LGXWL',xml_data['kpts'], xml_data['eigvals'], xml_data['fermi_en'],-13,4)"
   ]
  },
  {
   "cell_type": "markdown",
   "id": "1b0dcab4",
   "metadata": {},
   "source": [
    "## TASK_4 we repeat the calculation above with an unphisically large lattice parameter"
   ]
  },
  {
   "cell_type": "code",
   "execution_count": null,
   "id": "9c09e521",
   "metadata": {},
   "outputs": [],
   "source": [
    "workdir=current_dir / 'TASK_4'\n",
    "crystal = bulk('Si', 'diamond', a=15)\n",
    "pw_in=pw_input(crystal,'scf','2 2 2 1 1 1',workdir,ecutwfc,ecutrho)\n",
    "scf_out4 = run_pw(pw_in,pw_exec,workdir,'pw.out')\n",
    "bands_path='LGXWL'\n",
    "npoints=50\n",
    "pw_inb=pw_input(crystal,'bands',bands_path+' '+str(npoints),workdir,ecutwfc,ecutrho)\n",
    "scf_out4b = run_pw(pw_inb,pw_exec,workdir,'bands.out')"
   ]
  },
  {
   "cell_type": "code",
   "execution_count": null,
   "id": "4bae00b0",
   "metadata": {},
   "outputs": [],
   "source": [
    "xml_data = read_qe_xml(f\"{workdir}/mycalc.xml\")\n",
    "plot_bands('LGXWL',xml_data['kpts'], xml_data['eigvals'], xml_data['fermi_en'],-13,4)"
   ]
  },
  {
   "cell_type": "markdown",
   "id": "23938815",
   "metadata": {},
   "source": [
    "# Playing around: convergence test, cell/geometry relaxation"
   ]
  },
  {
   "cell_type": "markdown",
   "id": "0e0053a4",
   "metadata": {},
   "source": [
    "### Let's check for example the bandgap. For bulk Si  the top of the valence band is at $\\Gamma$ and the bottom of the conduction band is close to X (we take X for simplicity)."
   ]
  },
  {
   "cell_type": "code",
   "execution_count": null,
   "id": "05b3b0a6",
   "metadata": {},
   "outputs": [],
   "source": [
    "path = crystal.cell.bandpath('GX', npoints=2)"
   ]
  },
  {
   "cell_type": "code",
   "execution_count": null,
   "id": "396619a1",
   "metadata": {},
   "outputs": [],
   "source": [
    "path.kpts"
   ]
  },
  {
   "cell_type": "markdown",
   "id": "20608436",
   "metadata": {},
   "source": [
    "### We need the vectors of the reciprocal lattice from the bands output:"
   ]
  },
  {
   "cell_type": "code",
   "execution_count": null,
   "id": "6f81a8e4",
   "metadata": {},
   "outputs": [],
   "source": [
    "xml_data = read_qe_xml(f\"{workdir}/mycalc.xml\")\n",
    "rep_lat = xml_data['rep_lat']\n",
    "eigvals=xml_data['eigvals']\n",
    "kpts=xml_data['kpts']"
   ]
  },
  {
   "cell_type": "code",
   "execution_count": null,
   "id": "bfad3604",
   "metadata": {},
   "outputs": [],
   "source": [
    "eig_G = get_eig_k(np.array([0. , 0. , 0. ]),rep_lat,kpts,eigvals)"
   ]
  },
  {
   "cell_type": "code",
   "execution_count": null,
   "id": "db0015ac",
   "metadata": {},
   "outputs": [],
   "source": [
    "eig_X=get_eig_k(np.array([0.5, 0. , 0.5]),rep_lat,kpts,eigvals)"
   ]
  },
  {
   "cell_type": "code",
   "execution_count": null,
   "id": "fa058525",
   "metadata": {},
   "outputs": [],
   "source": [
    "gap = eig_X[4] - eig_G[3]"
   ]
  },
  {
   "cell_type": "code",
   "execution_count": null,
   "id": "569c0e87",
   "metadata": {},
   "outputs": [],
   "source": [
    "gap"
   ]
  },
  {
   "cell_type": "code",
   "execution_count": null,
   "id": "56c3e946",
   "metadata": {},
   "outputs": [],
   "source": [
    "bands_path='GX'\n",
    "npoints=2\n",
    "gaps=[]\n",
    "scf_out=[]\n",
    "bands_out=[]\n",
    "xml_data=[]\n",
    "gap=[]\n",
    "workdir=current_dir / 'TASK_free'\n",
    "crystal = bulk('Si', 'diamond', a=5.43)\n",
    "for sampling in ['1 1 1 0 0 0','2 2 2 0 0 0','2 2 2 1 1 1','5 5 5 1 1 1']:   \n",
    "    pw_in=pw_input(crystal,'scf',sampling,workdir,ecutwfc,ecutrho)\n",
    "    scf_out.append(run_pw(pw_in,pw_exec,workdir,'pw.out'))\n",
    "    pw_inb=pw_input(crystal,'bands',bands_path+' '+str(npoints),workdir,ecutwfc,ecutrho)\n",
    "    bands_out.append(run_pw(pw_inb,pw_exec,workdir,'bands.out'))\n",
    "    xml_data.append(read_qe_xml(f\"{workdir}/mycalc.xml\"))\n",
    "    rep_lat = xml_data[-1]['rep_lat']\n",
    "    eigvals=xml_data[-1]['eigvals']\n",
    "    kpts=xml_data[-1]['kpts']\n",
    "    vbm=get_eig_k(np.array([0. , 0. , 0. ]),rep_lat,kpts,eigvals)[3]\n",
    "    cbm=get_eig_k(np.array([0.5, 0. , 0.5]),rep_lat,kpts,eigvals)[4]\n",
    "    gap.append(cbm - vbm)"
   ]
  },
  {
   "cell_type": "code",
   "execution_count": null,
   "id": "d27d8c24",
   "metadata": {},
   "outputs": [],
   "source": [
    "gap"
   ]
  },
  {
   "cell_type": "markdown",
   "id": "5d00ecd4",
   "metadata": {},
   "source": [
    "### Example of cell (and geometry) optimization"
   ]
  },
  {
   "cell_type": "code",
   "execution_count": null,
   "id": "a29feff1",
   "metadata": {},
   "outputs": [],
   "source": [
    "workdir=current_dir / 'TASK_free'\n",
    "crystal = bulk('Si', 'diamond', a=5.43)\n",
    "pw_in=pw_input(crystal,'vc-relax','5 5 5 1 1 1',workdir,ecutwfc,ecutrho)\n",
    "relax_out = run_pw(pw_in,pw_exec,workdir,'pw.out')"
   ]
  },
  {
   "cell_type": "markdown",
   "id": "ab862cf5",
   "metadata": {},
   "source": [
    "### Extract equilibrium geometry:"
   ]
  },
  {
   "cell_type": "code",
   "execution_count": null,
   "id": "7cdd8655",
   "metadata": {},
   "outputs": [],
   "source": [
    "# Use StringIO to simulate a file\n",
    "#out = io.StringIO(relax_out)\n",
    "\n",
    "# Read from the simulated file into an ASE Atoms object\n",
    "#atoms = read(out, format='espresso-out')"
   ]
  }
 ],
 "metadata": {
  "kernelspec": {
   "display_name": "Python 3 (ipykernel)",
   "language": "python",
   "name": "python3"
  },
  "language_info": {
   "codemirror_mode": {
    "name": "ipython",
    "version": 3
   },
   "file_extension": ".py",
   "mimetype": "text/x-python",
   "name": "python",
   "nbconvert_exporter": "python",
   "pygments_lexer": "ipython3",
   "version": "3.9.13"
  }
 },
 "nbformat": 4,
 "nbformat_minor": 5
}
