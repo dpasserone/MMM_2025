{
 "cells": [
  {
   "cell_type": "markdown",
   "metadata": {},
   "source": [
    "## We will use the [pythtb](https://www.physics.rutgers.edu/pythtb/) library to compute the bandstructure and DOS of graphene and some  derived nanomaterials. Please read the [documentation](https://www.physics.rutgers.edu/pythtb/)"
   ]
  },
  {
   "cell_type": "code",
   "execution_count": null,
   "metadata": {},
   "outputs": [],
   "source": [
    "from IPython import display"
   ]
  },
  {
   "cell_type": "code",
   "execution_count": null,
   "metadata": {},
   "outputs": [],
   "source": [
    "from pythtb import * # import TB model class\n",
    "import numpy as np\n",
    "import matplotlib.pyplot as plt\n",
    "\n",
    "def gaussian(x_arr, x, fwhm):\n",
    "    sigma = fwhm/2.355\n",
    "    return 1/(sigma*np.sqrt(2*np.pi))*np.exp(-0.5*((x_arr-x)/sigma)**2)\n",
    "\n",
    "def calc_dos(evals, fwhm=0.1):\n",
    "    e_arr = np.arange(-8.0, 8.0, 0.01)\n",
    "    dos = np.zeros(len(e_arr))\n",
    "    for e in evals.flatten():\n",
    "        dos += gaussian(e_arr, e, fwhm)\n",
    "    return e_arr, dos"
   ]
  },
  {
   "cell_type": "markdown",
   "metadata": {},
   "source": [
    "## We will include only $p_z$ orbitals in the model and onluy nearest neighbor hopping $t=-2.8 eV$"
   ]
  },
  {
   "cell_type": "markdown",
   "metadata": {},
   "source": [
    "# Graphene"
   ]
  },
  {
   "cell_type": "code",
   "execution_count": null,
   "metadata": {},
   "outputs": [],
   "source": [
    "# define lattice vectors\n",
    "lat=[[1.0,0.0],[-0.5,np.sqrt(3.0)/2.0]]\n",
    "\n",
    "# define coordinates of orbitals\n",
    "orb=[[0,0],[1./3.,2./3.]]\n",
    "\n",
    "# make two dimensional tight-binding graphene model\n",
    "my_model=tb_model(2,2,lat,orb)\n",
    "\n",
    "# nearest neighbor hopping parameter\n",
    "t=-2.8\n",
    "\n",
    "# set hoppings (one for each connected pair of orbitals)\n",
    "# (amplitude, i, j, [lattice vector to cell containing j])\n",
    "my_model.set_hop(t, 0, 1, [ 0, 0])\n",
    "my_model.set_hop(t, 1, 0, [ 0, 1])\n",
    "my_model.set_hop(t, 1, 0, [ 1, 1])"
   ]
  },
  {
   "cell_type": "code",
   "execution_count": null,
   "metadata": {},
   "outputs": [],
   "source": [
    "display.Image(\"./unit_cell.png\")"
   ]
  },
  {
   "cell_type": "code",
   "execution_count": null,
   "metadata": {},
   "outputs": [],
   "source": [
    "#tb_model?\n",
    "#tb_model.set_hop?"
   ]
  },
  {
   "cell_type": "markdown",
   "metadata": {},
   "source": [
    "### The goal in th ecell below is to obtain a well converged DOS -> 3D sampling of BZ"
   ]
  },
  {
   "cell_type": "code",
   "execution_count": null,
   "metadata": {},
   "outputs": [],
   "source": [
    "# Solve for a uniform K-mesh\n",
    "\n",
    "kmesh=my_model.k_uniform_mesh([200, 200])\n",
    "evals_dos=my_model.solve_all(kmesh)\n",
    "\n",
    "e_arr, dos = calc_dos(evals_dos)"
   ]
  },
  {
   "cell_type": "markdown",
   "metadata": {},
   "source": [
    "### Here, instead, we want the bandstructure -> 1D sampling along high symmetry lines"
   ]
  },
  {
   "cell_type": "code",
   "execution_count": null,
   "metadata": {},
   "outputs": [],
   "source": [
    "# Solve for a specific K-path\n",
    "\n",
    "# generate list of k-points following a segmented path in the BZ\n",
    "# list of nodes (high-symmetry points) that will be connected\n",
    "# Gamma, M, K, Gamma\n",
    "path=[[0.,0.],[.5,.0], [1./3.,1./3.],[0.,0.]]\n",
    "# labels of the nodes\n",
    "label=(r'$\\Gamma $',r'$M$', r'$K$', r'$\\Gamma $')\n",
    "# total number of interpolated k-points along the path\n",
    "nk=121\n",
    "\n",
    "(k_vec,k_dist,k_node) = my_model.k_path(path,nk, report=False)\n",
    "\n",
    "# solve the model on this mesh\n",
    "evals_band=my_model.solve_all(k_vec)"
   ]
  },
  {
   "cell_type": "code",
   "execution_count": null,
   "metadata": {},
   "outputs": [],
   "source": [
    "# PLOTTING\n",
    "\n",
    "fig, axs = plt.subplots(1, 2, sharey=True)\n",
    "\n",
    "# Plot bands\n",
    "axs[0].set_xlim(k_node[0],k_node[-1])\n",
    "axs[0].set_xticks(k_node)\n",
    "axs[0].set_xticklabels(label)\n",
    "for n in range(len(k_node)):\n",
    "    axs[0].axvline(x=k_node[n],linewidth=0.5, color='k')\n",
    "axs[0].set_ylabel(\"energy\")\n",
    "axs[0].plot(k_dist,evals_band[0], 'blue')\n",
    "axs[0].plot(k_dist,evals_band[1], 'blue')\n",
    "\n",
    "# Plot DOS\n",
    "\n",
    "axs[1].fill_betweenx(e_arr, dos)\n",
    "\n",
    "plt.show()"
   ]
  },
  {
   "cell_type": "markdown",
   "metadata": {},
   "source": [
    "# Graphene nanoribbon"
   ]
  },
  {
   "cell_type": "code",
   "execution_count": null,
   "metadata": {},
   "outputs": [],
   "source": [
    "display.Image(\"./gnrs.png\")"
   ]
  },
  {
   "cell_type": "code",
   "execution_count": null,
   "metadata": {},
   "outputs": [],
   "source": [
    "# define lattice vectors\n",
    "#lat=[[1.0,0.0],[0.5,np.sqrt(3.0)/2.0]]\n",
    "lat=[[1.0,0.0],[-0.5,np.sqrt(3.0)/2.0]]\n",
    "# define coordinates of orbitals\n",
    "#orb=[[1./3.,1./3.],[2./3.,2./3.]]\n",
    "orb=[[0,0],[1./3.,2./3.]]\n",
    "\n",
    "# make two dimensional tight-binding graphene model\n",
    "my_model=tb_model(2,2,lat,orb)\n",
    "\n",
    "t=-2.8\n",
    "\n",
    "# set hoppings (one for each connected pair of orbitals)\n",
    "# (amplitude, i, j, [lattice vector to cell containing j])\n",
    "my_model.set_hop(t, 0, 1, [ 0, 0])\n",
    "my_model.set_hop(t, 1, 0, [ 0, 1])\n",
    "my_model.set_hop(t, 1, 0, [ 1, 1])\n",
    "\n",
    "# make a graphene supercell\n",
    "sc_model=my_model.make_supercell([[4,0],[1,2]])\n",
    "# 4*a1 + 0*a2 , 1*a1 + 2*a2\n",
    "#\n",
    "\n",
    "# make a 1d cutout\n",
    "one_dim_model=sc_model.cut_piece(1,0,glue_edgs=False)\n",
    "\n",
    "(fig,ax)=one_dim_model.visualize(0,1)"
   ]
  },
  {
   "cell_type": "code",
   "execution_count": null,
   "metadata": {},
   "outputs": [],
   "source": [
    "# cut 2 extra orbitals to create the 7agnr\n",
    "gnr_model = one_dim_model.remove_orb([14, 15])\n",
    "\n",
    "# visualize slab unit cell\n",
    "(fig,ax)=gnr_model.visualize(0,1)"
   ]
  },
  {
   "cell_type": "code",
   "execution_count": null,
   "metadata": {},
   "outputs": [],
   "source": [
    "#tb_model.cut_piece?"
   ]
  },
  {
   "cell_type": "code",
   "execution_count": null,
   "metadata": {},
   "outputs": [],
   "source": [
    "display.Image(\"./7AGNR.png\",width=400)"
   ]
  },
  {
   "cell_type": "code",
   "execution_count": null,
   "metadata": {},
   "outputs": [],
   "source": [
    "#my_model.make_supercell?"
   ]
  },
  {
   "cell_type": "code",
   "execution_count": null,
   "metadata": {},
   "outputs": [],
   "source": [
    "#sc_model.cut_piece?"
   ]
  },
  {
   "cell_type": "code",
   "execution_count": null,
   "metadata": {},
   "outputs": [],
   "source": [
    "kmesh=gnr_model.k_uniform_mesh([100])\n",
    "evals=gnr_model.solve_all(kmesh)\n",
    "\n",
    "e_arr, dos = calc_dos(evals, 0.2)"
   ]
  },
  {
   "cell_type": "code",
   "execution_count": null,
   "metadata": {},
   "outputs": [],
   "source": [
    "\n",
    "fig, axs = plt.subplots(1, 2, sharey=True)\n",
    "\n",
    "# Plot bands\n",
    "#axs[0].set_xlim(k_node[0],k_node[-1])\n",
    "#axs[0].set_xticks(k_node)\n",
    "#axs[0].set_xticklabels(label)\n",
    "\n",
    "for i_band in range(len(evals)):\n",
    "    axs[0].plot(kmesh, evals[i_band], 'b-')\n",
    "    \n",
    "axs[0].set_ylabel(\"energy\")\n",
    "axs[0].set_xlim([0, 0.5])\n",
    "\n",
    "# Plot DOS\n",
    "\n",
    "axs[1].fill_betweenx(e_arr, dos)\n",
    "\n",
    "plt.show()"
   ]
  },
  {
   "cell_type": "markdown",
   "metadata": {},
   "source": [
    "# Graphene nanoflake"
   ]
  },
  {
   "cell_type": "code",
   "execution_count": null,
   "metadata": {},
   "outputs": [],
   "source": [
    "\n",
    "# define lattice vectors\n",
    "lat=[[1.0,0.0],[0.5,np.sqrt(3.0)/2.0]]\n",
    "# define coordinates of orbitals\n",
    "orb=[[1./3.,1./3.],[2./3.,2./3.]]\n",
    "\n",
    "# make two dimensional tight-binding graphene model\n",
    "my_model=tb_model(2,2,lat,orb)\n",
    "\n",
    "t=-2.8\n",
    "\n",
    "# set hoppings (one for each connected pair of orbitals)\n",
    "# (amplitude, i, j, [lattice vector to cell containing j])\n",
    "my_model.set_hop(t, 0, 1, [ 0, 0])\n",
    "my_model.set_hop(t, 1, 0, [ 1, 0])\n",
    "my_model.set_hop(t, 1, 0, [ 0, 1])\n",
    "\n",
    "# make the supercell of the model\n",
    "sc_model=my_model.make_supercell([[1,1],[-1,2]],to_home=True)\n",
    "\n",
    "#sc_model.visualize(0, 1)\n",
    "\n",
    "gnr_model=sc_model.cut_piece(3,1,glue_edgs=False)\n",
    "flake_model=gnr_model.cut_piece(3,0,glue_edgs=False)\n",
    "\n",
    "flake_model.visualize(0, 1)"
   ]
  },
  {
   "cell_type": "code",
   "execution_count": null,
   "metadata": {},
   "outputs": [],
   "source": [
    "evals=flake_model.solve_all()"
   ]
  },
  {
   "cell_type": "code",
   "execution_count": null,
   "metadata": {},
   "outputs": [],
   "source": [
    "e_arr = np.arange(-8.0, 8.0, 0.01)\n",
    "dos = np.zeros(len(e_arr))\n",
    "\n",
    "for e in evals:\n",
    "    dos += gaussian(e_arr, e, 0.1)"
   ]
  },
  {
   "cell_type": "code",
   "execution_count": null,
   "metadata": {},
   "outputs": [],
   "source": [
    "# now plot density of states\n",
    "fig, ax = plt.subplots()\n",
    "plt.fill_between(e_arr, dos, lw=2.0)\n",
    "plt.xlim([np.min(e_arr), np.max(e_arr)])\n",
    "plt.ylim([0, np.max(dos)*1.05])\n",
    "ax.set_xlabel(\"Energy [eV]\")\n",
    "ax.set_ylabel(\"Density of states [a.u.]\")\n",
    "# make an PDF figure of a plot\n",
    "fig.tight_layout()\n",
    "#fig.savefig(\"flake.pdf\")\n",
    "#fig.savefig(\"flake.png\", dpi=300)"
   ]
  },
  {
   "cell_type": "code",
   "execution_count": null,
   "metadata": {},
   "outputs": [],
   "source": []
  }
 ],
 "metadata": {
  "kernelspec": {
   "display_name": "Python 3 (ipykernel)",
   "language": "python",
   "name": "python3"
  },
  "language_info": {
   "codemirror_mode": {
    "name": "ipython",
    "version": 3
   },
   "file_extension": ".py",
   "mimetype": "text/x-python",
   "name": "python",
   "nbconvert_exporter": "python",
   "pygments_lexer": "ipython3",
   "version": "3.9.13"
  }
 },
 "nbformat": 4,
 "nbformat_minor": 4
}
