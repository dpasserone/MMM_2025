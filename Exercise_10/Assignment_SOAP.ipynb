{
 "cells": [
  {
   "cell_type": "markdown",
   "id": "48fdbc89",
   "metadata": {},
   "source": [
    "## Create 20 atomic models of a 2x2x2 MAPbI3 containing two water molecules randomly displaced and select 10 according to Farthest Point Sampling"
   ]
  },
  {
   "cell_type": "code",
   "execution_count": null,
   "id": "ea3c7e14",
   "metadata": {},
   "outputs": [],
   "source": [
    "from skmatter.sample_selection import FPS\n",
    "import numpy as np\n",
    "import pandas as pd\n",
    "from numpy.linalg import norm\n",
    "from scipy.spatial.distance import pdist, squareform\n",
    "\n",
    "#from ase.io import read,write\n",
    "from ase.visualize import view,ngl\n",
    "from ase.spacegroup import crystal\n",
    "#from ase.spacegroup import Spacegroup\n",
    "from ase.data import atomic_numbers, atomic_names\n",
    "from ase import Atoms\n",
    "from ase import neighborlist\n",
    "from itertools import product\n",
    "\n",
    "import nglview as nv\n",
    "from ase.build import molecule\n",
    "\n",
    "from rascal.representations import SphericalInvariants\n",
    "#from rascal.models import Kernel"
   ]
  },
  {
   "cell_type": "markdown",
   "id": "a6a001f4",
   "metadata": {},
   "source": [
    "### add missing functions to compute SOAP descriptors checking the notebook TEST_SOAP (points:2)"
   ]
  },
  {
   "cell_type": "code",
   "execution_count": null,
   "id": "f9d29b49",
   "metadata": {},
   "outputs": [],
   "source": [
    "..."
   ]
  },
  {
   "cell_type": "code",
   "execution_count": null,
   "id": "6b4fb562",
   "metadata": {},
   "outputs": [],
   "source": [
    "def view_structure(structure,myvec=[]):\n",
    "    t = nv.ASEStructure(structure)\n",
    "    w = nv.NGLWidget(t, gui=True)\n",
    "    w.add_unitcell()\n",
    "    w.add_ball_and_stick()\n",
    "    w.add_representation('label',label_type='atomindex',color='black')\n",
    "    w.add_representation('spacefill',selection=myvec,color=\"blue\",radius=0.5)\n",
    "    return w"
   ]
  },
  {
   "cell_type": "code",
   "execution_count": null,
   "id": "88f36e05",
   "metadata": {},
   "outputs": [],
   "source": [
    "MAPbI3=crystal(\n",
    "    symbols=['Pb','I','I','N','C','H','H','H','H'],\n",
    "    basis=[(0.5,0,0),(0.4842,0.25,-0.0562),\n",
    "           (0.1886,0.0147,0.1844),(0.9421,0.75,0.0297),\n",
    "           (0.9372,0.25,0.0575),\n",
    "           (0.9372,0.25,0.1874),(0.8661,0.1701,0.0290),\n",
    "           (0.1275,0.1891,-0.0085),(0.9543,0.75,0.1459)\n",
    "          ],\n",
    "    spacegroup=62,\n",
    "    cellpar=[8.86574, 12.6293, 8.57689, 90, 90, 90])"
   ]
  },
  {
   "cell_type": "code",
   "execution_count": null,
   "id": "b0c7ff51",
   "metadata": {},
   "outputs": [],
   "source": [
    "#create the 2x2x2 supercell from the unit cell\n",
    "supercell_no_h2o=MAPbI3.repeat((2,2,2))"
   ]
  },
  {
   "cell_type": "code",
   "execution_count": null,
   "id": "9c2ef5fa",
   "metadata": {},
   "outputs": [],
   "source": [
    "#ASE instructions to initialize neighbors list\n",
    "cutOff = neighborlist.natural_cutoffs(supercell_no_h2o)\n",
    "nl = neighborlist.NeighborList(cutOff, self_interaction=False, bothways=True)\n",
    "nl.update(supercell_no_h2o)\n",
    "\n",
    "#identify NH3 molecules in the crystal\n",
    "all_N = [atom.index for atom in supercell_no_h2o if atom.symbol == 'N']\n",
    "all_H_of_N = [index for N in all_N for index in nl.get_neighbors(N)[0] if supercell_no_h2o[index].symbol == 'H'  ]\n",
    "all_nh3 = all_N + all_H_of_N"
   ]
  },
  {
   "cell_type": "code",
   "execution_count": null,
   "id": "05120e10",
   "metadata": {},
   "outputs": [],
   "source": [
    "### Loop to generate nsamples=20 structures with random positioning of NH2O=2 water molecules"
   ]
  },
  {
   "cell_type": "code",
   "execution_count": null,
   "id": "cb3bfef9",
   "metadata": {},
   "outputs": [],
   "source": [
    "NH2O=2\n",
    "#dmin and dmax are used to impose some constraints (e.g. distance from N atoms) \n",
    "#on the possible positioning of H2O molecules \n",
    "nsamples=20\n",
    "dmin = 1.5\n",
    "dmax = 2.5\n",
    "orig_h2o=molecule('H2O')\n",
    "#transalte the molecule to have Oxygen in (0,0,0)\n",
    "orig_h2o.translate(-1*orig_h2o.positions[0])\n",
    "samples=[]\n",
    "ns=0\n",
    "while ns < nsamples:\n",
    "    nh2o = 0\n",
    "    print(\"Creating sample \",ns)\n",
    "    supercell = supercell_no_h2o.copy()\n",
    "    while nh2o < NH2O:\n",
    "        h2o = orig_h2o.copy()\n",
    "        oldcell=supercell.copy()\n",
    "        t_vector = np.random.uniform(low=-1,high=1,size=(3))\n",
    "        t_vector = t_vector/np.linalg.norm(t_vector)\n",
    "\n",
    "        #position h2o within 1.5A---3.0A from a N atom\n",
    "        t_vector *= np.random.uniform(low=dmin,high=dmax)\n",
    "        a_random_N = all_N[np.random.randint(low=0,high=len(all_N))]\n",
    "        t_vector += supercell.positions[a_random_N]\n",
    "        \n",
    "        #random rotation of h2o\n",
    "        r_vector = np.random.uniform(low=-1,high=1,size=(3))\n",
    "        r_vector = r_vector/np.linalg.norm(r_vector)\n",
    "        rot_axis=np.random.uniform(low=-1,high=1,size=(3))\n",
    "        rot_axis = rot_axis/np.linalg.norm(rot_axis) \n",
    "        h2o.rotate(np.random.uniform(low=0,high=180),t_vector,center=(0,0,0))\n",
    "        \n",
    "        #position h2o\n",
    "        trial_h2o = h2o.copy()\n",
    "        trial_h2o.translate(t_vector)\n",
    "        supercell=supercell + trial_h2o\n",
    "        natoms=len(supercell) \n",
    "        #O of the added h2o molecule is the third last atom: supercell[-3]\n",
    "        #shortest_O_N_distances=min(supercell.get_distances(supercell[-3].index, all_N, mic=True, vector=False))\n",
    "        discard=False\n",
    "        for ih2o,j in product(range(natoms - 3,natoms), range(natoms-3)) :\n",
    "            if supercell.get_distance(ih2o,j,mic=True,vector=False) < dmin:\n",
    "                discard = True\n",
    "                break\n",
    "        if discard:\n",
    "            supercell = oldcell.copy()\n",
    "        else:\n",
    "            nh2o+=1\n",
    "    ns+=1\n",
    "    samples.append(supercell)"
   ]
  },
  {
   "cell_type": "markdown",
   "id": "b9caf13b",
   "metadata": {},
   "source": [
    "### Explain in few words what we are doing above. This does not look like a Monte Carlo procedure to add H2O molecules, what would we need for implementing MC steps? (points : 2)"
   ]
  },
  {
   "cell_type": "code",
   "execution_count": null,
   "id": "443723e9",
   "metadata": {},
   "outputs": [],
   "source": [
    "for structure in samples:\n",
    "    structure.wrap()\n",
    "    structure.pbc=(1,1,1)"
   ]
  },
  {
   "cell_type": "code",
   "execution_count": null,
   "id": "1c0a6423",
   "metadata": {},
   "outputs": [],
   "source": [
    "hypers = {\n",
    "    \"soap_type\":\"PowerSpectrum\",\n",
    "    \"interaction_cutoff\": 5.0,\n",
    "    \"max_radial\": 6,\n",
    "    \"max_angular\": 6,\n",
    "    \"gaussian_sigma_constant\": 0.4,\n",
    "    \"gaussian_sigma_type\":\"Constant\",\n",
    "    \"cutoff_smooth_width\":0.5,\n",
    "    \"radial_basis\": \"GTO\",\n",
    "    \"cutoff_function_type\": \"ShiftedCosine\",\n",
    "    \"cutoff_function_parameters\":{\"width\": 0.5},\n",
    "    \"global_species\":[1,6,7,53,82]\n",
    "    }\n",
    "soap = SphericalInvariants(**hypers)"
   ]
  },
  {
   "cell_type": "code",
   "execution_count": null,
   "id": "3a031ae5",
   "metadata": {},
   "outputs": [],
   "source": [
    "soap_rep = soap.transform(samples)"
   ]
  },
  {
   "cell_type": "markdown",
   "id": "cdfa1ddc",
   "metadata": {},
   "source": [
    "### Function to perform FPS using distance matrix)"
   ]
  },
  {
   "cell_type": "code",
   "execution_count": null,
   "id": "f1f63091",
   "metadata": {},
   "outputs": [],
   "source": [
    "def FPS(Dmatrix, n=0, idx=None):\n",
    "    \"\"\"\n",
    "        Does Farthest Point Selection on a set of points X\n",
    "        Adapted from a routine by Michele Ceriotti\n",
    "    \"\"\"\n",
    "    N = Dmatrix.shape[0]\n",
    "\n",
    "    # If desired number of points less than or equal to zero,\n",
    "    # select all points\n",
    "    if n <= 0:\n",
    "        n = N\n",
    "\n",
    "    # Initialize arrays to store distances and indices\n",
    "    fps_idxs = np.zeros(n, dtype=np.int32)\n",
    "    d = np.zeros(n)\n",
    "\n",
    "    if idx is None:\n",
    "        # Pick first point at random\n",
    "        idx = np.random.randint(0, N)\n",
    "    fps_idxs[0] = idx\n",
    "\n",
    "    # Compute distance from all points to the first point\n",
    "    d1 = Dmatrix[idx]   #np.linalg.norm(X - X[idx], axis=1)**2\n",
    "    # Loop over the remaining points...\n",
    "    for i in range(1, n):\n",
    "\n",
    "        # Get maximum distance and corresponding point\n",
    "        fps_idxs[i] = np.argmax(d1)\n",
    "        d[i - 1] = np.amax(d1)\n",
    "\n",
    "        # Compute distance from all points to the selected point\n",
    "        d2 =  Dmatrix[fps_idxs[i]]\n",
    "\n",
    "        # Set distances to minimum among the last two selected points\n",
    "        d1 = np.minimum(d1, d2)\n",
    "\n",
    "        if d1.max() == 0.0:\n",
    "            print(\"Only {} FPS Possible\".format(i))\n",
    "            return fps_idxs[:i], d[:i]\n",
    "\n",
    "    return fps_idxs"
   ]
  },
  {
   "cell_type": "markdown",
   "id": "4f3c0039",
   "metadata": {},
   "source": [
    "### explain in few words how we use the distance matrix to do FPS (points: 2)"
   ]
  },
  {
   "cell_type": "code",
   "execution_count": null,
   "id": "40aab8e2",
   "metadata": {},
   "outputs": [],
   "source": []
  },
  {
   "cell_type": "code",
   "execution_count": null,
   "id": "5a0290f2",
   "metadata": {},
   "outputs": [],
   "source": [
    "#compute vector of SOAP features\n",
    "X=...\n",
    "#group SOAP vectors by molecule and compute average kernel\n",
    "avg_soap_samples=...\n",
    "#compute distance matrix (to )\n",
    "DistMat=..."
   ]
  },
  {
   "cell_type": "code",
   "execution_count": null,
   "id": "99c85994",
   "metadata": {},
   "outputs": [],
   "source": [
    "#DistMat.values returns the numpy array for the Distance Matrix that was embedded in a pandas object\n",
    "FPS(DistMat.values,n=10,idx=None)"
   ]
  },
  {
   "cell_type": "code",
   "execution_count": null,
   "id": "4ee4065d",
   "metadata": {},
   "outputs": [],
   "source": [
    "#display DistMat\n",
    "DistMat"
   ]
  },
  {
   "cell_type": "markdown",
   "id": "18da2757",
   "metadata": {},
   "source": [
    "### Check the list of 10 geometries you obtained from FPS and the matrix DistMat. Does the result make sense? (points: 4)"
   ]
  },
  {
   "cell_type": "code",
   "execution_count": null,
   "id": "7959bc5f",
   "metadata": {},
   "outputs": [],
   "source": []
  }
 ],
 "metadata": {
  "kernelspec": {
   "display_name": "Python 3 (ipykernel)",
   "language": "python",
   "name": "python3"
  },
  "language_info": {
   "codemirror_mode": {
    "name": "ipython",
    "version": 3
   },
   "file_extension": ".py",
   "mimetype": "text/x-python",
   "name": "python",
   "nbconvert_exporter": "python",
   "pygments_lexer": "ipython3",
   "version": "3.9.13"
  }
 },
 "nbformat": 4,
 "nbformat_minor": 5
}
