{
 "cells": [
  {
   "cell_type": "code",
   "execution_count": 1,
   "id": "6e2d7278",
   "metadata": {},
   "outputs": [],
   "source": [
    "import numpy as np\n",
    "import pandas as pd\n",
    "from scipy.spatial.distance import pdist, squareform\n",
    "\n",
    "from ase import Atoms\n",
    "\n",
    "from rascal.representations import SphericalInvariants\n",
    "from rascal.models import Kernel"
   ]
  },
  {
   "cell_type": "markdown",
   "id": "41c8a31a",
   "metadata": {},
   "source": [
    "### Check equation (9) in [Comparing molecules and solids across structural and alchemical space](https://arxiv.org/abs/1601.04077)"
   ]
  },
  {
   "cell_type": "code",
   "execution_count": 2,
   "id": "4c11e246",
   "metadata": {},
   "outputs": [],
   "source": [
    "def get_systems_tag(frames):\n",
    "    labels = []\n",
    "    for i, frame in enumerate(frames):\n",
    "        labels.extend([i]*len(frame))\n",
    "    return np.array(labels)\n",
    "def get_dist_mat(soaps_vectors, normalized=True):\n",
    "    distance = squareform(pdist(soaps_vectors))\n",
    "    \n",
    "    if normalized:\n",
    "        max_val=max(distance.flatten())\n",
    "\n",
    "    distance_df = pd.DataFrame(distance/max_val)\n",
    "    # Set display options to show all columns without truncation and maximum 3 decimals\n",
    "    pd.set_option('display.max_columns', None)\n",
    "    pd.set_option('display.float_format', lambda x: '%.4f' % x)\n",
    "    return distance_df\n",
    "def avg_soaps(atoms_soaps_features, frames):\n",
    "    df = pd.DataFrame(atoms_soaps_features)\n",
    "    df[\"molecule\"]=get_systems_tag(frames)\n",
    "    return df.groupby(\"molecule\").mean().values\n",
    "\n",
    "def get_kernel_mat(soaps_vectors):\n",
    "    distance = squareform(pdist(soaps_vectors))\n",
    "    # Create kernel matrix using Gaussian kernel\n",
    "    sigma = 0.5  # You can adjust the sigma value according to your requirement\n",
    "    kernel_matrix = np.exp(-distance ** 2 / (2 * sigma ** 2))\n",
    "\n",
    "    # Convert kernel matrix to a pandas DataFrame\n",
    "    kernel_matrix_df = pd.DataFrame(kernel_matrix)\n",
    "    return kernel_matrix_df"
   ]
  },
  {
   "cell_type": "code",
   "execution_count": 3,
   "id": "afb0b962",
   "metadata": {},
   "outputs": [],
   "source": [
    "samples0=[Atoms('CC',positions=[[0,0,0],[1,0,0]]),\n",
    "         Atoms('CC',positions=[[0,0,0],[0,1.1,0]]),\n",
    "         Atoms('CC',positions=[[0,0,0],[1.21,0,0]]),\n",
    "         Atoms('CC',positions=[[0,0,0],[0,1.33,0]]),\n",
    "         Atoms('CC',positions=[[1,0,1],[1,1.01,1]]),\n",
    "         Atoms('CC',positions=[[0,0,0],[1.5,0,0]]),\n",
    "          \n",
    "        ]\n",
    "samples=[Atoms('CC',positions=[[0,0,0],[1,0,0]]),\n",
    "         Atoms('CC',positions=[[0,0,0],[0,1.1,0]]),\n",
    "         Atoms('CC',positions=[[0,0,0],[1.21,0,0]]),\n",
    "         Atoms('CC',positions=[[0,0,0],[0,1.33,0]]),\n",
    "         Atoms('CN',positions=[[1,0,1],[1,1.01,1]]),\n",
    "         Atoms('CC',positions=[[0,0,0],[1.5,0,0]]),\n",
    "          \n",
    "        ]"
   ]
  },
  {
   "cell_type": "code",
   "execution_count": 4,
   "id": "04628348",
   "metadata": {},
   "outputs": [],
   "source": [
    "#SphericalInvariants?"
   ]
  },
  {
   "cell_type": "code",
   "execution_count": 5,
   "id": "b7f9e65c",
   "metadata": {
    "scrolled": true
   },
   "outputs": [],
   "source": [
    "hypers = {\n",
    "    \"soap_type\":\"PowerSpectrum\",\n",
    "    \"interaction_cutoff\": 5.0,\n",
    "    \"max_radial\": 6,\n",
    "    \"max_angular\": 6,\n",
    "    \"gaussian_sigma_constant\": 0.4,\n",
    "    \"gaussian_sigma_type\":\"Constant\",\n",
    "    \"cutoff_smooth_width\":0.5,\n",
    "    \"radial_basis\": \"GTO\",\n",
    "    \"cutoff_function_type\": \"ShiftedCosine\",\n",
    "    \"cutoff_function_parameters\":{\"width\": 0.5},\n",
    "    \"global_species\":[6,7]\n",
    "    }\n",
    "soap = SphericalInvariants(**hypers)"
   ]
  },
  {
   "cell_type": "code",
   "execution_count": 6,
   "id": "61d919ef",
   "metadata": {},
   "outputs": [],
   "source": [
    "for sample in samples0:\n",
    "    sample.cell=[10,10,10]\n",
    "    sample.pbc=(1,1,1)\n",
    "    sample.wrap()\n",
    "for sample in samples:\n",
    "    sample.cell=[10,10,10]\n",
    "    sample.pbc=(1,1,1)\n",
    "    sample.wrap()"
   ]
  },
  {
   "cell_type": "code",
   "execution_count": 7,
   "id": "e023d783",
   "metadata": {},
   "outputs": [],
   "source": [
    "soap_rep0 = soap.transform(samples0)\n",
    "soap_rep = soap.transform(samples)"
   ]
  },
  {
   "cell_type": "code",
   "execution_count": 8,
   "id": "7a39733f",
   "metadata": {},
   "outputs": [],
   "source": [
    "X0=soap_rep0.get_features(soap)\n",
    "X=soap_rep.get_features(soap)"
   ]
  },
  {
   "cell_type": "code",
   "execution_count": 14,
   "id": "601e6077",
   "metadata": {},
   "outputs": [
    {
     "data": {
      "text/plain": [
       "(12, 252)"
      ]
     },
     "execution_count": 14,
     "metadata": {},
     "output_type": "execute_result"
    }
   ],
   "source": [
    "X0.shape"
   ]
  },
  {
   "cell_type": "code",
   "execution_count": 9,
   "id": "2e6258de",
   "metadata": {},
   "outputs": [],
   "source": [
    "avg_soap_samples0=avg_soaps(X0, samples0)\n",
    "avg_soap_samples=avg_soaps(X, samples)"
   ]
  },
  {
   "cell_type": "code",
   "execution_count": 10,
   "id": "5052fe35",
   "metadata": {},
   "outputs": [
    {
     "data": {
      "text/html": [
       "<div>\n",
       "<style scoped>\n",
       "    .dataframe tbody tr th:only-of-type {\n",
       "        vertical-align: middle;\n",
       "    }\n",
       "\n",
       "    .dataframe tbody tr th {\n",
       "        vertical-align: top;\n",
       "    }\n",
       "\n",
       "    .dataframe thead th {\n",
       "        text-align: right;\n",
       "    }\n",
       "</style>\n",
       "<table border=\"1\" class=\"dataframe\">\n",
       "  <thead>\n",
       "    <tr style=\"text-align: right;\">\n",
       "      <th></th>\n",
       "      <th>0</th>\n",
       "      <th>1</th>\n",
       "      <th>2</th>\n",
       "      <th>3</th>\n",
       "      <th>4</th>\n",
       "      <th>5</th>\n",
       "    </tr>\n",
       "  </thead>\n",
       "  <tbody>\n",
       "    <tr>\n",
       "      <th>0</th>\n",
       "      <td>0.0000</td>\n",
       "      <td>0.1949</td>\n",
       "      <td>0.4064</td>\n",
       "      <td>0.6450</td>\n",
       "      <td>0.0198</td>\n",
       "      <td>1.0000</td>\n",
       "    </tr>\n",
       "    <tr>\n",
       "      <th>1</th>\n",
       "      <td>0.1949</td>\n",
       "      <td>0.0000</td>\n",
       "      <td>0.2237</td>\n",
       "      <td>0.4873</td>\n",
       "      <td>0.1755</td>\n",
       "      <td>0.8859</td>\n",
       "    </tr>\n",
       "    <tr>\n",
       "      <th>2</th>\n",
       "      <td>0.4064</td>\n",
       "      <td>0.2237</td>\n",
       "      <td>0.0000</td>\n",
       "      <td>0.2767</td>\n",
       "      <td>0.3888</td>\n",
       "      <td>0.7068</td>\n",
       "    </tr>\n",
       "    <tr>\n",
       "      <th>3</th>\n",
       "      <td>0.6450</td>\n",
       "      <td>0.4873</td>\n",
       "      <td>0.2767</td>\n",
       "      <td>0.0000</td>\n",
       "      <td>0.6305</td>\n",
       "      <td>0.4472</td>\n",
       "    </tr>\n",
       "    <tr>\n",
       "      <th>4</th>\n",
       "      <td>0.0198</td>\n",
       "      <td>0.1755</td>\n",
       "      <td>0.3888</td>\n",
       "      <td>0.6305</td>\n",
       "      <td>0.0000</td>\n",
       "      <td>0.9905</td>\n",
       "    </tr>\n",
       "    <tr>\n",
       "      <th>5</th>\n",
       "      <td>1.0000</td>\n",
       "      <td>0.8859</td>\n",
       "      <td>0.7068</td>\n",
       "      <td>0.4472</td>\n",
       "      <td>0.9905</td>\n",
       "      <td>0.0000</td>\n",
       "    </tr>\n",
       "  </tbody>\n",
       "</table>\n",
       "</div>"
      ],
      "text/plain": [
       "       0      1      2      3      4      5\n",
       "0 0.0000 0.1949 0.4064 0.6450 0.0198 1.0000\n",
       "1 0.1949 0.0000 0.2237 0.4873 0.1755 0.8859\n",
       "2 0.4064 0.2237 0.0000 0.2767 0.3888 0.7068\n",
       "3 0.6450 0.4873 0.2767 0.0000 0.6305 0.4472\n",
       "4 0.0198 0.1755 0.3888 0.6305 0.0000 0.9905\n",
       "5 1.0000 0.8859 0.7068 0.4472 0.9905 0.0000"
      ]
     },
     "execution_count": 10,
     "metadata": {},
     "output_type": "execute_result"
    }
   ],
   "source": [
    "get_dist_mat(avg_soap_samples0)"
   ]
  },
  {
   "cell_type": "code",
   "execution_count": 11,
   "id": "c881e150",
   "metadata": {},
   "outputs": [
    {
     "data": {
      "text/html": [
       "<div>\n",
       "<style scoped>\n",
       "    .dataframe tbody tr th:only-of-type {\n",
       "        vertical-align: middle;\n",
       "    }\n",
       "\n",
       "    .dataframe tbody tr th {\n",
       "        vertical-align: top;\n",
       "    }\n",
       "\n",
       "    .dataframe thead th {\n",
       "        text-align: right;\n",
       "    }\n",
       "</style>\n",
       "<table border=\"1\" class=\"dataframe\">\n",
       "  <thead>\n",
       "    <tr style=\"text-align: right;\">\n",
       "      <th></th>\n",
       "      <th>0</th>\n",
       "      <th>1</th>\n",
       "      <th>2</th>\n",
       "      <th>3</th>\n",
       "      <th>4</th>\n",
       "      <th>5</th>\n",
       "    </tr>\n",
       "  </thead>\n",
       "  <tbody>\n",
       "    <tr>\n",
       "      <th>0</th>\n",
       "      <td>0.0000</td>\n",
       "      <td>0.0565</td>\n",
       "      <td>0.1178</td>\n",
       "      <td>0.1870</td>\n",
       "      <td>0.9889</td>\n",
       "      <td>0.2900</td>\n",
       "    </tr>\n",
       "    <tr>\n",
       "      <th>1</th>\n",
       "      <td>0.0565</td>\n",
       "      <td>0.0000</td>\n",
       "      <td>0.0649</td>\n",
       "      <td>0.1413</td>\n",
       "      <td>0.9917</td>\n",
       "      <td>0.2569</td>\n",
       "    </tr>\n",
       "    <tr>\n",
       "      <th>2</th>\n",
       "      <td>0.1178</td>\n",
       "      <td>0.0649</td>\n",
       "      <td>0.0000</td>\n",
       "      <td>0.0802</td>\n",
       "      <td>0.9942</td>\n",
       "      <td>0.2049</td>\n",
       "    </tr>\n",
       "    <tr>\n",
       "      <th>3</th>\n",
       "      <td>0.1870</td>\n",
       "      <td>0.1413</td>\n",
       "      <td>0.0802</td>\n",
       "      <td>0.0000</td>\n",
       "      <td>0.9965</td>\n",
       "      <td>0.1297</td>\n",
       "    </tr>\n",
       "    <tr>\n",
       "      <th>4</th>\n",
       "      <td>0.9889</td>\n",
       "      <td>0.9917</td>\n",
       "      <td>0.9942</td>\n",
       "      <td>0.9965</td>\n",
       "      <td>0.0000</td>\n",
       "      <td>1.0000</td>\n",
       "    </tr>\n",
       "    <tr>\n",
       "      <th>5</th>\n",
       "      <td>0.2900</td>\n",
       "      <td>0.2569</td>\n",
       "      <td>0.2049</td>\n",
       "      <td>0.1297</td>\n",
       "      <td>1.0000</td>\n",
       "      <td>0.0000</td>\n",
       "    </tr>\n",
       "  </tbody>\n",
       "</table>\n",
       "</div>"
      ],
      "text/plain": [
       "       0      1      2      3      4      5\n",
       "0 0.0000 0.0565 0.1178 0.1870 0.9889 0.2900\n",
       "1 0.0565 0.0000 0.0649 0.1413 0.9917 0.2569\n",
       "2 0.1178 0.0649 0.0000 0.0802 0.9942 0.2049\n",
       "3 0.1870 0.1413 0.0802 0.0000 0.9965 0.1297\n",
       "4 0.9889 0.9917 0.9942 0.9965 0.0000 1.0000\n",
       "5 0.2900 0.2569 0.2049 0.1297 1.0000 0.0000"
      ]
     },
     "execution_count": 11,
     "metadata": {},
     "output_type": "execute_result"
    }
   ],
   "source": [
    "get_dist_mat(avg_soap_samples)"
   ]
  },
  {
   "cell_type": "code",
   "execution_count": null,
   "id": "137d9839",
   "metadata": {},
   "outputs": [],
   "source": []
  }
 ],
 "metadata": {
  "kernelspec": {
   "display_name": "Python 3 (ipykernel)",
   "language": "python",
   "name": "python3"
  },
  "language_info": {
   "codemirror_mode": {
    "name": "ipython",
    "version": 3
   },
   "file_extension": ".py",
   "mimetype": "text/x-python",
   "name": "python",
   "nbconvert_exporter": "python",
   "pygments_lexer": "ipython3",
   "version": "3.9.13"
  }
 },
 "nbformat": 4,
 "nbformat_minor": 5
}
