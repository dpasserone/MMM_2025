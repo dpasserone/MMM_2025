{
 "cells": [
  {
   "cell_type": "code",
   "execution_count": null,
   "id": "511ca162",
   "metadata": {},
   "outputs": [],
   "source": [
    "import numpy as np\n",
    "from sklearn.decomposition import PCA\n",
    "from scipy.spatial.transform import Rotation as R\n",
    "from ase.io import read\n",
    "import nglview as nv"
   ]
  },
  {
   "cell_type": "code",
   "execution_count": null,
   "id": "434d69ce",
   "metadata": {},
   "outputs": [],
   "source": [
    "def view_structure(structure,myvec=[]):\n",
    "    t = nv.ASEStructure(structure)\n",
    "    w = nv.NGLWidget(t, gui=True)\n",
    "    w.add_unitcell()\n",
    "    w.add_ball_and_stick()\n",
    "    w.add_representation('label',label_type='atomindex',color='black')\n",
    "    w.add_representation('spacefill',selection=myvec,color=\"blue\",radius=0.5)\n",
    "    return w"
   ]
  },
  {
   "cell_type": "code",
   "execution_count": null,
   "id": "91d71804",
   "metadata": {},
   "outputs": [],
   "source": [
    "molecule=read('unde.xyz')"
   ]
  },
  {
   "cell_type": "code",
   "execution_count": null,
   "id": "81ad59f5",
   "metadata": {},
   "outputs": [],
   "source": [
    "view_structure(molecule)"
   ]
  },
  {
   "cell_type": "code",
   "execution_count": null,
   "id": "b96c6952",
   "metadata": {},
   "outputs": [],
   "source": [
    "pca = PCA(n_components=3)\n",
    "coordinates = molecule.get_positions()\n",
    "pca.fit(coordinates)\n",
    "\n",
    "# Principal components - each row is a principal axis\n",
    "principal_axes = pca.components_\n",
    "# The first principal axis\n",
    "principal_axis = principal_axes[0]\n",
    "\n",
    "# Target axis (z-axis)\n",
    "target_axis = np.array([0, 0, 1])\n",
    "\n",
    "\n",
    "# Compute the rotation needed to align the principal axis with the z-axis\n",
    "rotation, _ = R.align_vectors(np.array([target_axis]), np.array([principal_axis]))\n",
    "\n",
    "# Update the coordinates\n",
    "molecule.set_positions(rotation.apply(coordinates))"
   ]
  },
  {
   "cell_type": "code",
   "execution_count": null,
   "id": "0173ab4a",
   "metadata": {},
   "outputs": [],
   "source": [
    "view_structure(molecule)"
   ]
  },
  {
   "cell_type": "code",
   "execution_count": null,
   "id": "59cc016c",
   "metadata": {},
   "outputs": [],
   "source": []
  }
 ],
 "metadata": {
  "kernelspec": {
   "display_name": "Python 3 (ipykernel)",
   "language": "python",
   "name": "python3"
  },
  "language_info": {
   "codemirror_mode": {
    "name": "ipython",
    "version": 3
   },
   "file_extension": ".py",
   "mimetype": "text/x-python",
   "name": "python",
   "nbconvert_exporter": "python",
   "pygments_lexer": "ipython3",
   "version": "3.9.13"
  }
 },
 "nbformat": 4,
 "nbformat_minor": 5
}
