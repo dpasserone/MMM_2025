{
 "cells": [
  {
   "cell_type": "markdown",
   "metadata": {},
   "source": [
    "# Exercise 13 - 2025: Active learning with the reaction of exercise 12"
   ]
  },
  {
   "cell_type": "markdown",
   "metadata": {},
   "source": [
    "## In this exercise we want to train a potential and test some active learning on the simple model. We thank Dr. Umberto Raucci for the collaboration. The reaction is similar to the one studied by Umberto Raucci in this [paper](https://pubs.acs.org/doi/10.1021/acs.jpclett.5c00688)\n",
    "\n"
   ]
  },
  {
   "cell_type": "markdown",
   "metadata": {},
   "source": [
    "# Extract the tar file of s0 and data_s0 from the `Exercise 13 ` directory. From a terminal:\n",
    "\n",
    "`tar -zxvf s0.tar.gz`"
   ]
  },
  {
   "cell_type": "markdown",
   "metadata": {},
   "source": [
    "## The subdirectories of Exercise 13 contain data and active training scripts as described in the paper and in the slides of Umberto. Run the scripts of the steps of the active learning and understand the different steps. The training then could take place in the directory s0/02_iteration/1model_redo but it is too long. Then we use the existing results. "
   ]
  },
  {
   "cell_type": "markdown",
   "metadata": {},
   "source": [
    "## Run a OPES MD using the potential 02_iterations in the directory `~/MMM_2025/Exercise_13/s0/02_iteration/dyn_bias/b120_opes` , copy the cells from the exercise 12 or use another path for the files (and duplicate the cells regarding OPES) and compare the results from exercise 12 and from exercise 13 (active learning) both for the deviation and for the forces. "
   ]
  },
  {
   "cell_type": "markdown",
   "metadata": {},
   "source": [
    "### The important directory in the dyn_bias path is the coord_selected directory where the active learning configurations are chosen.\n"
   ]
  },
  {
   "cell_type": "markdown",
   "metadata": {},
   "source": [
    "## The command to select the active learned configurations is \n",
    "\n",
    "`python clustering_model_dev.py > output.active`\n"
   ]
  },
  {
   "cell_type": "markdown",
   "metadata": {},
   "source": [
    "# Final assignment \n",
    "The first training with the cluster (Lecture 9) failed leading to a very unstable dynamics. What are we improving here with respect to that scheme?  "
   ]
  },
  {
   "cell_type": "code",
   "execution_count": null,
   "metadata": {},
   "outputs": [],
   "source": []
  }
 ],
 "metadata": {
  "kernelspec": {
   "display_name": "Python 3 (ipykernel)",
   "language": "python",
   "name": "python3"
  },
  "language_info": {
   "codemirror_mode": {
    "name": "ipython",
    "version": 3
   },
   "file_extension": ".py",
   "mimetype": "text/x-python",
   "name": "python",
   "nbconvert_exporter": "python",
   "pygments_lexer": "ipython3",
   "version": "3.9.13"
  }
 },
 "nbformat": 4,
 "nbformat_minor": 4
}
