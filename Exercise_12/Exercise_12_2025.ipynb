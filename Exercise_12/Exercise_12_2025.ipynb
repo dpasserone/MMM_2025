{
 "cells": [
  {
   "cell_type": "markdown",
   "metadata": {},
   "source": [
    "# Exercise 12 - 2025: A training with a small chemical reaction"
   ]
  },
  {
   "cell_type": "markdown",
   "metadata": {},
   "source": [
    "## In this exercise we want to train a potential and test some active learning on the simple model. We thank Dr. Umberto Raucci for the collaboration. The reaction is similar to the one studied by Umberto Raucci in this [paper](https://pubs.acs.org/doi/10.1021/acs.jpclett.5c00688)\n",
    "\n"
   ]
  },
  {
   "cell_type": "code",
   "execution_count": 87,
   "metadata": {},
   "outputs": [],
   "source": [
    "import numpy as np\n",
    "import scipy\n",
    "from scipy.special import sph_harm\n",
    "from glob import glob\n",
    "from ase.io import read,write\n",
    "from ase import neighborlist\n",
    "import matplotlib.pyplot as plt\n",
    "\n",
    "import numpy as np\n",
    "from ase.visualize import view\n",
    "import matplotlib.pyplot as plt\n",
    "import nglview as nv\n",
    "\n",
    "\n",
    "import ase\n",
    "import ase.io\n",
    "import ase.lattice.cubic\n",
    "import ase.md\n",
    "from ase.md.nvtberendsen import NVTBerendsen\n",
    "from ase.units import fs, kB\n",
    "from ase.calculators.lammpsrun import LAMMPS\n",
    "\n",
    "def view_structure(system):\n",
    "    t = nv.ASEStructure(system) \n",
    "    w = nv.NGLWidget(t, gui=True)\n",
    "    w.add_spacefill()\n",
    "    return w\n",
    "\n",
    "\n",
    "def view_trajectory(trajectory):\n",
    "    t2 = nv.ASETrajectory(trajectory)\n",
    "    w2 = nv.NGLWidget(t2, gui=True)\n",
    "    w2.add_representation('label',label_type='atomindex',color='black')\n",
    "    w2.add_representation('licorice')\n",
    "    w2.add_representation('spacefill',selection=[5],color=\"red\",radius=0.7)\n",
    "    w2.add_representation('ball_and_stick')\n",
    "\n",
    "    return w2\n",
    "\n",
    "\n",
    "\n",
    "\n",
    "\n"
   ]
  },
  {
   "cell_type": "markdown",
   "metadata": {},
   "source": [
    "## First part: harvesting the \"ab initio configurations\" and training the potential."
   ]
  },
  {
   "cell_type": "markdown",
   "metadata": {},
   "source": [
    " ### Assigment 1.\n",
    " Go to the subdirectory <code>s0/00_iteration/newmodel</code> and train the potential with the command\n",
    " \n",
    " <code>bash train_1.sh  </code> . Add an \"&\" if you want to see the files during the run. \n",
    " \n",
    " Plot the error in the training along the training and show the decay. Comment on it. \n",
    " Even if the training is not over, stop the training, \"touch\" the file <code>tag_0_finished</code> and rerun **train_1.sh** to create the frozen model and the compressed one at this point. You can always restart later."
   ]
  },
  {
   "cell_type": "markdown",
   "metadata": {},
   "source": [
    " ### Assigment 2.\n",
    " Go to the subdirectory <code>s0/00_iteration/dyn_bias/b120_meta</code> and run the metadynamics run with \n",
    "\n",
    "<code>bash run_meta.sh >& meta.out & </code>\n",
    " \n",
    " First, observe the deviation among the potentials. See cell below. What do you observe?\n",
    " What happens if you repeat the metadynamics adding your \"not converged\" new_model and keeping also 1, 2, 3 that are perfectly converged?\n"
   ]
  },
  {
   "cell_type": "code",
   "execution_count": null,
   "metadata": {},
   "outputs": [],
   "source": [
    "#\n",
    "# Reading the deviations among the 4 potential (for later active learning)\n",
    "#\n",
    "\n",
    "import matplotlib.pyplot as plt\n",
    "\n",
    "# Read data from the text file\n",
    "column_4_values = []\n",
    "with open(\"s0/00_iteration/dyn_bias/b120_meta/model_devi.out\", \"r\") as file:\n",
    "    for line in file:\n",
    "        if line.strip() and not line.startswith(\"#\"):  # Ignore empty lines and comments\n",
    "            parts = line.split()\n",
    "            if len(parts) >= 4:  # Ensure there are at least 4 columns\n",
    "                column_4_values.append(float(parts[4]))  # Column indexing starts at 0\n",
    "\n",
    "# Plot histogram\n",
    "plt.figure(figsize=(8,5))\n",
    "plt.hist(column_4_values, bins=200, edgecolor='black', alpha=0.7)\n",
    "\n",
    "plt.xlabel(\"Force Deviation among 4 potentials\")\n",
    "plt.ylabel(\"Frequency\")\n",
    "plt.title(\"Max dev forces (eV/A/atom)\")\n",
    "plt.grid(axis='y', linestyle='--', alpha=0.5)\n",
    "plt.show()\n"
   ]
  },
  {
   "cell_type": "markdown",
   "metadata": {},
   "source": [
    "## Assigment 3.\n",
    "\n",
    "Monitor the COLVAR behavior over time (next cell) as well as the HILLS over time (next cell afterwards). What is the correlation between these two plots? Comment the correlation between the CV value and the trajectory. The colvar is defined in the <code>plumed.dat</code> file. \n",
    "\n",
    "After a long simulation time, your free energy should be quite converged. The units are kj/mol. What can you conclude about the proton transfer process?\n"
   ]
  },
  {
   "cell_type": "code",
   "execution_count": null,
   "metadata": {},
   "outputs": [],
   "source": []
  },
  {
   "cell_type": "code",
   "execution_count": null,
   "metadata": {},
   "outputs": [],
   "source": [
    "#\n",
    "# meta\n",
    "#\n",
    "\n",
    "#\n",
    "# Plot the dynamics\n",
    "#\n",
    "\n",
    "import matplotlib.pyplot as plt\n",
    "import numpy as np\n",
    "\n",
    "# Load data from text file (assuming columns are separated by spaces or tabs)\n",
    "!cp s0/00_iteration/dyn_bias/b120_meta/COLVAR C2\n",
    "data = np.loadtxt('C2', usecols=(0,3))\n",
    "data = data [:-1]\n",
    "\n",
    "print (len(data))\n",
    "\n",
    "# Extract first and second columns\n",
    "x = data[:, 0]  # First column\n",
    "y = data[:, 1]  # Second column\n",
    "\n",
    "# Plot\n",
    "plt.plot(x, y, marker='o', linestyle='-')\n",
    "plt.xlabel('time')\n",
    "plt.ylabel('CV')\n",
    "plt.title('CV in time')\n",
    "plt.show()\n"
   ]
  },
  {
   "cell_type": "code",
   "execution_count": null,
   "metadata": {},
   "outputs": [],
   "source": [
    "import numpy as np\n",
    "import pandas as pd\n",
    "import matplotlib.pyplot as plt\n",
    "\n",
    "# Load HILLS file (ignoring comment lines)\n",
    "\n",
    "df = pd.read_csv('s0/00_iteration/dyn_bias/b120_meta/HILLS', sep='\\s+', comment='#', header=None)\n",
    "df.columns = [\"time\", \"cv\", \"sigma_cv\", \"height\", \"biasf\"]\n",
    "\n",
    "# Define a grid over the CV space\n",
    "cv_min, cv_max = df[\"cv\"].min(), df[\"cv\"].max()\n",
    "cv_grid = np.linspace(cv_min, cv_max, 1000)  # High resolution grid\n",
    "\n",
    "# Initialize cumulative bias array\n",
    "cumulative_bias = np.zeros((len(df), len(cv_grid)))\n",
    "\n",
    "# Compute cumulative bias over time\n",
    "for i in range(len(df)):\n",
    "    h, c, sigma = df.loc[i, [\"height\", \"cv\", \"sigma_cv\"]]\n",
    "    cumulative_bias[i] = cumulative_bias[i - 1] + h * np.exp(-((cv_grid - c)**2) / (2 * sigma**2))\n",
    "\n",
    "# Plot successive cumulative bias landscapes\n",
    "plt.figure(figsize=(8, 6))\n",
    "for i in range(0, len(df), max(1, len(df) // 10)):  # Plot 10 evenly spaced curves\n",
    "    plt.plot(cv_grid, cumulative_bias[i], label=f'Time {df.loc[i, \"time\"]:.1f}')\n",
    "\n",
    "plt.xlabel(\"Collective Variable (CV)\")\n",
    "plt.ylabel(\"Accumulated Bias Potential\")\n",
    "plt.title(\"Cumulative Sum of HILLS Over Time\")\n",
    "plt.legend(loc=\"upper left\", fontsize=\"small\")\n",
    "plt.show()\n"
   ]
  },
  {
   "cell_type": "code",
   "execution_count": null,
   "metadata": {},
   "outputs": [],
   "source": [
    "#\n",
    "# Reading the trajectory\n",
    "# \n",
    "\n",
    "mytraj = read (\"s0/00_iteration/dyn_bias/b120_meta/dump.xyz\",\":\")\n",
    "view_trajectory (mytraj)"
   ]
  },
  {
   "cell_type": "markdown",
   "metadata": {},
   "source": [
    "# Assignment 4: do the same with OPES\n",
    "\n",
    "Move to the directory <code>s0/00_iteration/dyn_bias/b120_opes</code> and execute\n",
    "\n",
    "<code> bash run_opes.sh > opes.out & </code>\n",
    "\n",
    "Monitor COLVAR, the trajectory, the histogram of the COLVAR, the bias in time, and the FES obtained with a script. \n",
    "Comment on all this and compare with the META example as well as the considerations in the [PLUMED WEBSITE](https://www.plumed.org/doc-v2.9/user-doc/html/opes-metad.html).\n",
    "\n",
    "Do you observe many transitions? What happens in the system? What does the FES tell us?\n"
   ]
  },
  {
   "cell_type": "code",
   "execution_count": null,
   "metadata": {},
   "outputs": [],
   "source": [
    "#\n",
    "# Plot the dynamics\n",
    "#\n",
    "\n",
    "import matplotlib.pyplot as plt\n",
    "import numpy as np\n",
    "\n",
    "# Load data from text file (assuming columns are separated by spaces or tabs)\n",
    "!cp s0/00_iteration/dyn_bias/b120_opes/COLVAR C2\n",
    "data = np.loadtxt('C2',usecols=(0,3))\n",
    "\n",
    "print (len(data))\n",
    "\n",
    "# Extract first and second columns\n",
    "x = data[:, 0]  # First column\n",
    "y = data[:, 1]  # Second column\n",
    "\n",
    "# Plot\n",
    "plt.plot(x, y, marker='o', linestyle='-')\n",
    "plt.xlabel('Snapshot')\n",
    "plt.ylabel('COLVAR')\n",
    "plt.title('CH_2-CH_1')\n",
    "plt.show()\n"
   ]
  },
  {
   "cell_type": "code",
   "execution_count": null,
   "metadata": {},
   "outputs": [],
   "source": [
    "#\n",
    "# Reading the trajectory\n",
    "# \n",
    "\n",
    "mytraj = read (\"s0/00_iteration/dyn_bias/b120_opes/dump.xyz\",\":\")"
   ]
  },
  {
   "cell_type": "code",
   "execution_count": null,
   "metadata": {},
   "outputs": [],
   "source": [
    "view_trajectory(mytraj)"
   ]
  },
  {
   "cell_type": "code",
   "execution_count": null,
   "metadata": {},
   "outputs": [],
   "source": [
    "#\n",
    "# Plotting the BIAS in time\n",
    "#\n",
    "\n",
    "\n",
    "import pandas as pd\n",
    "import numpy as np\n",
    "import matplotlib.pyplot as plt\n",
    "\n",
    "# Load COLVAR file (ignoring comment lines)\n",
    "df = pd.read_csv(\"s0/00_iteration/dyn_bias/b120_opes/COLVAR\", sep='\\s+', comment='#', header=None)\n",
    "\n",
    "# Extract relevant columns\n",
    "x_values = df.iloc[:, 3]   # Fourth column\n",
    "y_values = -df.iloc[:, 4]  # Fifth column (changing sign)\n",
    "time_values = df.iloc[:, 0]  # First column for coloring\n",
    "\n",
    "# Create scatter plot with color coding by time\n",
    "plt.figure(figsize=(8, 6))\n",
    "scatter = plt.scatter(x_values, y_values, c=time_values, cmap='viridis', edgecolor='k')\n",
    "plt.colorbar(scatter, label=\"Time\")\n",
    "plt.xlabel(\"Column 4 (CV)\")\n",
    "plt.ylabel(\"Negated Column 5 (Bias)\")\n",
    "plt.title(\"Bias Visualization\")\n",
    "plt.show()\n"
   ]
  },
  {
   "cell_type": "code",
   "execution_count": null,
   "metadata": {},
   "outputs": [],
   "source": [
    "# Histogram of the colvar\n",
    "\n",
    "#\n",
    "# Reading the deviations\n",
    "#\n",
    "\n",
    "import matplotlib.pyplot as plt\n",
    "\n",
    "# Read data from the text file\n",
    "column_4_values = []\n",
    "with open(\"s0/00_iteration/dyn_bias/b120_opes/COLVAR\", \"r\") as file:\n",
    "    for line in file:\n",
    "        if line.strip() and not line.startswith(\"#\"):  # Ignore empty lines and comments\n",
    "            parts = line.split()\n",
    "            if len(parts) >= 4:  # Ensure there are at least 4 columns\n",
    "                column_4_values.append(float(parts[3]))  # Column indexing starts at 0\n",
    "\n",
    "# Plot histogram\n",
    "plt.figure(figsize=(8,5))\n",
    "plt.hist(column_4_values, bins=200, edgecolor='black', alpha=0.7)\n",
    "\n",
    "plt.xlabel(\"Colvar (angstrom)\")\n",
    "plt.ylabel(\"Frequency\")\n",
    "plt.title(\"Histogram of Colvar\")\n",
    "plt.grid(axis='y', linestyle='--', alpha=0.5)\n",
    "plt.show()\n"
   ]
  },
  {
   "cell_type": "code",
   "execution_count": null,
   "metadata": {},
   "outputs": [],
   "source": [
    "#\n",
    "#Extract FES from the BIAS by applying appropriate weigths\n",
    "\n",
    "#\n",
    "# Plot the dynamics\n",
    "#\n",
    "\n",
    "import matplotlib.pyplot as plt\n",
    "import numpy as np\n",
    "\n",
    "# Load data from text file (assuming columns are separated by spaces or tabs)\n",
    "!cat s0/00_iteration/dyn_bias/b120_opes/COLVAR  | head -n -1 > C2 \n",
    "!pwd\n",
    "!cp s0/00_iteration/dyn_bias/b120_opes/FES_from_Reweighting.py .\n",
    "!python ./FES_from_Reweighting.py --sigma 0.08 --temp 300 --colvar C2  --cv 4 \n",
    "data = np.loadtxt('fes-rew.dat')\n",
    "\n",
    "print (len(data))\n",
    "\n",
    "# Extract first and second columns\n",
    "x = data[:, 0]  # First column\n",
    "y = data[:, 1]  # Second column\n",
    "\n",
    "# Plot\n",
    "plt.plot(x, y, marker='o', linestyle='-')\n",
    "plt.xlabel('CV')\n",
    "plt.ylabel('Free energy')\n",
    "plt.title('FES from OPES')\n",
    "plt.show()"
   ]
  }
 ],
 "metadata": {
  "kernelspec": {
   "display_name": "Python 3 (ipykernel)",
   "language": "python",
   "name": "python3"
  },
  "language_info": {
   "codemirror_mode": {
    "name": "ipython",
    "version": 3
   },
   "file_extension": ".py",
   "mimetype": "text/x-python",
   "name": "python",
   "nbconvert_exporter": "python",
   "pygments_lexer": "ipython3",
   "version": "3.9.13"
  }
 },
 "nbformat": 4,
 "nbformat_minor": 4
}
