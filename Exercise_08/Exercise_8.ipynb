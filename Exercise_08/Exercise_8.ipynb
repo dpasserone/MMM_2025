{
 "cells": [
  {
   "cell_type": "markdown",
   "metadata": {},
   "source": [
    "# Exercise 8 Dehalogenation on metals   9.4.2025\n",
    "\n",
    "\n",
    "**Submission deadline**: End of May 2025\n",
    "\n",
    "In this exercise we will take inspiration from the paper by Chen and collaborators  \n",
    "\n",
    "[A Density Functional Benchmark for Dehydrogenation and\n",
    "Dehalogenation Reactions on Coinage Metal Surfaces](http://doi.org/10.1002/cphc.202400865).\n",
    "\n",
    "Many things have been done in that paper, including comparison of molecular adsorption energies, structure, dehydrogenations and dehalogenation (with reaction energy and barriers), different substrates, different xc functionals.\n",
    "\n",
    "Today we will perform a small subset\n",
    "\n",
    "* Generate small Cu and Au slabs\n",
    "* Optimize bromobenzene in the gas phase\n",
    "* Compute the energy of slabs and optimize slab+molecules systems (on Cu)\n",
    "* Compute reaction energy for debromination at the PBE+D3 level starting from the paper optimized geometries on Cu and Au\n",
    "* Compute reaction energy with another functional.\n",
    "\n"
   ]
  },
  {
   "cell_type": "code",
   "execution_count": null,
   "metadata": {},
   "outputs": [],
   "source": [
    "#\n",
    "# Preliminaries\n",
    "#\n",
    "\n",
    "#\n",
    "# some important Imports...\n",
    "#\n",
    "import numpy as np\n",
    "from ase import Atoms\n",
    "from ase.io import read, write\n",
    "from ase.visualize import view\n",
    "import matplotlib.pyplot as plt\n",
    "import nglview as nv\n",
    "from ase.build import molecule\n",
    "from ase.calculators.cp2k import CP2K\n",
    "from ase.optimize import BFGS\n",
    "from ase.io.trajectory import Trajectory\n",
    "from ase.constraints import FixAtoms\n",
    "from ase.build import surface, bulk\n",
    "from ase.visualize import view\n",
    "\n",
    "#%load_ext aiida\n",
    "#%aiida\n",
    "#from aiida import orm\n",
    "\n",
    "\n",
    "#\n",
    "# and definitions of visualization functions (see last exercises)\n",
    "#\n",
    "def view_structure(structure,myvec=[]):\n",
    "    t = nv.ASEStructure(structure)\n",
    "    w = nv.NGLWidget(t, gui=True)\n",
    "    w.add_unitcell()\n",
    "    w.add_spacefill(radius=0.2)\n",
    "#    w.add_ball_and_stick()\n",
    "    w.add_representation('label',label_type='atomindex',color='black')\n",
    "#    w.add_representation('spacefill',selection=myvec,color=\"blue\",radius=0.5)\n",
    "#    w.add_representation('spacefill',color=\"blue\",radius=0.5)\n",
    "\n",
    "    return w\n",
    "\n",
    "def view_trajectory(trajectory,myvec=[]):\n",
    "    t2 = nv.ASETrajectory(trajectory)\n",
    "    w2 = nv.NGLWidget(t2, gui=True)\n",
    "    w2.add_representation('label',label_type='atomindex',color='black')\n",
    "    #w2.add_unitcell()\n",
    "    w2.add_ball_and_stick()\n",
    "    w2.add_representation('spacefill',selection=myvec,color=\"red\",radius=0.5)\n",
    "    return w2"
   ]
  },
  {
   "cell_type": "markdown",
   "metadata": {},
   "source": [
    "# Initialisation of the dictionaries"
   ]
  },
  {
   "cell_type": "code",
   "execution_count": null,
   "metadata": {},
   "outputs": [],
   "source": [
    "calc = {}\n",
    "filetraj = {}\n",
    "energy = {}\n"
   ]
  },
  {
   "cell_type": "markdown",
   "metadata": {},
   "source": [
    "# Creation of calculator"
   ]
  },
  {
   "cell_type": "code",
   "execution_count": null,
   "metadata": {},
   "outputs": [],
   "source": [
    "inp_pbed3=\"\"\"&FORCE_EVAL\n",
    " &DFT\n",
    "   BASIS_SET_FILE_NAME BASIS_MOLOPT\n",
    "   BASIS_SET_FILE_NAME BASIS_MOLOPT_UZH\n",
    " CHARGE 0\n",
    " &QS\n",
    "   METHOD GPW                       !use gaussians and plane waves\n",
    " &END QS\n",
    "    &SCF\n",
    "      &OT\n",
    "        PRECONDITIONER FULL_SINGLE_INVERSE\n",
    "        MINIMIZER DIIS\n",
    "        N_DIIS 7\n",
    "      &END\n",
    "      SCF_GUESS ATOMIC\n",
    "      EPS_SCF 2.0E-5\n",
    "      MAX_SCF 100\n",
    "       &OUTER_SCF\n",
    "          EPS_SCF 2.0E-5\n",
    "          MAX_SCF 100\n",
    "       &END\n",
    "    &END SCF\n",
    " &XC\n",
    "        &VDW_POTENTIAL\n",
    "            DISPERSION_FUNCTIONAL PAIR_POTENTIAL\n",
    "            &PAIR_POTENTIAL\n",
    "               CALCULATE_C9_TERM .TRUE.\n",
    "               PARAMETER_FILE_NAME dftd3.dat\n",
    "               REFERENCE_FUNCTIONAL PBE\n",
    "               R_CUTOFF 15\n",
    "               TYPE DFTD3\n",
    "            &END PAIR_POTENTIAL\n",
    "         &END VDW_POTENTIAL\n",
    " &END XC\n",
    " &END DFT\n",
    " &SUBSYS\n",
    "   &KIND Au\n",
    "     BASIS_SET SZV-MOLOPT-SR-GTH\n",
    "     POTENTIAL GTH-PBE-q11\n",
    "   &END KIND\n",
    "   &KIND Cu\n",
    "     BASIS_SET SZV-MOLOPT-SR-GTH\n",
    "    POTENTIAL GTH-PBE-q11\n",
    "   &END KIND\n",
    "   &KIND C\n",
    "      BASIS_SET DZVP-MOLOPT-GGA-GTH-q4\n",
    "      POTENTIAL GTH-PBE-q4\n",
    "   &END KIND\n",
    "   &KIND Br\n",
    "      BASIS_SET DZVP-MOLOPT-GGA-GTH-q7\n",
    "      POTENTIAL GTH-PBE-q7\n",
    "   &END KIND\n",
    "   &KIND H\n",
    "      BASIS_SET DZVP-MOLOPT-GGA-GTH-q1\n",
    "      POTENTIAL GTH-PBE-q1\n",
    "   &END KIND   \n",
    "&END SUBSYS\n",
    "&END FORCE_EVAL\n",
    "\"\"\""
   ]
  },
  {
   "cell_type": "markdown",
   "metadata": {},
   "source": [
    "## Example of a calculator with Meta-GGA basis sets"
   ]
  },
  {
   "cell_type": "code",
   "execution_count": null,
   "metadata": {},
   "outputs": [],
   "source": [
    "inp_scan=\"\"\"&FORCE_EVAL\n",
    " &DFT\n",
    "   BASIS_SET_FILE_NAME BASIS_MOLOPT\n",
    "   BASIS_SET_FILE_NAME BASIS_MOLOPT_UZH\n",
    " CHARGE 0\n",
    " &QS\n",
    "   METHOD GPW                       !use gaussians and plane waves\n",
    " &END QS\n",
    "    &SCF\n",
    "      &OT\n",
    "        PRECONDITIONER FULL_SINGLE_INVERSE\n",
    "        MINIMIZER DIIS\n",
    "        N_DIIS 7\n",
    "      &END\n",
    "      SCF_GUESS ATOMIC\n",
    "      EPS_SCF 2.0E-5\n",
    "      MAX_SCF 100\n",
    "       &OUTER_SCF\n",
    "          EPS_SCF 2.0E-5\n",
    "          MAX_SCF 100\n",
    "       &END\n",
    "    &END SCF\n",
    " &END DFT\n",
    "  &SUBSYS   \n",
    "   &KIND Cu\n",
    "     BASIS_SET DZVP-MOLOPT-SCAN-GTH-q11\n",
    "    POTENTIAL GTH-MGGA-q11\n",
    "   &END KIND\n",
    "   &KIND C\n",
    "      BASIS_SET DZVP-MOLOPT-SCAN-GTH-q4\n",
    "      POTENTIAL GTH-MGGA-q4\n",
    "   &END KIND\n",
    "   &KIND Br\n",
    "      BASIS_SET DZVP-MOLOPT-SCAN-GTH-q7\n",
    "      POTENTIAL GTH-MGGA-q7\n",
    "   &END KIND\n",
    "   &KIND H\n",
    "      BASIS_SET DZVP-MOLOPT-SCAN-GTH-q1\n",
    "      POTENTIAL GTH-MGGA-q1\n",
    "   &END KIND   \n",
    "&END SUBSYS\n",
    "&END FORCE_EVAL\n",
    "\"\"\""
   ]
  },
  {
   "cell_type": "code",
   "execution_count": null,
   "metadata": {},
   "outputs": [],
   "source": [
    "def ini_calcs():\n",
    "    global calc_pbed3, calc_scan\n",
    "    from ase.calculators.cp2k import CP2K\n",
    "    calc_pbed3 = CP2K(inp=inp_pbed3,command=\"env OMP_NUM_THREADS=4  /usr/bin/cp2k_shell.psmp\",basis_set_file=None,potential_file=\"POTENTIAL\",force_eval_method='QS',basis_set=None,pseudo_potential=None,cutoff=5440,stress_tensor=False,max_scf=None,xc=\"PBE\")\n",
    "    calc_scan = CP2K(inp=inp_scan,command=\"env OMP_NUM_THREADS=4  /usr/bin/cp2k_shell.psmp\",basis_set_file=None,potential_file=\"POTENTIAL_UZH\",force_eval_method='QS',basis_set=None,pseudo_potential=None,cutoff=5440,stress_tensor=False,max_scf=None,xc=\"MGGA_C_SCAN_RVV10\")\n",
    "    "
   ]
  },
  {
   "cell_type": "code",
   "execution_count": null,
   "metadata": {},
   "outputs": [],
   "source": [
    "#\n",
    "# Initialize the calculators\n",
    "#\n",
    "\n",
    "ini_calcs()"
   ]
  },
  {
   "cell_type": "markdown",
   "metadata": {},
   "source": [
    "## First of all, we will create substrates.\n"
   ]
  },
  {
   "cell_type": "markdown",
   "metadata": {},
   "source": [
    "## Cu (111)"
   ]
  },
  {
   "cell_type": "code",
   "execution_count": null,
   "metadata": {
    "scrolled": true
   },
   "outputs": [],
   "source": [
    "\n",
    "custom_lattice_constant = 3.569  # Adjusted from the default, from literature about PBED3 (typically ~3.61 Å)\n",
    "                                 #  https://onlinelibrary.wiley.com/doi/10.1002/jcc.23037\n",
    "\n",
    "# Create bulk copper with the modified lattice constant\n",
    "\n",
    "\n",
    "cu_bulk = bulk('Cu', 'fcc', a=custom_lattice_constant)\n",
    "\n",
    "# Create Cu(111) slab\n",
    "cu_slab = surface(cu_bulk, (1, 1, 1), layers=2)\n",
    "\n",
    "# Expand in x and y directions\n",
    "cu_slab = cu_slab.repeat((5, 5, 1))\n",
    "\n",
    "# Check number of atoms\n",
    "num_atoms = len(cu_slab)\n",
    "print(f\"Number of atoms in the slab: {num_atoms}\")\n",
    "\n",
    "\n",
    "# Increase vacuum only in z-direction\n",
    "cu_slab.cell[2, 2] += 10  # Adds 10 Å to the z-dimension\n",
    "\n",
    "cu_slab.set_pbc([True, True, True]) # all periodic for the solution of the Poisson equation \n",
    "\n",
    "# Check slab cell dimensions\n",
    "print(\"Cell dimensions:\", cu_slab.cell)\n",
    "\n",
    "\n",
    "# Initialize empty nested dictionary\n",
    "\n",
    "energy [\"cu_slab\"] = {}\n",
    "\n",
    "#\n",
    "# This is the important write. \n",
    "#\n",
    "\n",
    "write (\"cu_slab_ini.xyz\",cu_slab)\n",
    "\n",
    "# View slab\n",
    "view_structure(cu_slab)\n",
    "\n"
   ]
  },
  {
   "cell_type": "code",
   "execution_count": null,
   "metadata": {},
   "outputs": [],
   "source": [
    "!rm cp2k.out\n",
    "\n",
    "\n",
    "# Choose the calculator: pbed3 for the optimization of the slab\n",
    "\n",
    "\n",
    "#cu_slab.calc = None\n",
    "ini_calcs()\n",
    "calc [\"cu_slab\"] = calc_pbed3\n",
    "cu_slab.calc = calc [\"cu_slab\"]\n",
    "print (cu_slab.calc)\n",
    "\n",
    "myenergy = cu_slab.get_potential_energy()\n",
    "energy [\"cu_slab\"][\"pbed3\"] = myenergy\n",
    "print(f'Energy of cu_slab: {myenergy} eV')\n",
    "write (\"cu_slab_ini.xyz\",cu_slab)\n"
   ]
  },
  {
   "cell_type": "markdown",
   "metadata": {},
   "source": [
    "## Au (111)"
   ]
  },
  {
   "cell_type": "code",
   "execution_count": null,
   "metadata": {
    "scrolled": true
   },
   "outputs": [],
   "source": [
    "\n",
    "custom_lattice_constant = 4.115  # Adjusted from the default, from literature about PBED3 \n",
    "                                 #  https://onlinelibrary.wiley.com/doi/10.1002/jcc.23037\n",
    "\n",
    "# Create bulk copper with the modified lattice constant\n",
    "\n",
    "\n",
    "au_bulk = bulk('Au', 'fcc', a=custom_lattice_constant)\n",
    "\n",
    "# Create Au(111) slab\n",
    "au_slab = surface(au_bulk, (1, 1, 1), layers=2)\n",
    "\n",
    "# Expand in x and y directions\n",
    "au_slab = au_slab.repeat((5, 5, 1))\n",
    "\n",
    "# Check number of atoms\n",
    "num_atoms = len(au_slab)\n",
    "print(f\"Number of atoms in the slab: {num_atoms}\")\n",
    "\n",
    "\n",
    "# Increase vacuum only in z-direction\n",
    "au_slab.cell[2, 2] += 10  # Adds 10 Å to the z-dimension\n",
    "\n",
    "au_slab.set_pbc([True, True, True]) # all periodic for the solution of the Poisson equation \n",
    "\n",
    "# Check slab cell dimensions\n",
    "print(\"Cell dimensions:\", au_slab.cell)\n",
    "\n",
    "\n",
    "# Initialize empty nested dictionary\n",
    "\n",
    "energy [\"au_slab\"] = {}\n",
    "\n",
    "\n",
    "\n",
    "# View slab\n",
    "view_structure(au_slab)\n",
    "\n"
   ]
  },
  {
   "cell_type": "code",
   "execution_count": null,
   "metadata": {},
   "outputs": [],
   "source": [
    "!rm cp2k.out\n",
    "\n",
    "\n",
    "# Choose the calculator: pbed3 for the optimization of the slab\n",
    "\n",
    "\n",
    "#cu_slab.calc = None\n",
    "ini_calcs()\n",
    "calc [\"au_slab\"] = calc_pbed3\n",
    "au_slab.calc = calc [\"au_slab\"]\n",
    "print (au_slab.calc)\n",
    "\n",
    "myenergy = au_slab.get_potential_energy()\n",
    "energy [\"au_slab\"][\"pbed3\"] = myenergy\n",
    "print(f'Energy of au_slab: {myenergy} eV')\n",
    "write (\"au_slab_ini.xyz\",au_slab)\n"
   ]
  },
  {
   "cell_type": "markdown",
   "metadata": {},
   "source": [
    "# BROMOBENZENE"
   ]
  },
  {
   "cell_type": "code",
   "execution_count": null,
   "metadata": {
    "scrolled": true
   },
   "outputs": [],
   "source": [
    "from rdkit import Chem\n",
    "from rdkit.Chem import AllChem\n",
    "smiles = \"C1=CC=C(C=C1)Br\"\n",
    "\n",
    "# Convert SMILES to RDKit molecule\n",
    "mol = Chem.MolFromSmiles(smiles)\n",
    "mol = Chem.AddHs(mol)\n",
    "\n",
    "# Generate 3D conformer\n",
    "AllChem.EmbedMolecule(mol, AllChem.ETKDG())\n",
    "\n",
    "# Extract atomic positions\n",
    "conf = mol.GetConformer()\n",
    "positions = np.array([conf.GetAtomPosition(i) for i in range(mol.GetNumAtoms())])\n",
    "\n",
    "# Convert to ASE Atoms\n",
    "symbols = [atom.GetSymbol() for atom in mol.GetAtoms()]\n",
    "bromobenzene = Atoms(symbols, positions=positions)\n",
    "\n",
    "bromobenzene.set_cell([10, 10, 10])\n",
    "bromobenzene.set_pbc([True,True,True])\n",
    "bromobenzene.center()\n",
    "\n",
    "# Initialize nested energy dictionary\n",
    "energy [\"bromobenzene\"] = {}\n",
    "view_structure(bromobenzene)"
   ]
  },
  {
   "cell_type": "code",
   "execution_count": null,
   "metadata": {},
   "outputs": [],
   "source": [
    "distance =  bromobenzene.get_distance(3, 6)\n",
    "print (\"C-Br bond distance: \",distance)"
   ]
  },
  {
   "cell_type": "markdown",
   "metadata": {},
   "source": [
    "## Let's optimize bromobenzene"
   ]
  },
  {
   "cell_type": "code",
   "execution_count": 2,
   "metadata": {},
   "outputs": [],
   "source": [
    "## Definition of optimization function\n",
    "def myoptimize(system,model,level):\n",
    "    opt = BFGS(system)\n",
    "    fmax_threshold = 0.05\n",
    "\n",
    "    while True:\n",
    "        opt.step()  # Perform a single optimization step\n",
    "        energy [model][level] = system.get_potential_energy()\n",
    "        print (\"Energy: \",energy [model][level])\n",
    "        write(model+\"_opt.xyz\", system, format='extxyz', append=True)  # Append structure\n",
    "        # Run optimization with proper exit condition\n",
    "\n",
    "        # Check max force using ASE's built-in functionality\n",
    "        fmax = max(system.get_forces().flatten())\n",
    "        print (\"Fmax: \",fmax,\" (\",fmax_threshold,\")\")\n",
    "\n",
    "\n",
    "        if fmax < fmax_threshold:\n",
    "            print(f\"Optimization stopped: fmax = {fmax:.4f} eV/Å\")\n",
    "            break\n",
    "\n",
    "    return energy[model][level]\n"
   ]
  },
  {
   "cell_type": "code",
   "execution_count": null,
   "metadata": {},
   "outputs": [],
   "source": [
    "ini_calcs()\n",
    "calc[\"bromobenzene\"] = calc_pbed3\n",
    "bromobenzene.calc = calc_pbed3\n",
    "# myenergy = bromobenzene.get_potential_energy()\n",
    "# energy [\"bromobenzene\"][\"pbed3\"] = myenergy\n",
    "\n",
    "\n",
    "\n",
    "\n"
   ]
  },
  {
   "cell_type": "code",
   "execution_count": null,
   "metadata": {},
   "outputs": [],
   "source": [
    "\n",
    "!rm cp2k.out\n",
    "!rm bromobenzene_opt.xyz \n",
    "myoptimize(bromobenzene,\"bromobenzene\",\"pbed3\")\n",
    "\n",
    "write (\"bromobenzene_ini.xyz\",bromobenzene)"
   ]
  },
  {
   "cell_type": "code",
   "execution_count": null,
   "metadata": {},
   "outputs": [],
   "source": [
    "print (energy[\"bromobenzene\"][\"pbed3\"])"
   ]
  },
  {
   "cell_type": "code",
   "execution_count": null,
   "metadata": {},
   "outputs": [],
   "source": [
    "traj = read (\"bromobenzene_opt.xyz\",\":\")\n",
    "myview=view_trajectory(traj)\n",
    "myview.add_distance(atom_pair=[[3,6]], label_color=\"black\")\n",
    "myview"
   ]
  },
  {
   "cell_type": "markdown",
   "metadata": {},
   "source": [
    "## Adding bromobenzene on the slab"
   ]
  },
  {
   "cell_type": "code",
   "execution_count": null,
   "metadata": {},
   "outputs": [],
   "source": [
    "#for security, I copy the optimized bromobenzene into another instance\n",
    "\n",
    "bromobenzene_opt = bromobenzene.copy()"
   ]
  },
  {
   "cell_type": "code",
   "execution_count": null,
   "metadata": {},
   "outputs": [],
   "source": [
    "\n",
    "bromobenzene = read(\"bromobenzene_ini.xyz\")\n",
    "\n",
    "bromobenzene.rotate(30, 'z', center='COM')\n",
    "\n",
    "#\n",
    "# one could start with this molecule... but in the next cell I took a geometry from a previously optimized run\n",
    "#\n"
   ]
  },
  {
   "cell_type": "code",
   "execution_count": null,
   "metadata": {},
   "outputs": [],
   "source": [
    "from ase.build import add_adsorbate\n",
    "cu_bromobenzene = cu_slab.copy()\n",
    "# \n",
    "# read from a previous optimization:\n",
    "#\n",
    "bromobenzene = read(\"bromobenzene_oncu.xyz\")\n",
    "cu_bromobenzene = cu_slab.copy()\n",
    "\n",
    "# Place bromobenzene on the slab\n",
    "add_adsorbate(cu_bromobenzene, bromobenzene, height=2.9, position=(0,0))\n",
    "\n",
    "\n",
    "\n",
    "target_coo = (cu_bromobenzene.positions[35]+cu_bromobenzene.positions[27])*0.5\n",
    "\n",
    "brx = cu_bromobenzene.positions[56,0]\n",
    "bry = cu_bromobenzene.positions[56,1]\n",
    "brz = cu_bromobenzene.positions[56,2]\n",
    "\n",
    "\n",
    "\n",
    "target_coo [2] += 9.505-7.060\n",
    "\n",
    "displacement_xyz = [target_coo[0]-brx,target_coo[1]-bry,target_coo[2]-brz]\n",
    "\n",
    "\n",
    "cu_bromobenzene.positions [50:] += displacement_xyz\n",
    "\n",
    "\n",
    "\n",
    "# Center the slab\n",
    "cu_bromobenzene.center(vacuum=5.0, axis=2)\n",
    "\n",
    "# Print structure\n",
    "\n",
    "if 'adsorbate_info' in cu_bromobenzene.info:\n",
    "    del cu_bromobenzene.info['adsorbate_info']\n",
    "\n",
    "cu_bromobenzene.write (\"cu_bromobenzene.xyz\")\n",
    "\n",
    "# Initialize nested energy dictionary\n",
    "energy [\"cu_bromobenzene\"] = {}\n",
    "\n",
    "view_structure(cu_bromobenzene)\n"
   ]
  },
  {
   "cell_type": "code",
   "execution_count": null,
   "metadata": {},
   "outputs": [],
   "source": [
    "#\n",
    "# fix all the copper atoms during optimization (to fit the computer)\n",
    "# \n",
    "\n",
    "sorted_atoms = sorted(cu_bromobenzene, key=lambda atom: atom.position[2])\n",
    "for atom in sorted_atoms:\n",
    "    print(f\"Atom {atom.index}: Z = {atom.position[2]:.2f} Å\")\n",
    "\n",
    "    # Fix all 2 layers\n",
    "bottom_layer_indices = [atom.index for atom in cu_bromobenzene if atom.position[2] < 8]  # Adjust threshold\n",
    "\n",
    "print (bottom_layer_indices)\n",
    "constraint = FixAtoms(indices=bottom_layer_indices)\n",
    "cu_bromobenzene.set_constraint(constraint)"
   ]
  },
  {
   "cell_type": "code",
   "execution_count": null,
   "metadata": {},
   "outputs": [],
   "source": []
  },
  {
   "cell_type": "code",
   "execution_count": null,
   "metadata": {},
   "outputs": [],
   "source": [
    "ini_calcs()\n",
    "calc [\"cu_bromobenzene\"] = calc_pbed3\n",
    "cu_bromobenzene.calc = calc [\"cu_bromobenzene\"]\n",
    "print (cu_bromobenzene.calc)"
   ]
  },
  {
   "cell_type": "code",
   "execution_count": null,
   "metadata": {},
   "outputs": [],
   "source": [
    "!rm cp2k.out\n",
    "!rm cu_bromobenzene_opt*xyz \n",
    "system = cu_bromobenzene\n",
    "model = \"cu_bromobenzene\"\n",
    "myoptimize (cu_bromobenzene,\"cu_bromobenzene\",\"pbed3\")"
   ]
  },
  {
   "cell_type": "code",
   "execution_count": null,
   "metadata": {},
   "outputs": [],
   "source": [
    "write (\"cu_bromobenzene_ini.xyz\",cu_bromobenzene)\n",
    "\n",
    "print(energy[\"cu_bromobenzene\"][\"pbed3\"])"
   ]
  },
  {
   "cell_type": "code",
   "execution_count": null,
   "metadata": {},
   "outputs": [],
   "source": [
    "traj = read (\"cu_bromobenzene_opt.xyz\",\":\")\n",
    "myview=view_trajectory(traj)\n",
    "myview.add_distance(atom_pair=[[3,6]], label_color=\"black\")\n",
    "myview"
   ]
  },
  {
   "cell_type": "markdown",
   "metadata": {},
   "source": [
    "# Debrominated molecule"
   ]
  },
  {
   "cell_type": "code",
   "execution_count": null,
   "metadata": {},
   "outputs": [],
   "source": [
    "\n",
    "cu_debr_bromobenzene = cu_slab.copy()\n",
    "# \n",
    "# read from a previous optimization:\n",
    "#\n",
    "debr_bromobenzene = read(\"debr_bromobenzene_oncu.xyz\")\n",
    "\n",
    "#debr_bromobenzene.rotate (15,v=[-1,2,0],center='COM')\n",
    "# Place bromobenzene on the slab\n",
    "add_adsorbate(cu_debr_bromobenzene, debr_bromobenzene, height=2.07, position=(0,0))\n",
    "\n",
    "\n",
    "\n",
    "target_coo = (cu_debr_bromobenzene.positions[35]+cu_debr_bromobenzene.positions[27]+cu_debr_bromobenzene.positions[25])/3.\n",
    "brx = cu_debr_bromobenzene.positions[56,0]\n",
    "bry = cu_debr_bromobenzene.positions[56,1]\n",
    "brz = cu_debr_bromobenzene.positions[56,2]\n",
    "\n",
    "# target_coo [2] += 9.505-7.060\n",
    "\n",
    "displacement_xyz = [target_coo[0]-brx,target_coo[1]-bry,target_coo[2]-brz+2.07]\n",
    "\n",
    "\n",
    "cu_debr_bromobenzene.positions [50:] += displacement_xyz\n",
    "\n",
    "cu_debr_bromobenzene.positions [56] += [0.,0.,0.]\n",
    "\n",
    "\n",
    "\n",
    "# Center the slab\n",
    "cu_debr_bromobenzene.center(vacuum=5.0, axis=2)\n",
    "\n",
    "# Print structure\n",
    "\n",
    "if 'adsorbate_info' in cu_debr_bromobenzene.info:\n",
    "    del cu_debr_bromobenzene.info['adsorbate_info']\n",
    "\n",
    "cu_debr_bromobenzene.write (\"cu_debr_bromobenzene.xyz\")\n",
    "\n",
    "# Initialize nested energy dictionary\n",
    "energy [\"cu_debr_bromobenzene\"] = {}\n",
    "\n",
    "view_structure(cu_debr_bromobenzene)\n"
   ]
  },
  {
   "cell_type": "code",
   "execution_count": null,
   "metadata": {},
   "outputs": [],
   "source": [
    "\n",
    "sorted_atoms = sorted(cu_debr_bromobenzene, key=lambda atom: atom.position[2])\n",
    "#for atom in sorted_atoms:\n",
    "#    print(f\"Atom {atom.index}: Z = {atom.position[2]:.2f} Å\")\n",
    "\n",
    "    # Fix all 2 layers\n",
    "bottom_layer_indices = [atom.index for atom in cu_debr_bromobenzene if atom.position[2] < 8]  # Adjust threshold\n",
    "\n",
    "print (bottom_layer_indices)\n",
    "constraint = FixAtoms(indices=bottom_layer_indices)\n",
    "cu_debr_bromobenzene.set_constraint(constraint)"
   ]
  },
  {
   "cell_type": "code",
   "execution_count": null,
   "metadata": {},
   "outputs": [],
   "source": [
    "ini_calcs()\n",
    "calc [\"cu_debr_bromobenzene\"] = calc_pbed3\n",
    "cu_debr_bromobenzene.calc = calc [\"cu_debr_bromobenzene\"]\n",
    "print (cu_debr_bromobenzene.calc)"
   ]
  },
  {
   "cell_type": "code",
   "execution_count": null,
   "metadata": {},
   "outputs": [],
   "source": [
    "!rm cp2k.out\n",
    "!rm cu_debr_bromobenzene_opt*xyz \n",
    "system = cu_debr_bromobenzene\n",
    "model = \"cu_debr_bromobenzene\"\n",
    "myoptimize (cu_debr_bromobenzene,\"cu_debr_bromobenzene\",\"pbed3\")"
   ]
  },
  {
   "cell_type": "code",
   "execution_count": null,
   "metadata": {},
   "outputs": [],
   "source": [
    "print (energy [\"cu_debr_bromobenzene\"][\"pbed3\"], energy[\"cu_bromobenzene\"][\"pbed3\"])"
   ]
  },
  {
   "cell_type": "markdown",
   "metadata": {},
   "source": [
    "# ASSIGNMENT 1: COMPUTE THE ADSORPTION ENERGY OF BROMOBENZENE AND DEBROMINATED BROMOBENZENE ON THE CU SURFACE"
   ]
  },
  {
   "cell_type": "markdown",
   "metadata": {},
   "source": [
    "# Testing directly the configurations from the paper"
   ]
  },
  {
   "cell_type": "markdown",
   "metadata": {},
   "source": [
    "## PBE-D3 debromination on Cu\n"
   ]
  },
  {
   "cell_type": "code",
   "execution_count": null,
   "metadata": {},
   "outputs": [],
   "source": [
    "\n",
    "# \n",
    "# read from a reduced geometry taken from Chen et al.:\n",
    "#\n",
    "cu_debr_bromobenzene_paper = read(\"Orig/cu_debr_bromobenzene_paper.xyz\")\n",
    "\n",
    "cu_debr_bromobenzene_paper.cell[2,2] = 15.\n",
    "\n",
    "\n",
    "\n",
    "# Print structure\n",
    "\n",
    "if 'adsorbate_info' in cu_debr_bromobenzene_paper.info:\n",
    "    del cu_debr_bromobenzene_paper.info['adsorbate_info']\n",
    "\n",
    "cu_debr_bromobenzene_paper.write (\"cu_debr_bromobenzene_paper.xyz\")\n",
    "\n",
    "# Initialize nested energy dictionary\n",
    "energy [\"cu_debr_bromobenzene_paper\"] = {}\n",
    "\n",
    "view_structure(cu_debr_bromobenzene_paper)\n",
    "\n"
   ]
  },
  {
   "cell_type": "code",
   "execution_count": null,
   "metadata": {},
   "outputs": [],
   "source": [
    "ini_calcs()\n",
    "calc [\"cu_debr_bromobenzene_paper\"] = calc_pbed3\n",
    "cu_debr_bromobenzene_paper.calc = calc [\"cu_debr_bromobenzene_paper\"]\n",
    "print (cu_debr_bromobenzene_paper.calc)"
   ]
  },
  {
   "cell_type": "code",
   "execution_count": null,
   "metadata": {},
   "outputs": [],
   "source": [
    "energy[\"cu_debr_bromobenzene_paper\"][\"pbed3\"]=cu_debr_bromobenzene_paper.get_potential_energy()"
   ]
  },
  {
   "cell_type": "code",
   "execution_count": null,
   "metadata": {
    "scrolled": true
   },
   "outputs": [],
   "source": [
    "print (energy[\"cu_debr_bromobenzene_paper\"][\"pbed3\"])"
   ]
  },
  {
   "cell_type": "markdown",
   "metadata": {},
   "source": [
    "## PBE-D3 Bromobenzene on Cu"
   ]
  },
  {
   "cell_type": "code",
   "execution_count": null,
   "metadata": {},
   "outputs": [],
   "source": [
    "\n",
    "# \n",
    "# read from a reduced geometry taken from Chen et al.:\n",
    "#\n",
    "cu_bromobenzene_paper = read(\"Orig/cu_bromobenzene_paper.xyz\")\n",
    "\n",
    "\n",
    "\n",
    "\n",
    "# Print structure\n",
    "\n",
    "if 'adsorbate_info' in cu_bromobenzene_paper.info:\n",
    "    del cu_bromobenzene_paper.info['adsorbate_info']\n",
    "\n",
    "cu_bromobenzene_paper.write (\"cu_bromobenzene_paper.xyz\")\n",
    "\n",
    "# Initialize nested energy dictionary\n",
    "energy [\"cu_bromobenzene_paper\"] = {}\n",
    "\n",
    "view_structure(cu_bromobenzene_paper)\n",
    "\n"
   ]
  },
  {
   "cell_type": "code",
   "execution_count": null,
   "metadata": {},
   "outputs": [],
   "source": [
    "ini_calcs()\n",
    "calc [\"cu_bromobenzene_paper\"] = calc_pbed3\n",
    "cu_bromobenzene_paper.calc = calc [\"cu_bromobenzene_paper\"]\n",
    "print (cu_bromobenzene_paper.calc)"
   ]
  },
  {
   "cell_type": "code",
   "execution_count": null,
   "metadata": {},
   "outputs": [],
   "source": [
    "energy[\"cu_bromobenzene_paper\"][\"pbed3\"]=cu_bromobenzene_paper.get_potential_energy()\n"
   ]
  },
  {
   "cell_type": "code",
   "execution_count": null,
   "metadata": {},
   "outputs": [],
   "source": [
    "print(energy[\"cu_bromobenzene_paper\"][\"pbed3\"])"
   ]
  },
  {
   "cell_type": "markdown",
   "metadata": {},
   "source": [
    "## PBE-D3 bromobenzene on Au"
   ]
  },
  {
   "cell_type": "code",
   "execution_count": null,
   "metadata": {
    "scrolled": true
   },
   "outputs": [],
   "source": [
    "\n",
    "# \n",
    "# read from a reduced geometry taken from Chen et al.:\n",
    "#\n",
    "au_bromobenzene_paper = read(\"Orig/au_bromobenzene_paper.xyz\")\n",
    "\n",
    "\n",
    "\n",
    "\n",
    "# Print structure\n",
    "\n",
    "if 'adsorbate_info' in au_bromobenzene_paper.info:\n",
    "    del au_bromobenzene_paper.info['adsorbate_info']\n",
    "\n",
    "au_bromobenzene_paper.write (\"au_bromobenzene_paper.xyz\")\n",
    "\n",
    "# Initialize nested energy dictionary\n",
    "energy [\"au_bromobenzene_paper\"] = {}\n",
    "\n",
    "view_structure(au_bromobenzene_paper)\n"
   ]
  },
  {
   "cell_type": "code",
   "execution_count": null,
   "metadata": {},
   "outputs": [],
   "source": []
  },
  {
   "cell_type": "code",
   "execution_count": null,
   "metadata": {},
   "outputs": [],
   "source": [
    "ini_calcs()\n",
    "calc [\"au_bromobenzene_paper\"] = calc_pbed3\n",
    "au_bromobenzene_paper.calc = calc [\"au_bromobenzene_paper\"]\n",
    "print (au_bromobenzene_paper.calc)"
   ]
  },
  {
   "cell_type": "code",
   "execution_count": null,
   "metadata": {},
   "outputs": [],
   "source": [
    "energy[\"au_bromobenzene_paper\"][\"pbed3\"]=au_bromobenzene_paper.get_potential_energy()\n",
    "print(energy[\"au_bromobenzene_paper\"][\"pbed3\"])"
   ]
  },
  {
   "cell_type": "markdown",
   "metadata": {},
   "source": [
    "## Pbe-D3 Debromination on Au"
   ]
  },
  {
   "cell_type": "code",
   "execution_count": null,
   "metadata": {},
   "outputs": [],
   "source": [
    "\n",
    "# \n",
    "# read from a reduced geometry taken from Chen et al.:\n",
    "#\n",
    "au_debr_bromobenzene_paper = read(\"Orig/au_debr_bromobenzene_paper.xyz\")\n",
    "\n",
    "au_debr_bromobenzene_paper.cell[2,2] = 15.\n",
    "\n",
    "\n",
    "\n",
    "# Print structure\n",
    "\n",
    "if 'adsorbate_info' in au_debr_bromobenzene_paper.info:\n",
    "    del au_debr_bromobenzene_paper.info['adsorbate_info']\n",
    "\n",
    "au_debr_bromobenzene_paper.write (\"au_debr_bromobenzene_paper.xyz\")\n",
    "\n",
    "# Initialize nested energy dictionary\n",
    "energy [\"au_debr_bromobenzene_paper\"] = {}\n",
    "\n",
    "view_structure(au_debr_bromobenzene_paper)\n",
    "\n"
   ]
  },
  {
   "cell_type": "code",
   "execution_count": null,
   "metadata": {},
   "outputs": [],
   "source": [
    "ini_calcs()\n",
    "calc [\"au_debr_bromobenzene_paper\"] = calc_pbed3\n",
    "au_debr_bromobenzene_paper.calc = calc [\"au_debr_bromobenzene_paper\"]\n",
    "print (au_debr_bromobenzene_paper.calc)"
   ]
  },
  {
   "cell_type": "code",
   "execution_count": null,
   "metadata": {},
   "outputs": [],
   "source": [
    "energy[\"au_debr_bromobenzene_paper\"][\"pbed3\"]=au_debr_bromobenzene_paper.get_potential_energy()\n",
    "print(energy[\"au_debr_bromobenzene_paper\"][\"pbed3\"])"
   ]
  },
  {
   "cell_type": "markdown",
   "metadata": {},
   "source": [
    "# ASSIGNMENT: COMPARE THE REACTION ENERGIES ON AU AND CU. DISCUSS THE DIFFERENCES. COMPARE WITH THE VALUES OF THE PAPER."
   ]
  },
  {
   "cell_type": "code",
   "execution_count": null,
   "metadata": {},
   "outputs": [],
   "source": []
  },
  {
   "cell_type": "markdown",
   "metadata": {},
   "source": [
    "## SCAN-Rvv10 on Cu"
   ]
  },
  {
   "cell_type": "code",
   "execution_count": null,
   "metadata": {},
   "outputs": [],
   "source": [
    "\n",
    "# \n",
    "# read from a reduced geometry taken from Chen et al.:\n",
    "#\n",
    "cu_scan_debr_bromobenzene_paper = read(\"Orig/cu_scan_debr_bromobenzene_paper.xyz\")\n",
    "\n",
    "cu_scan_debr_bromobenzene_paper.cell[2,2] = 15.\n",
    "\n",
    "\n",
    "\n",
    "# Print structure\n",
    "\n",
    "if 'adsorbate_info' in cu_scan_debr_bromobenzene_paper.info:\n",
    "    del cu_scan_debr_bromobenzene_paper.info['adsorbate_info']\n",
    "\n",
    "cu_scan_debr_bromobenzene_paper.write (\"cu_scan_debr_bromobenzene_paper.xyz\")\n",
    "\n",
    "# Initialize nested energy dictionary\n",
    "energy [\"cu_scan_debr_bromobenzene_paper\"] = {}\n",
    "\n",
    "view_structure(cu_scan_debr_bromobenzene_paper)\n"
   ]
  },
  {
   "cell_type": "code",
   "execution_count": null,
   "metadata": {},
   "outputs": [],
   "source": [
    "ini_calcs()\n",
    "calc [\"cu_scan_debr_bromobenzene_paper\"] = calc_scan\n",
    "cu_scan_debr_bromobenzene_paper.calc = calc [\"cu_scan_debr_bromobenzene_paper\"]\n",
    "print (cu_scan_debr_bromobenzene_paper.calc)"
   ]
  },
  {
   "cell_type": "code",
   "execution_count": null,
   "metadata": {},
   "outputs": [],
   "source": [
    "energy[\"cu_scan_debr_bromobenzene_paper\"][\"scan\"]=cu_scan_debr_bromobenzene_paper.get_potential_energy()\n",
    "print(energy[\"cu_scan_debr_bromobenzene_paper\"][\"scan\"])"
   ]
  },
  {
   "cell_type": "markdown",
   "metadata": {},
   "source": [
    "# ASSIGNMENT: COMPARE RESULT WITH PBE-D3 WITH SCAN. IF THE SCAN-RVV10 DOES NOT CONVERGE, CREATE A CALCULATOR WITH ANOTHER METHOD THAT IS PRESENT IN CP2K "
   ]
  },
  {
   "cell_type": "code",
   "execution_count": null,
   "metadata": {},
   "outputs": [],
   "source": []
  }
 ],
 "metadata": {
  "kernelspec": {
   "display_name": "Python 3 (ipykernel)",
   "language": "python",
   "name": "python3"
  },
  "language_info": {
   "codemirror_mode": {
    "name": "ipython",
    "version": 3
   },
   "file_extension": ".py",
   "mimetype": "text/x-python",
   "name": "python",
   "nbconvert_exporter": "python",
   "pygments_lexer": "ipython3",
   "version": "3.9.13"
  }
 },
 "nbformat": 4,
 "nbformat_minor": 4
}
