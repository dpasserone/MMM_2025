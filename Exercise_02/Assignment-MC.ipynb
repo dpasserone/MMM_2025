{
 "cells": [
  {
   "cell_type": "markdown",
   "id": "3882d467",
   "metadata": {},
   "source": [
    "# Assignment: Non-Boltzmann Sampling\n",
    "\n",
    "---\n",
    "\n",
    "### 🧪 **Objective:**\n",
    "We will use the **Metropolis Monte Carlo (MC) method** with **non-Boltzmann sampling** to **compute the energy barrier** for a **Cu adatom** migrating on a **Cu(111) surface** from an **FCC adsorption site** to an **HCP adsorption site**.\n",
    "\n",
    "---\n",
    "\n",
    "### 🖼️ **System Setup:**\n",
    "<img src=\"Cu_adatom.png\" width=\"500\">\n",
    "\n",
    "- **Substrate:** Cu(111) surface with Cu adatom\n",
    "- **Initial Position:** **FCC adsorption site**\n",
    "\n",
    "---\n",
    "\n",
    "### ⚙️ **Energy Computation:**\n",
    "- **Simulation Engine:** **LAMMPS**\n",
    "- **Potential:** **EAM (Embedded Atom Method)** for Cu\n",
    "- **Units:**\n",
    "  - **Energy:** eV\n",
    "  - **Distances:** Å\n",
    "\n",
    "---\n",
    "\n",
    "### 🔍 **Averaged quantities:**\n",
    "1. **Enthalpy** of different configurations.\n",
    "2. **Free Energy** derived from **MC statistics**.\n",
    "3. **CV** value.\n",
    "\n",
    "---\n",
    "\n",
    "### 🎯 **Key Challenge:**\n",
    "To enable the adatom to move from its **initial position** to the **HCP site**, we will apply an **\"umbrella\" energy potential** to **guide the sampling**.\n",
    "\n",
    "---\n",
    "\n"
   ]
  },
  {
   "cell_type": "code",
   "execution_count": null,
   "id": "89af81d4",
   "metadata": {},
   "outputs": [],
   "source": [
    "# Import libraries and read geometry files of the Cu clusters\n",
    "import numpy as np\n",
    "from scipy.constants import physical_constants\n",
    "from ase import Atoms,Atom\n",
    "from ase.io import read,write\n",
    "from ase.build import fcc111\n",
    "import nglview as nv\n",
    "import time\n",
    "import matplotlib.pyplot as plt\n",
    "from ase.calculators.lammpsrun import LAMMPS\n",
    "from IPython.display import Audio\n",
    "from scipy.interpolate import CubicSpline\n",
    "import ipywidgets as ipw"
   ]
  },
  {
   "cell_type": "code",
   "execution_count": null,
   "id": "78caaa2b",
   "metadata": {},
   "outputs": [],
   "source": [
    "def format_number(x, _):\n",
    "    if x >= 1e6:\n",
    "        return f'{x/1e6:.1f}M'\n",
    "    elif x >= 1e4:\n",
    "        return f'{x/1e3:.1f}k'\n",
    "    else:\n",
    "        return str(int(x))"
   ]
  },
  {
   "cell_type": "code",
   "execution_count": null,
   "id": "e5236f17",
   "metadata": {},
   "outputs": [],
   "source": [
    "output = ipw.Output()"
   ]
  },
  {
   "cell_type": "code",
   "execution_count": null,
   "id": "79cc000a",
   "metadata": {},
   "outputs": [],
   "source": [
    "#Functions to visualize the geometries\n",
    "def view_structure(structure):\n",
    "    \"\"\"\n",
    "    Use the ASE library to view an atoms object.\n",
    "\n",
    "    Parameters\n",
    "    ----------\n",
    "\n",
    "    structure: Atoms object\n",
    "\n",
    "    Returns\n",
    "    -------\n",
    "\n",
    "    NGLWidget with GUI: object to be viewed\n",
    "    \n",
    "    \"\"\"\n",
    "    #t1=make_supercell(structure,[[3,0,0],[0,3,0],[0,0,3]])\n",
    "    t = nv.ASEStructure(structure)\n",
    "    w = nv.NGLWidget(t, gui=True)\n",
    "    w.add_unitcell()\n",
    "    w.add_spacefill()\n",
    "    return w\n",
    "\n",
    "def view_trajectory(trajectory):\n",
    "    t2 = nv.ASETrajectory(trajectory)\n",
    "    w2 = nv.NGLWidget(t2, gui=True)\n",
    "    #w2.add_unitcell()\n",
    "    w2.add_ball_and_stick()\n",
    "    return w2"
   ]
  },
  {
   "cell_type": "code",
   "execution_count": null,
   "id": "e8266bb7",
   "metadata": {},
   "outputs": [],
   "source": [
    "def distance1D(structure,id1,id2,L):\n",
    "    \"\"\"computes the distance along y  between two atoms\"\"\"\n",
    "    return (structure[id1].y - structure[id2].y) %L"
   ]
  },
  {
   "cell_type": "markdown",
   "id": "f8743f32",
   "metadata": {},
   "source": [
    "## Construct Cu(111) slabs with a Cu adatom in 4 different positions "
   ]
  },
  {
   "cell_type": "code",
   "execution_count": null,
   "id": "a26335cb",
   "metadata": {},
   "outputs": [],
   "source": [
    "slab = fcc111('Cu', size=(4, 4, 3), vacuum=15.0, a=3.61,orthogonal=True)\n",
    "slab.pbc=(True,True,True)\n",
    "dz=slab[16].z-slab[0].z\n",
    "fcc = slab.copy() + Atom('Cu',position=slab[6].position + np.array([0,0,3*dz -0.2]))\n",
    "ts = slab.copy() + Atom('Cu',position=(slab[37].position + slab[38].position )/2 +np.array([0,0,dz+0.05]))\n",
    "hcp = slab.copy() + Atom('Cu',position=slab[18].position + np.array([0,0,2*dz -0.2]))\n",
    "top = slab.copy() + Atom('Cu',position=slab[34].position + np.array([0,0,dz +0.3]))\n",
    "natoms=len(fcc)"
   ]
  },
  {
   "cell_type": "code",
   "execution_count": null,
   "id": "01d0c3ce",
   "metadata": {},
   "outputs": [],
   "source": [
    "#view_structure(ts)\n",
    "#fcc.write(\"fcc.xyz\")"
   ]
  },
  {
   "cell_type": "markdown",
   "id": "a1f81a8f",
   "metadata": {},
   "source": [
    "## We define a collective variable CV as the y distance betwee the adatom and the surface atom #42. When CV = 0 the adatom is in \"top\" position."
   ]
  },
  {
   "cell_type": "code",
   "execution_count": null,
   "id": "e26baef8",
   "metadata": {},
   "outputs": [],
   "source": [
    "L = np.abs(fcc[34].y -fcc[42].y)\n",
    "dfcc = distance1D(fcc,48, 34,L=L)\n",
    "dts = distance1D(ts,48, 34,L=L)\n",
    "dhcp = distance1D(hcp,48, 34,L=L)\n",
    "print(f\"distance at FCC: {dfcc:.3} TS: {dts:.3} HCP: {dhcp:.3} L: {L:.3}\")"
   ]
  },
  {
   "cell_type": "code",
   "execution_count": null,
   "id": "6b93e559",
   "metadata": {},
   "outputs": [],
   "source": [
    "calculator_does_not_work = False\n",
    "if calculator_does_not_work:\n",
    "    workdir = !pwd\n",
    "    workdir = workdir[0]\n",
    "    inp=f\"\"\"# (written by ASE)\n",
    "clear\n",
    "atom_style atomic\n",
    "units metal\n",
    "boundary p p p\n",
    "atom_modify sort 0 0.0\n",
    "\n",
    "## interactions\n",
    "pair_style eam\n",
    "read_data data_lammps_cu\n",
    "pair_coeff * * Cu_u3.eam\n",
    "mass 1 63.546\n",
    "\n",
    "## run\n",
    "fix fix_nve all nve\n",
    "dump dump_all all custom 1 {workdir}/trj_lammps.bin id type x y z vx vy vz fx fy fz\n",
    "thermo_style custom step temp press cpu pxx pyy pzz pxy pxz pyz ke pe etotal vol lx ly lz atoms\n",
    "thermo_modify flush yes format float %23.16g\n",
    "thermo 1\n",
    "run 0\n",
    "print \"__end_of_ase_invoked_calculation__\"\n",
    "log /dev/stdout\"\"\"\n",
    "    with open(f\"{workdir}/lammps_cu.in\", \"w\") as text_file:\n",
    "        text_file.write(inp)\n",
    "\n",
    "\n",
    "    data_lammps0=f\"\"\"data_lammps={workdir}/data_lammps_cu (written by ASE)\n",
    "\n",
    "{natoms}       atoms\n",
    "1  atom types\n",
    "0.0      {fcc.cell[0][0]}  xlo xhi\n",
    "0.0      {fcc.cell[1][1]}  ylo yhi\n",
    "0.0      {fcc.cell[2][2]}  zlo zhi\n",
    "\n",
    "\n",
    "\"\"\"\n",
    "\n",
    "    # In case ase.calculator does not work\n",
    "    def lammps_positions(atoms):\n",
    "        \"\"\"Function to write the postions of an ASE Atoms object in the lammps input\n",
    "        -iput: ASE Atoms object\n",
    "        -output: string with positions\n",
    "        \"\"\"\n",
    "        #lmpid={'C':1,'H':2}\n",
    "        positions=\"\"\"Atoms\n",
    "        \n",
    "\"\"\"\n",
    "        for i,atom in enumerate(atoms):\n",
    "            positions+=f\"{i+1:4} 1 {atom.x:14.8} {atom.y:14.8} {atom.z:14.8} \\n\"\n",
    "        return positions\n",
    "\n",
    "\n",
    "    def get_energy(atoms):  \n",
    "        \"\"\"Due to a bug in the lammps ASE calculator we write an ad-hoc function to run a lammps calculation\n",
    "        to compute the energy of a configuration\n",
    "        -iput ASE Atoms object\n",
    "        -outpt Enthalpy in eV\n",
    "        \"\"\"\n",
    "        data_lammps = data_lammps0 + lammps_positions(atoms)\n",
    "        with open(f\"{workdir}/data_lammps_cu\", \"w\") as text_file:\n",
    "            text_file.write(data_lammps)\n",
    "        out = !lmp_serial < ./lammps_cu.in  | grep -A 100000 \"Step          Temp          Press\"\n",
    "        # parsing of lammps.log (out) to get the energy of the configuration\n",
    "        results = out[1].split()\n",
    "        return float(results[11])\n",
    "else:\n",
    "    parameters = {'pair_style': 'eam',\n",
    "                'pair_coeff': ['* * Cu_u3.eam']}\n",
    "    files = ['Cu_u3.eam']\n",
    "    lammps = LAMMPS(files=files, **parameters)\n",
    "\n",
    "    def get_energy(asegeo):\n",
    "        asegeo.calc = lammps\n",
    "        return asegeo.get_potential_energy()    "
   ]
  },
  {
   "cell_type": "markdown",
   "id": "00c8020e",
   "metadata": {},
   "source": [
    "## Familiarizing with the system: energy of \"FCC\" \"HCP\",  \"BRIDGE\" and \"TOP\" configurations (not optimized)"
   ]
  },
  {
   "cell_type": "code",
   "execution_count": null,
   "id": "290a41be",
   "metadata": {},
   "outputs": [],
   "source": [
    "# testing the get_energy function\n",
    "start_time = time.time()\n",
    "efcc = get_energy(fcc)\n",
    "ets=get_energy(ts) \n",
    "ehcp = get_energy(hcp)\n",
    "etop = get_energy(top)\n",
    "end_time = time.time()\n",
    "ets-efcc\n",
    "execution_time = end_time - start_time\n",
    "print(f\"\"\"Energy FCC (eV) {efcc:.3f} Energy TS (eV) {ets:.3f} Energy HCP (eV) {ehcp:.3f} Energy top: {etop:.3f}\n",
    "DE TS - FCC (eV) {ets-efcc:.6} \n",
    "DE TS - HCP (eV) {ets-ehcp:.6}\"\"\")\n",
    "print(f\"Execution time {execution_time:.3f} s\")"
   ]
  },
  {
   "cell_type": "markdown",
   "id": "88790577",
   "metadata": {},
   "source": [
    "## Initializing histograms"
   ]
  },
  {
   "cell_type": "code",
   "execution_count": null,
   "id": "70cdd16d",
   "metadata": {},
   "outputs": [],
   "source": [
    "nintervals=200\n",
    "hist, bin_edges = np.histogram([1.0,2.0,3.0], bins=nintervals, range=(0, L))"
   ]
  },
  {
   "cell_type": "code",
   "execution_count": null,
   "id": "443302ad",
   "metadata": {},
   "outputs": [],
   "source": [
    "def find_minimum_energy(L, y_values, nz_intervals, z_min=-0.2, z_max=1.0):\n",
    "    \"\"\"\n",
    "    Computes the minimum energy and corresponding z value for each y in the specified interval.\n",
    "    \n",
    "    :param get_energy: Function that computes energy for the given 'ase_geo' object.\n",
    "    :param L: The upper limit for the y interval (0, L).\n",
    "    :param ny_intervals: Number of intervals in the y range.\n",
    "    :param nz_intervals: Number of intervals in the z range.\n",
    "    :param z_min: The lower limit for the z interval (-0.3 by default).\n",
    "    :param z_max: The upper limit for the z interval (1.0 by default).\n",
    "    :return: A list of tuples (y, min_energy, min_z) for each y value.\n",
    "    \"\"\"\n",
    "    \n",
    "    results = []\n",
    "\n",
    "    # Define y and z ranges\n",
    "    z_values = np.linspace(z_min, z_max, nz_intervals)\n",
    "\n",
    "    # Loop through each y value\n",
    "    for y in y_values:\n",
    "        energies = []\n",
    "        \n",
    "        for z in z_values:\n",
    "            # Create an ASE geometry object (e.g., FCC 111 surface)\n",
    "            geo = fcc.copy()\n",
    "            \n",
    "            # Update the position of atom index 48\n",
    "            geo[48].z = z\n",
    "            geo[48].y = y\n",
    "            \n",
    "            # Calculate energy \n",
    "            energy = get_energy(geo)\n",
    "            energies.append(energy)\n",
    "\n",
    "        min_energy = min(energies)  # Find the minimum energy\n",
    "        min_z = z_values[np.argmin(energies)]  # Corresponding z value\n",
    "        results.append((y, min_energy, min_z))\n",
    "    \n",
    "    return results"
   ]
  },
  {
   "cell_type": "markdown",
   "id": "6862b148",
   "metadata": {},
   "source": [
    "## Initial Bias Potential Setup\n",
    "\n",
    "- We initially set the **bias potential** (`bias_energies`) as the **energy `E(y)`** of the **adatom** when it **moves along the y-axis** from **0** (**top position**) to **L** (**equivalent top position**).\n",
    "- During this process, the **z-coordinate** is **kept fixed** at a **specific value**.\n"
   ]
  },
  {
   "cell_type": "code",
   "execution_count": null,
   "id": "ee22b729",
   "metadata": {},
   "outputs": [],
   "source": [
    "def compute_energies_at_z(y_values, z, georef):\n",
    "    \"\"\"\n",
    "    Computes the energy for a given z value and a list of y values.\n",
    "    \n",
    "    :param y_values: List of y values to evaluate.\n",
    "    :param z: The specific z value for which energies are computed.\n",
    "    :param fcc: The ASE geometry object to use as a template.\n",
    "    :param get_energy: Function that computes energy for the given 'ase_geo' object.\n",
    "    :return: A list of energies corresponding to the input y values.\n",
    "    \"\"\"\n",
    "    \n",
    "    energies = []\n",
    "\n",
    "    # Loop through each y value\n",
    "    for y in y_values:\n",
    "        # Create an ASE geometry object (e.g., FCC surface)\n",
    "        geo = georef.copy()\n",
    "        \n",
    "        # Update the position of atom index 48\n",
    "        geo[48].z = z\n",
    "        geo[48].y = y\n",
    "        \n",
    "        # Calculate energy\n",
    "        energy = get_energy(geo)\n",
    "        energies.append(energy)\n",
    "    \n",
    "    return np.array(energies)\n",
    "\n",
    "# Simulated input data\n",
    "y_values = bin_edges\n",
    "z = fcc[48].z + 0.25  # Specific z value for which to compute energies\n",
    "\n",
    "# Compute energies\n",
    "bias_energies = compute_energies_at_z(y_values, z, fcc) -efcc\n",
    "\n",
    "\n"
   ]
  },
  {
   "cell_type": "markdown",
   "id": "0adcf050",
   "metadata": {},
   "source": [
    "## Plot the energy profile (plot #1)"
   ]
  },
  {
   "cell_type": "code",
   "execution_count": null,
   "id": "0ec66abd",
   "metadata": {},
   "outputs": [],
   "source": [
    "# Plot energy vs y values\n",
    "plt.figure(figsize=(8, 6))\n",
    "plt.plot(y_values, bias_energies, marker='o', linestyle='-', color='blue', label=f'Energy at z = {z}')\n",
    "plt.xlabel('y value')\n",
    "plt.ylabel('Energy')\n",
    "plt.title('Energy vs y values at specific z')\n",
    "plt.grid(True)\n",
    "plt.legend()\n",
    "plt.show()"
   ]
  },
  {
   "cell_type": "code",
   "execution_count": null,
   "id": "b402ba36",
   "metadata": {},
   "outputs": [],
   "source": [
    "#min_energy_results = find_minimum_energy(L, bin_edges, 50, z_min=fcc[48].z +0., z_max=fcc[48].z+0.4)"
   ]
  },
  {
   "cell_type": "markdown",
   "id": "27625f19",
   "metadata": {},
   "source": [
    "## Minimum energy path "
   ]
  },
  {
   "cell_type": "code",
   "execution_count": null,
   "id": "bf954497",
   "metadata": {},
   "outputs": [],
   "source": [
    "#y_values = [y for y, min_energy, min_z in min_energy_results]\n",
    "#energy_values = [min_energy -efcc for y, min_energy, min_z in min_energy_results]\n",
    "#z_values = [min_z - fcc[48].z for y, min_energy, min_z in min_energy_results]\n",
    "\n",
    "# Plot 1: Energy vs y\n",
    "#plt.figure(figsize=(8, 6))\n",
    "#plt.plot(y_values, energy_values , marker='o', linestyle='-', color='blue', label='Energy')\n",
    "#plt.xlabel('y value')\n",
    "#plt.ylabel('Minimum Energy')\n",
    "#plt.title('Energy vs y')\n",
    "#plt.grid(True)\n",
    "#plt.legend()\n",
    "#plt.show()\n",
    "\n"
   ]
  },
  {
   "cell_type": "code",
   "execution_count": null,
   "id": "99dd1c81",
   "metadata": {},
   "outputs": [],
   "source": [
    "# Plot 2: z vs y\n",
    "#plt.figure(figsize=(8, 6))\n",
    "#plt.plot(y_values, z_values, marker='o', linestyle='-', color='green', label='z value')\n",
    "#plt.xlabel('y value')\n",
    "#plt.ylabel('z value at Minimum Energy')\n",
    "#plt.title('z vs y')\n",
    "#plt.grid(True)\n",
    "#plt.legend()\n",
    "#plt.show()"
   ]
  },
  {
   "cell_type": "markdown",
   "id": "fc3cc1d9",
   "metadata": {},
   "source": [
    "## functions to create the bias potential with splines"
   ]
  },
  {
   "cell_type": "code",
   "execution_count": null,
   "id": "ab2ce4f0",
   "metadata": {},
   "outputs": [],
   "source": [
    "def subdivide_range(L, nsegments, y1, y2, y3, e1, e2):\n",
    "    # Generate y values for each bin center\n",
    "    y_values = np.linspace(0, L, nsegments)\n",
    "    values = np.zeros(nsegments)\n",
    "    \n",
    "    # Set values to 0 from 0 to y1\n",
    "    mask_y1 = (y_values >= 0) & (y_values < y1)\n",
    "    values[mask_y1] = 0\n",
    "    \n",
    "    # Increase linearly from 0 to e1 between y1 and y2\n",
    "    mask_y2 = (y_values >= y1) & (y_values < y2)\n",
    "    values[mask_y2] = np.linspace(0, e1, mask_y2.sum())\n",
    "    \n",
    "    # Decrease linearly from e1 to e1-delta between y2 and y3\n",
    "    mask_y3 = (y_values >= y2) & (y_values < y3)\n",
    "    values[mask_y3] = np.linspace(e1, e1-e2, mask_y3.sum())\n",
    "    \n",
    "    # Decrease linearly from e1-delta to 0 between y3 and L\n",
    "    mask_y4 = (y_values >= y3) & (y_values <= L)\n",
    "    values[mask_y4] = np.linspace(e1-e2, 0, mask_y4.sum())\n",
    "    \n",
    "    return y_values, values\n",
    "\n",
    "def generate_spline(L, bin_edges, points):\n",
    "    \"\"\"\n",
    "    Generates a cubic spline over the range [0, L] using given bin edges and points.\n",
    "\n",
    "    Parameters:\n",
    "    - L (float): The upper bound of the range.\n",
    "    - bin_edges (list of float): The discretized edges of the range [0, L].\n",
    "    - points (list of tuples): The points to interpolate, e.g. [(0,1),(1.2,0.3),(1.5,0.2),(L,1)].\n",
    "\n",
    "    Returns:\n",
    "    - spline_values (np.ndarray): The spline values at the bin edges.\n",
    "    \"\"\"\n",
    "    # Extract x and y coordinates from the points\n",
    "    x_points, y_points = zip(*points)\n",
    "\n",
    "    # Create a cubic spline interpolation\n",
    "    spline = CubicSpline(x_points, y_points, bc_type='natural')\n",
    "\n",
    "    # Evaluate the spline at the bin edges\n",
    "    spline_values = spline(bin_edges)\n",
    "\n",
    "    return spline_values\n",
    "\n",
    "def assign_to_bin(value, bin_edges):\n",
    "    \"\"\"\n",
    "    Assign a float value to the correct bin based on the histogram bin edges.\n",
    "    \n",
    "    Args:\n",
    "        value (float): The value to assign to a bin.\n",
    "        bin_edges (np.ndarray): The array of bin edges from np.histogram.\n",
    "        \n",
    "    Returns:\n",
    "        int: The index of the bin to which the value belongs.\n",
    "    \"\"\"\n",
    "    # Ensure the value is within the range\n",
    "    if value < bin_edges[0] or value > bin_edges[-1]:\n",
    "        raise ValueError(f\"Value {value} is out of the histogram range [{bin_edges[0]}, {bin_edges[-1]}]\")\n",
    "    \n",
    "    # Find the correct bin index using np.digitize\n",
    "    bin_index = np.digitize(value, bin_edges) - 1\n",
    "    \n",
    "    # Handle edge case where value is exactly the last edge\n",
    "    if bin_index == len(bin_edges) - 1:\n",
    "        bin_index -= 1\n",
    "    \n",
    "    return bin_index"
   ]
  },
  {
   "cell_type": "markdown",
   "id": "c0f380ab",
   "metadata": {},
   "source": [
    "## bias potential from splines"
   ]
  },
  {
   "cell_type": "code",
   "execution_count": null,
   "id": "894d1f0f",
   "metadata": {},
   "outputs": [],
   "source": [
    "from_splines = False\n",
    "plot_title = 'Energy vs y values at specific z. Same as plot #1'\n",
    "if from_splines:\n",
    "    plot_title = 'Segmented Function with Custom Linear Interpolation'\n",
    "    bias_energies = generate_spline(L, bin_edges, [(0,0.65),(0.5,0.5),(dhcp,0.15),(dts,0.25),(dfcc,0.15),(L-0.5,0.5),(L,0.65)])"
   ]
  },
  {
   "cell_type": "markdown",
   "id": "2542cbc8",
   "metadata": {},
   "source": [
    "## bias potential (plot #2 will be identical to #1 if from_splines = False)"
   ]
  },
  {
   "cell_type": "code",
   "execution_count": null,
   "id": "193b70a9",
   "metadata": {},
   "outputs": [],
   "source": [
    "# Plotting the result to visualize the function\n",
    "plt.figure(figsize=(8, 4))\n",
    "plt.plot(bin_edges, bias_energies, '-o', markersize=3)\n",
    "plt.xlabel('y')\n",
    "plt.ylabel('Value')\n",
    "plt.title(plot_title)\n",
    "plt.grid(True)\n",
    "plt.show()"
   ]
  },
  {
   "cell_type": "markdown",
   "id": "e4aefa2a",
   "metadata": {},
   "source": [
    "# Question 1 (5 points)\n",
    "\n",
    "## Complete the cell below to implement the correct Metropolis Monte Carlo (MC) algorithm.\n",
    "- **Initial Test:** Run the MC simulation with a **small number of steps** (e.g., **100k**) to verify if the **bias potential** we defined **samples the bridge position** correctly.\n",
    "\n",
    "- **Adjust Bias Potential:** \n",
    "  1. **Go back** in the notebook and **set `from_splines = True`** to **adjust the bias potential**.\n",
    "  2. The **suggested parameters** should already lead to **better sampling**.\n",
    "\n",
    "- **Main Simulation:** Now **run the MC loop** with approximately **600k steps**.\n",
    "\n",
    "---\n",
    "\n",
    "### 💡 **Additional Questions:**\n",
    "1. **What happens to the acceptance rate** if we decide to **move all atoms** at each step instead of **just the adatom**?\n",
    "2. **How would you design such moves** to ensure:\n",
    "   - The **system remains stable** and **undamaged**?\n",
    "   - The **acceptance rate** remains **reasonable**?\n"
   ]
  },
  {
   "cell_type": "markdown",
   "id": "bc51e6e6",
   "metadata": {},
   "source": [
    "### answer: "
   ]
  },
  {
   "cell_type": "markdown",
   "id": "407b1dd4",
   "metadata": {},
   "source": [
    "## MC loop\n",
    "#### In the following cell, core of the MC procedure, we use \"new\" and \"previous\" to be able to store quantities in case MC moves are rejected. We store for all configurations: the distance betweem atoms 48 and 34, the energy. We store, for animations, configurations every iwrite steps. For simplicity we move only the adatom. An histogram for teh different values of CV is also updated every iwrite steps"
   ]
  },
  {
   "cell_type": "code",
   "execution_count": null,
   "id": "ba1932d4",
   "metadata": {},
   "outputs": [],
   "source": [
    "display(output)\n",
    "kb=physical_constants['Boltzmann constant in eV/K'][0]\n",
    "enthalpies = np.zeros(nintervals)\n",
    "T = 170 #temperature in K\n",
    "beta =1.0/(kb*T)\n",
    "\n",
    "# Initial values for the MC trajectory\n",
    "previous_geo = fcc\n",
    "previous_cv = dfcc\n",
    "previous_index = assign_to_bin(previous_cv, bin_edges)\n",
    "previous_enthalpy = get_energy(previous_geo)\n",
    "bias_energy = bias_energies[previous_index]\n",
    "previous_ene = previous_enthalpy - bias_energy\n",
    "#print(previous_enthalpy,previous_ene)\n",
    "\n",
    "iwrite=10000\n",
    "niter=600000 #you can reduce this to 600000 and it should take less than 1 hour\n",
    "start = time.time()\n",
    "geometries=[previous_geo]\n",
    "distances = []\n",
    "distances.append(previous_cv)\n",
    "enthalpies[previous_index] += previous_enthalpy \n",
    "try:\n",
    "    rm_traj = !rm traj_cu.xyz\n",
    "except:\n",
    "    pass\n",
    "\n",
    "naccepted = 0\n",
    "minz=fcc[48].z\n",
    "maxz=fcc[48].z+0.5\n",
    "with output:\n",
    "    #output.clear_output()\n",
    "    print(\"MC loop started.\")\n",
    "    for i in range(niter):\n",
    "        new_geo = previous_geo.copy()\n",
    "        cu_y = np.random.uniform(0, L)\n",
    "        cu_z = np.random.uniform(minz, maxz)\n",
    "        new_cv = cu_y\n",
    "        new_geo[48].y = cu_y #48 is the index of the Cu adatom\n",
    "        new_geo[48].z = cu_z\n",
    "        new_enthalpy =  get_energy(new_geo)\n",
    "        new_index = assign_to_bin(cu_y, bin_edges)\n",
    "        bias_energy = bias_energies[new_index]\n",
    "        new_ene = new_enthalpy - bias_energy\n",
    "        #print(cu_y,cu_z,new_enthalpy,new_ene,np.exp(-beta * (new_ene - previous_ene)))\n",
    "\n",
    "        # write here the Metropolis condition for acceptance\n",
    "        rho = np.random.random() #random number in [0,1)\\n\",\n",
    "        if :#..... enter here the  Metropolis condition:\n",
    "            # update old variables with new accepted values\n",
    "            naccepted+=1\n",
    "            previous_ene = new_ene\n",
    "            previous_enthalpy = new_enthalpy\n",
    "            previous_geo = new_geo.copy()\n",
    "            previous_cv = new_cv\n",
    "            previous_index = new_index\n",
    "\n",
    "        # is it correct to update statistics like this or the following two lines should be inside the if?    \n",
    "        distances.append(previous_cv)\n",
    "        enthalpies[previous_index] += previous_enthalpy        \n",
    "\n",
    "        if not np.mod(i,iwrite) and i>0:\n",
    "            output.clear_output()\n",
    "            geometries.append(previous_geo)\n",
    "            print(f\"MC loop started. Done {i} steps in {int(time.time() -start)} seconds. Acceptance rate {int(1.*naccepted/i *100)} % \")\n",
    "            hist_tmp, bin_edges_tmp = np.histogram(distances, bins=20, range=(0,L), density=None, weights=None)\n",
    "            plt.figure(figsize=(8, 6))\n",
    "            plt.bar(bin_edges_tmp[:-1], hist_tmp, width=np.diff(bin_edges_tmp), edgecolor='black', align='edge', color='skyblue')\n",
    "\n",
    "            # Add labels and title\n",
    "            plt.xlabel('Distance (bins)')\n",
    "            plt.ylabel('Frequency')\n",
    "            plt.title('Histogram of Distances')\n",
    "            plt.grid(axis='y', linestyle='--', alpha=0.7)\n",
    "\n",
    "            # Add value labels on top of bars\n",
    "            for x, y in zip(bin_edges_tmp[:-1], hist_tmp):\n",
    "                plt.text(x + 0.1, y + 1,format_number(y, None), ha='center', va='bottom', fontsize=6)\n",
    "\n",
    "            plt.tight_layout()\n",
    "            plt.show()\n",
    "\n",
    "\n",
    "    end = time.time()\n",
    "    print(\"MC loop completed.\")\n",
    "    print(f\"Total execution time {end - start} s\") \n",
    "    print(f\"Acceptance rate {int(1.*naccepted/niter *100)} %\")"
   ]
  },
  {
   "cell_type": "code",
   "execution_count": null,
   "id": "5967f2cc",
   "metadata": {},
   "outputs": [],
   "source": [
    "view_trajectory(geometries) #the structure is upside down, rotate it to see the adatom"
   ]
  },
  {
   "cell_type": "code",
   "execution_count": null,
   "id": "8c9a5515",
   "metadata": {},
   "outputs": [],
   "source": [
    "if False:\n",
    "    for atoms in geometries:\n",
    "        #atoms.info={'energy':energies_array[i]}\n",
    "        atoms.write('traj_cu.xyz',format=\"extxyz\",append=True)"
   ]
  },
  {
   "cell_type": "code",
   "execution_count": null,
   "id": "c8b694a0",
   "metadata": {},
   "outputs": [],
   "source": [
    "hist, bin_edges = np.histogram(distances, bins=nintervals, range=(0,L), density=None, weights=None)"
   ]
  },
  {
   "cell_type": "code",
   "execution_count": null,
   "id": "b7f02027",
   "metadata": {},
   "outputs": [],
   "source": [
    "hist"
   ]
  },
  {
   "cell_type": "code",
   "execution_count": null,
   "id": "41aed612",
   "metadata": {},
   "outputs": [],
   "source": [
    "histogram0 = hist # np.flip(hist)"
   ]
  },
  {
   "cell_type": "code",
   "execution_count": null,
   "id": "8f252dc0",
   "metadata": {},
   "outputs": [],
   "source": [
    "histogram0"
   ]
  },
  {
   "cell_type": "code",
   "execution_count": null,
   "id": "9b9a35f8",
   "metadata": {},
   "outputs": [],
   "source": [
    "len(histogram0)"
   ]
  },
  {
   "cell_type": "code",
   "execution_count": null,
   "id": "68b1ac66",
   "metadata": {},
   "outputs": [],
   "source": [
    "shift = np.zeros(len(histogram0))\n",
    "if np.any(histogram0 == 0):\n",
    "    shift.fill(0.1)\n",
    "shifted_histogram = 1.0*histogram0 + shift"
   ]
  },
  {
   "cell_type": "code",
   "execution_count": null,
   "id": "f4b6c3b0",
   "metadata": {},
   "outputs": [],
   "source": [
    "Q0=shifted_histogram/np.sum(shifted_histogram)"
   ]
  },
  {
   "cell_type": "code",
   "execution_count": null,
   "id": "06f9c5ee",
   "metadata": {},
   "outputs": [],
   "source": [
    "A0=-np.log(Q0)/beta"
   ]
  },
  {
   "cell_type": "markdown",
   "id": "a84d992c",
   "metadata": {},
   "source": [
    "# Question 2 (points 2)\n",
    "## explain in few words the formula above (make a reference to the lecture)"
   ]
  },
  {
   "cell_type": "markdown",
   "id": "09fec1e5",
   "metadata": {},
   "source": [
    "### answer:"
   ]
  },
  {
   "cell_type": "markdown",
   "id": "60b0dbe6",
   "metadata": {},
   "source": [
    "## Plot#2"
   ]
  },
  {
   "cell_type": "code",
   "execution_count": null,
   "id": "7c1dabf4",
   "metadata": {},
   "outputs": [],
   "source": [
    "fig, ax = plt.subplots()\n",
    "#ax.plot(np.flip(bin_edges)[0:nintervals],A0)\n",
    "ax.plot(bin_edges[0:nintervals],A0)\n",
    "ax.set_xlabel(\"CV (Å)\")\n",
    "ax.set_ylabel(\"Not re-weighted free energy (eV)\")\n",
    "#ax.set_ylim(0,0.1)"
   ]
  },
  {
   "cell_type": "code",
   "execution_count": null,
   "id": "8eb32fe9",
   "metadata": {},
   "outputs": [],
   "source": [
    "#Q = Q0 * np.exp(-beta*bias_energies)\n",
    "Q = Q0 * np.exp(-beta*bias_energies[0:nintervals])"
   ]
  },
  {
   "cell_type": "markdown",
   "id": "b444944a",
   "metadata": {},
   "source": [
    "# Question 3 (points 2)\n",
    "## explain in few words the formula above (make a reference to the lecture)"
   ]
  },
  {
   "cell_type": "markdown",
   "id": "89eb1c6d",
   "metadata": {},
   "source": [
    "### answer:"
   ]
  },
  {
   "cell_type": "code",
   "execution_count": null,
   "id": "fae2cd21",
   "metadata": {},
   "outputs": [],
   "source": [
    "# correct free energy after re-weighting\n",
    "A = -np.log(Q)/beta"
   ]
  },
  {
   "cell_type": "markdown",
   "id": "68d79c0a",
   "metadata": {},
   "source": [
    "## Plot#3"
   ]
  },
  {
   "cell_type": "code",
   "execution_count": null,
   "id": "a26af01c",
   "metadata": {},
   "outputs": [],
   "source": [
    "# in the following plots I cut the regions that were not explored by the adatom\n",
    "fig, ax = plt.subplots()\n",
    "ax.plot(bin_edges[0:nintervals],A)\n",
    "ax.set_xlabel(\"CV (Å)\")\n",
    "ax.set_ylabel(\"Re-weighted free energy (eV)\")\n",
    "#ax.set_ylim(0,0.1)\n",
    "#plt.plot(np.flip(histogram[1])[0:200],A)"
   ]
  },
  {
   "cell_type": "markdown",
   "id": "78a122eb",
   "metadata": {},
   "source": [
    "# Question 4 (points 1)\n",
    "## Why is the result \"noisy\" ?"
   ]
  },
  {
   "cell_type": "markdown",
   "id": "38386cd4",
   "metadata": {},
   "source": [
    "### answer:"
   ]
  },
  {
   "cell_type": "markdown",
   "id": "f2e7f4f2",
   "metadata": {},
   "source": [
    "## Enthalpy"
   ]
  },
  {
   "cell_type": "code",
   "execution_count": null,
   "id": "d6f844c2",
   "metadata": {},
   "outputs": [],
   "source": [
    "#enthalpies"
   ]
  },
  {
   "cell_type": "code",
   "execution_count": null,
   "id": "2594b138",
   "metadata": {},
   "outputs": [],
   "source": [
    "max_ene=etop - efcc\n",
    "enthalpies_avg = [\n",
    "    max_ene if nvisited == 0 else totene / nvisited -efcc\n",
    "    for nvisited, totene in zip(histogram0, enthalpies)\n",
    "]"
   ]
  },
  {
   "cell_type": "markdown",
   "id": "94ec8bf8",
   "metadata": {},
   "source": [
    "## Plot#4"
   ]
  },
  {
   "cell_type": "code",
   "execution_count": null,
   "id": "720d5519",
   "metadata": {},
   "outputs": [],
   "source": [
    "fig, ax = plt.subplots()\n",
    "ax.plot(bin_edges[0:nintervals],enthalpies_avg)\n",
    "ax.set_xlabel(\"CV (Å)\")\n",
    "ax.set_ylabel(\"Averaged enthalpies(eV)\")\n",
    "ax.set_ylim(0,0.55)\n",
    "#plt.plot(np.flip(histogram[1])[0:200],enthalpies_avg)"
   ]
  }
 ],
 "metadata": {
  "kernelspec": {
   "display_name": "Python 3 (ipykernel)",
   "language": "python",
   "name": "python3"
  },
  "language_info": {
   "codemirror_mode": {
    "name": "ipython",
    "version": 3
   },
   "file_extension": ".py",
   "mimetype": "text/x-python",
   "name": "python",
   "nbconvert_exporter": "python",
   "pygments_lexer": "ipython3",
   "version": "3.9.13"
  }
 },
 "nbformat": 4,
 "nbformat_minor": 5
}
