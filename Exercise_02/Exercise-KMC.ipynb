{
 "cells": [
  {
   "cell_type": "code",
   "execution_count": null,
   "metadata": {},
   "outputs": [],
   "source": [
    "import matplotlib.pyplot as plt\n",
    "import matplotlib.animation\n",
    "from IPython.display import HTML\n",
    "import numpy as np\n",
    "from scipy.constants import physical_constants"
   ]
  },
  {
   "cell_type": "code",
   "execution_count": null,
   "metadata": {},
   "outputs": [],
   "source": [
    "def get_animate(traj,dx,dy,t,frames=None):#(xdata,ydata,xlim,ylim,frames=None):\n",
    "    \n",
    "    xdata,ydata,cdata,xlim,ylim=traj_coord(traj,dx,dy)\n",
    "    if frames is None:\n",
    "        frames=len(ydata)\n",
    "    \n",
    "    fig, ax = plt.subplots()\n",
    "    plt.axis('scaled')\n",
    "    ax.set_xlim((xlim))\n",
    "    ax.set_ylim((ylim))\n",
    "    #ax.set_aspect(aspect=1)\n",
    "    l = ax.scatter([],[])\n",
    "    \n",
    "    def animate(i):\n",
    "        l.set_offsets(np.stack((xdata[i],ydata[i]),axis=1))\n",
    "        l.set_color(cdata[i])\n",
    "        ax.set_title('Time: {:.3E} [s]'.format(t[i]))\n",
    "        #ax.set_aspect(aspect=1)\n",
    "    \n",
    "    animate = matplotlib.animation.FuncAnimation(fig, animate, frames=frames)\n",
    "    plt.close()\n",
    "    \n",
    "    return animate"
   ]
  },
  {
   "cell_type": "code",
   "execution_count": null,
   "metadata": {},
   "outputs": [],
   "source": [
    "def calc_full_traj(traj,trajtobeupdated):\n",
    "    trajfull=[]\n",
    "    trajfull.append(traj[0].copy())\n",
    "    for i in range(1,len(traj)):\n",
    "        trajfull.append(trajfull[i-1].copy())\n",
    "        k=0\n",
    "        for j in trajtobeupdated[i]:\n",
    "            trajfull[i][j]=traj[i][k]\n",
    "            k+=1\n",
    "    return trajfull"
   ]
  },
  {
   "cell_type": "code",
   "execution_count": null,
   "metadata": {},
   "outputs": [],
   "source": [
    "def traj_coord(traj,dx,dy):\n",
    "    X=[]\n",
    "    Y=[]\n",
    "    C=[]\n",
    "    Xmax=-np.inf\n",
    "    Ymax=-np.inf\n",
    "    for i in range(len(traj)):\n",
    "        x,y,c=coordinates(traj[i],dx,dy)\n",
    "        xmax=max(x) \n",
    "        Xmax=xmax if xmax>Xmax else Xmax\n",
    "        ymax=max(y) \n",
    "        Ymax=ymax if ymax>Ymax else Ymax\n",
    "        X.append(x.copy())\n",
    "        Y.append(y.copy())\n",
    "        C.append(c.copy())\n",
    "    xlim=(-10,Xmax+10)\n",
    "    ylim=(-20,Ymax+20)\n",
    "    return X,Y,C,xlim,ylim"
   ]
  },
  {
   "cell_type": "markdown",
   "metadata": {},
   "source": [
    "## Import kinetic_monte_carlo.py functions\n",
    "\n",
    "> coordinates <br>\n",
    "neighbors <br>\n",
    "events <br>\n",
    "pbc <br>\n",
    "...."
   ]
  },
  {
   "cell_type": "code",
   "execution_count": null,
   "metadata": {},
   "outputs": [],
   "source": [
    "from kinetic_monte_carlo import *"
   ]
  },
  {
   "cell_type": "markdown",
   "metadata": {},
   "source": [
    "## Tasks"
   ]
  },
  {
   "cell_type": "markdown",
   "metadata": {},
   "source": [
    "1. Execute the program with the following parameters: \n",
    "\n",
    " * update graph each steps 1000 \n",
    " * coverage 0.3\n",
    " * number of steps 130000\n",
    " * temperature in K 300\n",
    " * diffusion barrier 0.1\n",
    " * binding barrier 0.1\n",
    "\n",
    "   Observe how events occur. Observe how time evolves. Did the job perform all the 300000 steps? Why? Observe the patterns obtained.\n",
    "\n",
    "\n",
    "2. Execute the program with the following parameters: \n",
    "\n",
    "  * update graph each steps 1000\n",
    "  * coverage 0.3\n",
    "  * number of steps 300000\n",
    "  * temperature in K 300\n",
    "  * diffusion barrier 0.1\n",
    "  * binding barrier 0.15\n",
    "  \n",
    "    Do you notice differences in the way events occur? How is evolving time compared to the previous case? How does the final geometry differ from the previous case? \n",
    "    \n",
    "    \n",
    "3. At each step of the simulaiton the list of possible events is created (or, better, updated). An event is chosen randomly and is then actuated. Would it be possible to execute simultaneously more events at each KMC step? "
   ]
  },
  {
   "cell_type": "markdown",
   "metadata": {},
   "source": [
    "## Kinetic Monte Carlo parameters"
   ]
  },
  {
   "cell_type": "code",
   "execution_count": null,
   "metadata": {},
   "outputs": [],
   "source": [
    "kb=physical_constants['Boltzmann constant in eV/K'][0]\n",
    "nsteps=130000      #number of steps\n",
    "T=300              #temperature [K]\n",
    "db=0.1             #diffusion barrier\n",
    "bb=0.1             #binding barrier\n",
    "dd=db/20\n",
    "beta=1.0/(kb*T)\n",
    "gamma_d=np.float64(10**10)\n",
    "gamma_b=np.float64(10**8)"
   ]
  },
  {
   "cell_type": "markdown",
   "metadata": {},
   "source": [
    "## Honeycomb lattice define"
   ]
  },
  {
   "cell_type": "code",
   "execution_count": null,
   "metadata": {},
   "outputs": [],
   "source": [
    "nx=30\n",
    "ny=nx/2\n",
    "dx=13.5\n",
    "sr3=np.sqrt(3.0)\n",
    "dy=dx*sr3"
   ]
  },
  {
   "cell_type": "markdown",
   "metadata": {},
   "source": [
    "<img src=\"hex_convention.png\" width=500 height=500>\n",
    "\n",
    "The figure illustrates the hexagonal lattice. The blue dot (1) is positioned at site $si=0$ of cell [$xi$,$yi$]=[$4,2$] and the blue dot (5) at site $si=1$ of the same cell."
   ]
  },
  {
   "cell_type": "markdown",
   "metadata": {},
   "source": [
    "<img src=\"rates_explain.png\" width=500 height=500>\n",
    "\n",
    "The figure illustrates shemes to summarise the different possible diffusion events"
   ]
  },
  {
   "cell_type": "markdown",
   "metadata": {},
   "source": [
    "## #Molecules"
   ]
  },
  {
   "cell_type": "code",
   "execution_count": null,
   "metadata": {},
   "outputs": [],
   "source": [
    "coverage=0.3#float(raw_input(\"coverage \"))\n",
    "nmolecules=int(nx*nx*coverage)"
   ]
  },
  {
   "cell_type": "markdown",
   "metadata": {},
   "source": [
    "> ## **Rates**"
   ]
  },
  {
   "cell_type": "code",
   "execution_count": null,
   "metadata": {},
   "outputs": [],
   "source": [
    "rates={\n",
    "    # free diffusion\n",
    "'d' : gamma_d * np.exp(-beta*(db)) ,  \n",
    "    # 'dri' means that I am moivg to site i (relative to my position) remaining \n",
    "    #  attached to at least one of my neighbors.\n",
    "'dr1': gamma_d * np.exp(-beta*(db)) , \n",
    "'dr2': gamma_d * np.exp(-beta*(db+dd)) , \n",
    "'drl2': gamma_d * np.exp(-beta*(db+1.5*dd)) , \n",
    "'dr3': gamma_d * np.exp(-beta*(db+3.0*dd)) , \n",
    "'dr4': gamma_d * np.exp(-beta*(db+3.0*dd)) , \n",
    "'dr5': gamma_d * np.exp(-beta*(db+6.0*dd)) , \n",
    "    # 'di' means that I am moving in a site which is not neighbooring to any \n",
    "    # of my neighbors.\n",
    "'d1': gamma_d * np.exp(-beta*(db+2*dd)) ,  # d1 moving away having 1nb\n",
    "'d2': gamma_d * np.exp(-beta*(db+4.0*dd)) ,  # d2 moving away having 2nb\n",
    "'d3': gamma_d * np.exp(-beta*(db+4*dd)) ,  # d3 moving away having 3nb\n",
    "'b':  gamma_b * np.exp(-beta*bb)\\\n",
    "}"
   ]
  },
  {
   "cell_type": "code",
   "execution_count": null,
   "metadata": {},
   "outputs": [],
   "source": [
    "### compute the total rate of events\n",
    "def total_rate(events,rates):\n",
    "    R=np.sum([rates[i[1]] for i in events])\n",
    "    return R\n",
    "\n",
    "### select randomly an event from the list of possible events\n",
    "def find_event(R,rates,events):\n",
    "    sum__l=0\n",
    "    rho1=np.random.random()\n",
    "    target=rho1*R\n",
    "    sum_l=rates[events[0][1]]\n",
    "    if target<sum_l:\n",
    "        the_event=events[0]\n",
    "    else:\n",
    "        for i in events[1:]:\n",
    "            #sum_U=sum_l+rates[i[1]]\n",
    "            sum_l+=rates[i[1]]\n",
    "            if target<sum_l:\n",
    "                the_event=i\n",
    "                break\n",
    "            #sum_l=sum_U\n",
    "    return the_event\n",
    "    \n",
    "def evolve_time(t,R):\n",
    "    rho2=np.random.random()\n",
    "    dt=-np.log(rho2)/R\n",
    "    t=t+dt\n",
    "    return t"
   ]
  },
  {
   "cell_type": "code",
   "execution_count": null,
   "metadata": {},
   "outputs": [],
   "source": [
    "molecules=[]\n",
    "i=0\n",
    "\n",
    "#### Create initial geometry\n",
    "while i < nmolecules :\n",
    "    xi=np.random.randint(0,nx)\n",
    "    yi=np.random.randint(0,ny)\n",
    "    si=np.random.randint(0,2)\n",
    "    newmolecule=[xi,yi,si,0]\n",
    "    if  newmolecule  not in molecules:\n",
    "        molecules.append(newmolecule)\n",
    "        i=i+1\n",
    "#### END Create initial geometry\n",
    "\n",
    "#### MAIN KMC LOOP\n",
    "t=np.zeros(nsteps+1)\n",
    "\n",
    "#### at the beginning we have to check possible events for all molecules\n",
    "tobeupdated=[iu for iu in range(len(molecules))]\n",
    "possible_events=[]\n",
    "\n",
    "traj=[]\n",
    "time=[]\n",
    "traj.append(molecules.copy())\n",
    "time.append(0.0)\n",
    "steps_per_frame=1000\n",
    "\n",
    "for i in range(nsteps):\n",
    "\n",
    "    ### create the list of possible events\n",
    "    possible_events=possible_events+events(molecules,tobeupdated,nx,ny)\n",
    "    if possible_events==[]:\n",
    "        print(\"no more events possible\") #DIFF. from MC (which continues 2 inf.)\n",
    "        traj.append(molecules.copy())\n",
    "        time.append(t[i])\n",
    "        break\n",
    "\n",
    "    ### compute the total rate of events \n",
    "    R=total_rate(possible_events,rates) # e.g. [[0,0,1,0]]\n",
    "\n",
    "    ### select randomly an event\n",
    "    selected_event=find_event(R,rates,possible_events)\n",
    "\n",
    "    ### apply the event\n",
    "    possible_events,tobeupdated=apply_event(molecules,selected_event,possible_events,nx,ny)\n",
    "\n",
    "    ### evolve time according to Poisson distribution\n",
    "    t[i+1]=evolve_time(t[i],R)\n",
    "    \n",
    "    if (i%steps_per_frame)==0:\n",
    "        traj.append(molecules.copy())\n",
    "        time.append(t[i])"
   ]
  },
  {
   "cell_type": "markdown",
   "metadata": {},
   "source": [
    "## Create animation\n",
    "\n",
    "Visualize the trajectory."
   ]
  },
  {
   "cell_type": "code",
   "execution_count": null,
   "metadata": {},
   "outputs": [],
   "source": [
    "animate = get_animate(traj,dx,dy,time)"
   ]
  },
  {
   "cell_type": "code",
   "execution_count": null,
   "metadata": {},
   "outputs": [],
   "source": [
    "HTML(animate.to_jshtml())"
   ]
  },
  {
   "cell_type": "markdown",
   "metadata": {},
   "source": [
    "## Solution\n",
    "\n",
    "Task 1 and 2 \n",
    "\n",
    "Simulations that differ for the overall height of the barriers will show a different behavior in the time evolution that is governed by a Poisson law. The time evolution depends exponentially on the barrier height and linearly on the attempt frequency.\n",
    "\n",
    "In addition to this, the main difference between task 1 and task 2 is that in task1 the diffusion barrier and the binding barrier are the same while in task 2 the binding barrier is higher compared to the diffusion barrier.\n",
    "In the first case as soon as two molecules “get in contact” they have a high probability to bind (almost the same as diffusing), they  will not be able anymore to move. The simulation will stop as soon as no more events will be possible (this will usually happen well before 100k steps) and the molecule will have formed “dendritic” like structures.\n",
    "If the barrier for the binding event will be higher compared to the barrier for diffusion, the molecules will have the possibility to explore more “convenient” binding geometries before irreversibly binding. This will result in a much longer simulation (more steps are needed before all molecules bind) and the final arrangement of the molecules will be characterized by clusters with more regular shape.\n",
    "\n",
    "Task 3\n",
    "\n",
    "No, in general, for the KMC algorithm described in the lectures it is not possible to apply two events at the same time. We can have complex events (still corresponding to a transition state and an attempt frequency) but I cannot apply two events at the same time. The problem would be mainly defining how time should evolve, and also handling of two simultaneous events that were not meant to be simultaneous: it could be that two events are possible at one step but they are not possible at the same time because, for example, they would bring two different particles into a same empty lattice point (the event A->C exist in the list of events, also the event B->C exists,\n",
    "but we cannot do both at the same time)"
   ]
  },
  {
   "cell_type": "code",
   "execution_count": null,
   "metadata": {},
   "outputs": [],
   "source": []
  }
 ],
 "metadata": {
  "kernelspec": {
   "display_name": "Python 3 (ipykernel)",
   "language": "python",
   "name": "python3"
  },
  "language_info": {
   "codemirror_mode": {
    "name": "ipython",
    "version": 3
   },
   "file_extension": ".py",
   "mimetype": "text/x-python",
   "name": "python",
   "nbconvert_exporter": "python",
   "pygments_lexer": "ipython3",
   "version": "3.9.13"
  }
 },
 "nbformat": 4,
 "nbformat_minor": 4
}
