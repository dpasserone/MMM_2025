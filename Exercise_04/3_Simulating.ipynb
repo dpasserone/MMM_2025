{
 "cells": [
  {
   "cell_type": "markdown",
   "id": "b1fddea9",
   "metadata": {},
   "source": [
    "# PART 3/3: SIMULATING SPECIFIC MOLECULES\n",
    "# MMM 2025 - 12.3.2025\n",
    "## Daniele Passerone\n",
    "\n",
    "\n",
    "The molecules you will explore today are:\n",
    "\n",
    "1. C2H2 (acetylene)\n",
    "2. H2 (hydrogen molecule)\n",
    "3. CH4 (methane)\n",
    "4. O2 (triplet oxygen)\n",
    "5. hexatriene (C6H8)\n",
    "6. Benzene (C6H6)"
   ]
  },
  {
   "cell_type": "markdown",
   "id": "e66dbcf0",
   "metadata": {},
   "source": [
    "## Prerequisites\n",
    "\n",
    "We assume that you already have learned how to run a geo opt workchain as well as an STM/Orbitals run. \n",
    "You will have to run them for the molecules listed above, for each of them changing slightly the parameters (for example, number of filled orbitals).\n",
    "For the analysis of the simulations, you will need to keep track of the pk of the simulation, pk of the trajectory and so on, as explained in the notebook 2/3.\n"
   ]
  },
  {
   "cell_type": "code",
   "execution_count": 2,
   "id": "8a71305b",
   "metadata": {},
   "outputs": [],
   "source": [
    "#\n",
    "# some important Imports...\n",
    "#\n",
    "import numpy as np\n",
    "from ase import Atoms\n",
    "from ase.io import read\n",
    "from ase.visualize import view\n",
    "import matplotlib.pyplot as plt\n",
    "import nglview as nv\n",
    "from show_orbitals import all_orbitals\n",
    "\n",
    "#\n",
    "# and definitions of visualization functions (see last exercises)\n",
    "#\n",
    "def view_structure(structure,myvec=[]):\n",
    "    t = nv.ASEStructure(structure)\n",
    "    w = nv.NGLWidget(t, gui=True)\n",
    "    w.add_unitcell()\n",
    "    w.add_ball_and_stick()\n",
    "    w.add_representation('label',label_type='atomindex',color='black')\n",
    "    w.add_representation('spacefill',selection=myvec,color=\"blue\",radius=0.5)\n",
    "    return w\n",
    "\n",
    "def view_trajectory(trajectory,myvec=[]):\n",
    "    t2 = nv.ASETrajectory(trajectory)\n",
    "    w2 = nv.NGLWidget(t2, gui=True)\n",
    "    #w2.add_unitcell()\n",
    "    w2.add_ball_and_stick()\n",
    "    w2.add_representation('spacefill',selection=myvec,color=\"blue\",radius=0.5)\n",
    "    return w2"
   ]
  },
  {
   "cell_type": "markdown",
   "id": "0d9dacc2",
   "metadata": {},
   "source": [
    "## 0. Example with the acetylene molecule\n",
    "\n",
    "The following assumes that you have run the **geo opt** of C2H2 as well as the **SCANNING PROBE MICROSCOPY/ORBITALS** run. The other molecule can be faced in a similar way."
   ]
  },
  {
   "cell_type": "markdown",
   "id": "75c77d6c",
   "metadata": {},
   "source": [
    "## 1. Visualizing the optimization trajectory \n",
    "As shown in the **Notebook 2** you need the pk of the optimization trajectory, that you will insert in the next cell as value of **trajpk**."
   ]
  },
  {
   "cell_type": "code",
   "execution_count": 18,
   "id": "636edc16",
   "metadata": {},
   "outputs": [
    {
     "name": "stdout",
     "output_type": "stream",
     "text": [
      "The aiida extension is already loaded. To reload it, use:\n",
      "  %reload_ext aiida\n",
      "The PK of the TrajectoryData is: 54\n"
     ]
    }
   ],
   "source": [
    "\n",
    "%load_ext aiida\n",
    "%aiida\n",
    "\n",
    "from aiida.orm import load_node\n",
    "\n",
    "my_geo_opt_pk = 38 # THE PK OF THE GEO OPT\n",
    "my_pk = 58 # THE ONE OF THE ORBITALS\n",
    "my_numberocc = 5 # THE NUMBER OF OCCUPIED ORBITALS IN THE SYSTEM (VALENCE ELECTRONS/2)\n",
    "\n",
    "workchain = load_node(my_geo_opt_pk)\n",
    "\n",
    "# Access the TrajectoryData node\n",
    "trajectory_data = workchain.outputs.output_trajectory  \n",
    "trajectory_pk = trajectory_data.pk\n",
    "\n",
    "print(f\"The PK of the TrajectoryData is: {trajectory_pk}\")\n",
    "\n",
    "trajectory_c2h2 = trajectory_pk\n",
    "trajpk = trajectory_c2h2\n",
    "traj = load_node(trajpk)\n",
    "symbols = traj.symbols\n",
    "trajase=[traj.get_step_structure(step-1).get_ase() for step in traj.get_stepids()]\n",
    "for a in trajase:\n",
    "    a.set_pbc([False,False,False])"
   ]
  },
  {
   "cell_type": "code",
   "execution_count": 4,
   "id": "c3eed087",
   "metadata": {
    "scrolled": true
   },
   "outputs": [
    {
     "data": {
      "application/vnd.jupyter.widget-view+json": {
       "model_id": "e7c49e20be054638bd0ae02585fcd2a9",
       "version_major": 2,
       "version_minor": 0
      },
      "text/plain": [
       "NGLWidget(max_frame=15)"
      ]
     },
     "metadata": {},
     "output_type": "display_data"
    },
    {
     "data": {
      "application/vnd.jupyter.widget-view+json": {
       "model_id": "99d90c7ad39d4795a18275eefb033d47",
       "version_major": 2,
       "version_minor": 0
      },
      "text/plain": [
       "Tab(children=(Box(children=(Box(children=(Box(children=(Label(value='step'), IntSlider(value=1, min=-100)), la…"
      ]
     },
     "metadata": {},
     "output_type": "display_data"
    }
   ],
   "source": [
    "view_trajectory(trajase)\n",
    "\n",
    "#\n",
    "# The optimization trajectory is shown.\n",
    "#"
   ]
  },
  {
   "cell_type": "markdown",
   "id": "ca013234",
   "metadata": {},
   "source": [
    "## 2. Visualizing the orbitals\n",
    "Now we compute the orbitals. To this end we have already finished (see **Notebook 2**) the simulation of the orbitals, and hit the \"Cube creation kit\" button. Keep the **pk** of the SPM calculation ready.\n",
    "\n",
    "In the Exercise_5 directory, there is a script \"run_cube_from_wfn_acetylene.sh\" that is able to take some files from the cp2k SPM simulation (wavefunction) and transform it into the orbital cube files. The important things in this file is the number of occupied and unoccupied orbitals, that should correspond to the ones that you have indicated when launching the SPM AiiDAlab workchain. In the case of acetylene, 10 electrons, 5 occupied orbitals."
   ]
  },
  {
   "cell_type": "code",
   "execution_count": 5,
   "id": "f38ce831",
   "metadata": {},
   "outputs": [
    {
     "name": "stdout",
     "output_type": "stream",
     "text": [
      "#!/bin/bash -l\r\n",
      "\r\n",
      "DIR=\"./\"\r\n",
      "\r\n",
      "mkdir cubes\r\n",
      "\r\n",
      "/home/jovyan/.local/bin/cp2k-cube-from-wfn  --cp2k_input_file $DIR/aiida.inp \\\r\n",
      "  --basis_set_file BASIS_MOLOPT \\\r\n",
      "  --xyz_file $DIR/aiida.coords.xyz \\\r\n",
      "  --wfn_file $DIR/aiida-RESTART.wfn \\\r\n",
      "  --output_dir ./cubes/ \\\r\n",
      "  --n_homo 5 \\\r\n",
      "  --n_lumo 5 \\\r\n",
      "  --dx 0.2 \\\r\n",
      "  --eval_cutoff 14.0 \\\r\n",
      "\r\n"
     ]
    }
   ],
   "source": [
    "!cat run_cube_from_wfn_c2h2.sh"
   ]
  },
  {
   "cell_type": "markdown",
   "id": "25d79abe",
   "metadata": {},
   "source": [
    "## Generating the cubefiles, using the \"cube-kit\" set of files and the above script. \n",
    "Now we are ready to generate the orbital cube files. We replace my_pk below **with the pk of the SPM workchain**, and also the molecule name has to correspond."
   ]
  },
  {
   "cell_type": "code",
   "execution_count": 7,
   "id": "8db88194",
   "metadata": {},
   "outputs": [
    {
     "name": "stdout",
     "output_type": "stream",
     "text": [
      "Archive:  cube-kit-pk58.zip\n",
      "  inflating: cube-kit-pk58/BASIS_MOLOPT  \n",
      "  inflating: cube-kit-pk58/aiida.inp  \n",
      "  inflating: cube-kit-pk58/aiida.out  \n",
      "  inflating: cube-kit-pk58/aiida.coords.xyz  \n",
      "  inflating: cube-kit-pk58/aiida-RESTART.wfn  \n",
      "R0/1, loading indexes (s0/1) 0:9 / 0:9\n",
      "eval_cell_n:  [67 50 51]\n",
      "loc_cell_n:  [71 70 70]\n",
      "---- Setup: 0.0014\n",
      "---- Radial calc time : 0.234975\n",
      "---- Spherical calc time : 0.013309\n",
      "---- Loc -> loc_morb time : 0.071365\n",
      "---- loc_morb -> glob time : 0.022233\n",
      "---- Total time: 0.3566\n",
      "R0/1 is writing HOMO-4 cube\n",
      "R0/1 is writing HOMO-3 cube\n",
      "R0/1 is writing HOMO-2 cube\n",
      "R0/1 is writing HOMO-1 cube\n",
      "R0/1 is writing HOMO+0 cube\n",
      "R0/1 is writing HOMO+1 cube\n",
      "R0/1 is writing HOMO+2 cube\n",
      "R0/1 is writing HOMO+3 cube\n",
      "R0/1 is writing HOMO+4 cube\n",
      "R0/1 is writing HOMO+5 cube\n",
      "R0/1: finished, total time: 0.87s\n",
      "*****************************\n",
      "\n",
      "THE GENERATED FILES ARE:\n",
      "\n",
      "S0_10_LUMO+4.cube  S0_3_HOMO-2.cube  S0_6_LUMO.cube    S0_9_LUMO+3.cube\n",
      "S0_1_HOMO-4.cube   S0_4_HOMO-1.cube  S0_7_LUMO+1.cube\n",
      "S0_2_HOMO-3.cube   S0_5_HOMO.cube    S0_8_LUMO+2.cube\n",
      "\n",
      "*****************************\n",
      "\n"
     ]
    }
   ],
   "source": [
    "#\n",
    "# Creating the cube file of the orbitals\n",
    "# \n",
    "\n",
    "molecule = 'c2h2'\n",
    "!rm -Rf ./cube-kit-pk{my_pk}*\n",
    "!cp /home/jovyan/apps/surfaces/tmp/cube-kit-pk{my_pk}.zip .\n",
    "!unzip cube-kit-pk{my_pk}.zip\n",
    "!cp run_cube_from_wfn_{molecule}.sh ./cube-kit-pk{my_pk}\n",
    "!cd ./cube-kit-pk{my_pk} ; bash run_cube_from_wfn_{molecule}.sh \n",
    "!rm -Rf {molecule}_cubes\n",
    "!mv ./cube-kit-pk{my_pk}/cubes {molecule}_cubes\n",
    "\n",
    "print (\"*****************************\\n\\nTHE GENERATED FILES ARE:\\n\")\n",
    "!ls ./{molecule}_cubes\n",
    "print (\"\\n*****************************\\n\")"
   ]
  },
  {
   "cell_type": "markdown",
   "id": "a4ae8d8d",
   "metadata": {},
   "source": [
    "## Visualizing HOMO and LUMO separately\n",
    "\n",
    "\n",
    "We note that the name of the HOMO file above, we copy it into \"file\" and we read the cube file and its energy (change the name of the file accordingly)"
   ]
  },
  {
   "cell_type": "code",
   "execution_count": 9,
   "id": "c45b93f3",
   "metadata": {},
   "outputs": [
    {
     "name": "stdout",
     "output_type": "stream",
     "text": [
      "E=-3.468 eV\n",
      "HOMO\n"
     ]
    },
    {
     "data": {
      "application/vnd.jupyter.widget-view+json": {
       "model_id": "512dbd6ce6c8473c9939b1f5d956f3af",
       "version_major": 2,
       "version_minor": 0
      },
      "text/plain": [
       "NGLWidget()"
      ]
     },
     "metadata": {},
     "output_type": "display_data"
    }
   ],
   "source": [
    "file = molecule + '_cubes/S0_5_HOMO.cube'\n",
    "atoms = read(file)\n",
    "a=!head -2 {file} | tail -1\n",
    "b = str(a)\n",
    "ene=(b[4:10])\n",
    "view_homo=nv.NGLWidget()\n",
    "caption_homo = \"E=\"+ene+\" eV\\n\"+\"HOMO\"\n",
    "view_homo.add_component(nv.ASEStructure(atoms))\n",
    "c_2 = view_homo.add_component(file)\n",
    "c_2.clear()\n",
    "c_2.add_surface(color='blue', isolevelType=\"value\", isolevel=-0.01, opacity=0.05)\n",
    "c_3 = view_homo.add_component(file)\n",
    "c_3.clear()\n",
    "c_3.add_surface(color='red', isolevelType=\"value\", isolevel=0.01, opacity=0.05)\n",
    "\n",
    "\n",
    "#\n",
    "# And finally the visualization itself\n",
    "#\n",
    "\n",
    "print (caption_homo)\n",
    "view_homo"
   ]
  },
  {
   "cell_type": "markdown",
   "id": "cf49e7d7",
   "metadata": {},
   "source": [
    "We do the same for the LUMO, we simply need to change the name of the file."
   ]
  },
  {
   "cell_type": "code",
   "execution_count": 10,
   "id": "3c9a2dd8",
   "metadata": {
    "scrolled": true
   },
   "outputs": [
    {
     "name": "stdout",
     "output_type": "stream",
     "text": [
      "E=3.4684 eV\n",
      "LUMO\n"
     ]
    },
    {
     "data": {
      "application/vnd.jupyter.widget-view+json": {
       "model_id": "e50bb6a7424b4ac091390e708c515d08",
       "version_major": 2,
       "version_minor": 0
      },
      "text/plain": [
       "NGLWidget()"
      ]
     },
     "metadata": {},
     "output_type": "display_data"
    }
   ],
   "source": [
    "file = molecule + '_cubes/S0_6_LUMO.cube'\n",
    "atoms = read(file)\n",
    "a=!head -2 {file} | tail -1\n",
    "b = str(a)\n",
    "ene=(b[4:10])\n",
    "view_lumo=nv.NGLWidget()\n",
    "caption_lumo = \"E=\"+ene+\" eV\\n\"+'LUMO'\n",
    "view_lumo.add_component(nv.ASEStructure(atoms))\n",
    "c_2 = view_lumo.add_component(file)\n",
    "c_2.clear()\n",
    "c_2.add_surface(color='blue', isolevelType=\"value\", isolevel=-0.01, opacity=0.05)\n",
    "c_3 = view_lumo.add_component(file)\n",
    "c_3.clear()\n",
    "c_3.add_surface(color='red', isolevelType=\"value\", isolevel=0.01, opacity=0.05)\n",
    "\n",
    "\n",
    "#\n",
    "# And finally the visualization itself\n",
    "#\n",
    "print (caption_lumo)\n",
    "view_lumo"
   ]
  },
  {
   "cell_type": "markdown",
   "id": "51618c94",
   "metadata": {},
   "source": [
    "We now create a combined view that visualizes orbital and energy:"
   ]
  },
  {
   "cell_type": "code",
   "execution_count": 11,
   "id": "af3d95de",
   "metadata": {},
   "outputs": [],
   "source": [
    "import ipywidgets as widgets\n",
    "widg_caption_homo = widgets.HTML(caption_homo)\n",
    "combined_w_homo=widgets.HBox([view_homo,widg_caption_homo])\n",
    "\n",
    "widg_caption_lumo = widgets.HTML(caption_lumo)\n",
    "combined_w_lumo=widgets.HBox([view_lumo,widg_caption_lumo])\n"
   ]
  },
  {
   "cell_type": "code",
   "execution_count": 12,
   "id": "9781e7e9",
   "metadata": {},
   "outputs": [
    {
     "data": {
      "application/vnd.jupyter.widget-view+json": {
       "model_id": "dab3f0bc15d64c75ac639f19d9340e3c",
       "version_major": 2,
       "version_minor": 0
      },
      "text/plain": [
       "HBox(children=(NGLWidget(n_components=3), HTML(value='E=-3.468 eV\\nHOMO')))"
      ]
     },
     "metadata": {},
     "output_type": "display_data"
    }
   ],
   "source": [
    "combined_w_homo"
   ]
  },
  {
   "cell_type": "code",
   "execution_count": 13,
   "id": "bd46ba01",
   "metadata": {},
   "outputs": [
    {
     "data": {
      "application/vnd.jupyter.widget-view+json": {
       "model_id": "6f0be64399f24e91b48947f74044303d",
       "version_major": 2,
       "version_minor": 0
      },
      "text/plain": [
       "HBox(children=(NGLWidget(n_components=3), HTML(value='E=3.4684 eV\\nLUMO')))"
      ]
     },
     "metadata": {},
     "output_type": "display_data"
    }
   ],
   "source": [
    "combined_w_lumo"
   ]
  },
  {
   "cell_type": "markdown",
   "id": "23cb8ce5",
   "metadata": {},
   "source": [
    "## Visualizing all orbitals together\n",
    "\n",
    "We will use a loop and arrays to caption all orbitals and plot a matrix of representations: see the file **show_orbitals.py** "
   ]
  },
  {
   "cell_type": "markdown",
   "id": "0f47b7c3",
   "metadata": {},
   "source": [
    "## Including the MATRIX VISUALIZATION OF ALL ORBITALS into a function\n",
    "\n",
    "The function allows to choose the isosurface, and the first orbital to visualize in the array, as well as the last one. Note that for larger molecules (benzene) you better choose a few orbitals at the time, not to \"kill\" your jupyter.\n",
    "\n"
   ]
  },
  {
   "cell_type": "code",
   "execution_count": 14,
   "id": "294fc813",
   "metadata": {},
   "outputs": [],
   "source": [
    "import show_orbitals"
   ]
  },
  {
   "cell_type": "code",
   "execution_count": 19,
   "id": "64f04e51",
   "metadata": {},
   "outputs": [
    {
     "name": "stdout",
     "output_type": "stream",
     "text": [
      "/home/jovyan/MMM_2024/Exercise_2025_04\n",
      "Show Orbitals Version n.  4 ntotocc =  5\n",
      "Archive:  ./cube-kit-pk58.zip\n",
      "  inflating: cube-kit-pk58/BASIS_MOLOPT  \n",
      "  inflating: cube-kit-pk58/aiida.inp  \n",
      "  inflating: cube-kit-pk58/aiida.out  \n",
      "  inflating: cube-kit-pk58/aiida.coords.xyz  \n",
      "  inflating: cube-kit-pk58/aiida-RESTART.wfn  \n",
      "R0/1, loading indexes (s0/1) 0:9 / 0:9\n",
      "eval_cell_n:  [67 50 51]\n",
      "loc_cell_n:  [71 70 70]\n",
      "---- Setup: 0.0006\n",
      "---- Radial calc time : 0.239485\n",
      "---- Spherical calc time : 0.014436\n",
      "---- Loc -> loc_morb time : 0.074127\n",
      "---- loc_morb -> glob time : 0.027660\n",
      "---- Total time: 0.3702\n",
      "R0/1 is writing HOMO-4 cube\n",
      "R0/1 is writing HOMO-3 cube\n",
      "R0/1 is writing HOMO-2 cube\n",
      "R0/1 is writing HOMO-1 cube\n",
      "R0/1 is writing HOMO+0 cube\n",
      "R0/1 is writing HOMO+1 cube\n",
      "R0/1 is writing HOMO+2 cube\n",
      "R0/1 is writing HOMO+3 cube\n",
      "R0/1 is writing HOMO+4 cube\n",
      "R0/1 is writing HOMO+5 cube\n",
      "R0/1: finished, total time: 0.89s\n",
      "S0_10_LUMO+4.cube\n",
      "S0_1_HOMO-4.cube\n",
      "S0_2_HOMO-3.cube\n",
      "S0_3_HOMO-2.cube\n",
      "S0_4_HOMO-1.cube\n",
      "S0_5_HOMO.cube\n",
      "S0_6_LUMO.cube\n",
      "S0_7_LUMO+1.cube\n",
      "S0_8_LUMO+2.cube\n",
      "S0_9_LUMO+3.cube\n",
      "Filename:  c2h2_cubes/S0_5_HOMO.cube\n",
      "Energy =  -3.46844\n",
      "Filename:  c2h2_cubes/S0_6_LUMO.cube\n",
      "Energy =  3.468443\n",
      "Filename:  c2h2_cubes/S0_7_LUMO+1.cube\n",
      "Energy =  3.468938\n"
     ]
    }
   ],
   "source": [
    "#\n",
    "# In this way, the molecule can be visualized with a call to the function followed by a call of the molecule itself\n",
    "# See, in the Exercise directory, the file show_orbitals.py. Don't forget the total number of occupied orbitals (for naming)\n",
    "#\n",
    "!pwd\n",
    "import importlib\n",
    "importlib.reload(show_orbitals)\n",
    "c2h2 = show_orbitals.all_orbitals(molecule,pk=my_pk,nhomo=1,nlumo=2,ntotocc=my_numberocc,nfirstview=0,nlastview=9,isosurf=0.01);\n"
   ]
  },
  {
   "cell_type": "code",
   "execution_count": 21,
   "id": "9635207a",
   "metadata": {
    "scrolled": false
   },
   "outputs": [
    {
     "data": {
      "application/vnd.jupyter.widget-view+json": {
       "model_id": "7d17c113280645d3bd34679837b48363",
       "version_major": 2,
       "version_minor": 0
      },
      "text/plain": [
       "VBox(children=(HBox(children=(NGLWidget(n_components=3), HTML(value=' E= -3.46844 eV\\nHOMO'))), HBox(children=…"
      ]
     },
     "metadata": {},
     "output_type": "display_data"
    }
   ],
   "source": [
    "# Now, magically, the name of the molecule will visuali\n",
    "\n",
    "\n",
    "c2h2"
   ]
  },
  {
   "cell_type": "markdown",
   "id": "3c6f3eee",
   "metadata": {},
   "source": [
    "## Now you are ready to generalize the exercise to the following molecules:\n",
    "\n",
    "- H2\n",
    "- CH4 (Methane)\n",
    "- O2 (triplet state)\n",
    "- Hexatriene\n",
    "- Benzene \n",
    "\n",
    "### Note: for O2, you need a SPIN POLARIZED calculation (check the UKS option) with multiplicity 3 (also in the Orbital calculation)\n",
    "\n",
    "\n",
    "You will get two sets of cube files, work only with the \"S0\" ones (spin up). Also, use n_homo 7 and n_lumo 5\n",
    "\n",
    "### For Hexatriene vs. Benzene see the following [link](https://www.masterorganicchemistry.com/2017/05/05/the-pi-molecular-orbitals-of-benzene/)\n",
    "\n"
   ]
  },
  {
   "cell_type": "markdown",
   "id": "c7512c2b",
   "metadata": {},
   "source": [
    "# Assignments\n",
    "\n",
    "1. For each molecule, draw a molecular orbital table filling the orbitals up to the correct level.\n",
    "2. Discuss the difference between the H2 and O2 molecule.\n",
    "3. Discuss the differences between the CH4 and CH2  and C6H6  molecules (hybridisation?)\n",
    "4. Follow the discussion that you find in the link, and compare with your result. Discuss the differences you find between Hexatriene and Benzene\n",
    "5. Which molecule has the largest Band Gap?\n",
    "6. Apply a deformation to benzene and optimize again. Show the trajectory of the optimization. "
   ]
  }
 ],
 "metadata": {
  "kernelspec": {
   "display_name": "Python 3 (ipykernel)",
   "language": "python",
   "name": "python3"
  },
  "language_info": {
   "codemirror_mode": {
    "name": "ipython",
    "version": 3
   },
   "file_extension": ".py",
   "mimetype": "text/x-python",
   "name": "python",
   "nbconvert_exporter": "python",
   "pygments_lexer": "ipython3",
   "version": "3.9.13"
  }
 },
 "nbformat": 4,
 "nbformat_minor": 5
}
