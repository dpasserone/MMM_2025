{
 "cells": [
  {
   "cell_type": "markdown",
   "id": "b1fddea9",
   "metadata": {},
   "source": [
    "# ASSIGNMENT 4 O2 MOLECULE - TRIPLET STATE (SPECIAL CASE!)\n",
    "# MMM 2025 - 12.3.2025\n",
    "## Daniele Passerone\n",
    "\n",
    "\n"
   ]
  },
  {
   "cell_type": "markdown",
   "id": "e66dbcf0",
   "metadata": {},
   "source": [
    "## Preparation\n",
    "\n",
    "Run a Geo Opt and STM (ORBITALS) calculations for O2, IN TRIPLET STATE (UKS; Multiplicity = 3)\n",
    "\n",
    "\n",
    "For the analysis of the simulations, you will need to keep track of the pk of the simulation, pk of the trajectory and so on, as explained in the notebook 2/3.\n"
   ]
  },
  {
   "cell_type": "code",
   "execution_count": null,
   "id": "8a71305b",
   "metadata": {},
   "outputs": [],
   "source": [
    "#\n",
    "# some important Imports...\n",
    "#\n",
    "import numpy as np\n",
    "from ase import Atoms\n",
    "from ase.io import read\n",
    "from ase.visualize import view\n",
    "import matplotlib.pyplot as plt\n",
    "import nglview as nv\n",
    "from spinup_show_orbitals import spinup_all_orbitals\n",
    "from spindown_show_orbitals import spindown_all_orbitals\n",
    "\n",
    "#\n",
    "# and definitions of visualization functions (see last exercises)\n",
    "#\n",
    "def view_structure(structure,myvec=[]):\n",
    "    t = nv.ASEStructure(structure)\n",
    "    w = nv.NGLWidget(t, gui=True)\n",
    "    w.add_unitcell()\n",
    "    w.add_ball_and_stick()\n",
    "    w.add_representation('label',label_type='atomindex',color='black')\n",
    "    w.add_representation('spacefill',selection=myvec,color=\"blue\",radius=0.5)\n",
    "    return w\n",
    "\n",
    "def view_trajectory(trajectory,myvec=[]):\n",
    "    t2 = nv.ASETrajectory(trajectory)\n",
    "    w2 = nv.NGLWidget(t2, gui=True)\n",
    "    #w2.add_unitcell()\n",
    "    w2.add_ball_and_stick()\n",
    "    w2.add_representation('spacefill',selection=myvec,color=\"blue\",radius=0.5)\n",
    "    return w2"
   ]
  },
  {
   "cell_type": "markdown",
   "id": "75c77d6c",
   "metadata": {},
   "source": [
    "## 1. Visualizing the optimization trajectory \n",
    "As shown in the **Notebook 2** you need the pk of the optimization trajectory, that you will insert in the next cell as value of **trajpk**."
   ]
  },
  {
   "cell_type": "code",
   "execution_count": null,
   "id": "636edc16",
   "metadata": {},
   "outputs": [],
   "source": [
    "\n",
    "%load_ext aiida\n",
    "%aiida\n",
    "\n",
    "molname = 'o2'\n",
    "from aiida.orm import load_node\n",
    "\n",
    "my_geo_opt_pk = 91 # THE PK OF THE GEO OPT\n",
    "my_pk = 111 # THE ONE OF THE ORBITALS\n",
    "my_numberocc_up = 7 # THE NUMBER OF OCCUPIED ORBITALS IN THE SYSTEM, FOR SPIN UP\n",
    "my_numberocc_down = 5 # THE NUMBER OF OCCUPIED ORBITALS IN THE SYSTEM, FOR SPIN UP\n",
    "\n",
    "workchain = load_node(my_geo_opt_pk)\n",
    "\n",
    "# Access the TrajectoryData node\n",
    "trajectory_data = workchain.outputs.output_trajectory  \n",
    "trajectory_pk = trajectory_data.pk\n",
    "\n",
    "print(f\"The PK of the TrajectoryData is: {trajectory_pk}\")\n",
    "\n",
    "\n",
    "traj = load_node(trajectory_pk)\n",
    "symbols = traj.symbols\n",
    "trajase=[traj.get_step_structure(step-1).get_ase() for step in traj.get_stepids()]\n",
    "for a in trajase:\n",
    "    a.set_pbc([False,False,False])"
   ]
  },
  {
   "cell_type": "code",
   "execution_count": null,
   "id": "c3eed087",
   "metadata": {
    "scrolled": true
   },
   "outputs": [],
   "source": [
    "view_trajectory(trajase)\n",
    "\n",
    "#\n",
    "# The optimization trajectory is shown.\n",
    "#"
   ]
  },
  {
   "cell_type": "markdown",
   "id": "ca013234",
   "metadata": {},
   "source": [
    "## 2. Visualizing the orbitals\n",
    "Now we compute the orbitals. To this end we have already finished (see **Notebook 2**) the simulation of the orbitals, and hit the \"Cube creation kit\" button. Keep the **pk** of the SPM calculation ready.\n",
    "\n",
    "In the Exercise_5 directory, there is a script \"run_cube_from_wfn_acetylene.sh\" that is able to take some files from the cp2k SPM simulation (wavefunction) and transform it into the orbital cube files. The important things in this file is the number of occupied and unoccupied orbitals, that should correspond to the ones that you have indicated when launching the SPM AiiDAlab workchain. In the case of acetylene, 10 electrons, 5 occupied orbitals."
   ]
  },
  {
   "cell_type": "code",
   "execution_count": null,
   "id": "f38ce831",
   "metadata": {},
   "outputs": [],
   "source": [
    "namefile = 'run_cube_from_wfn_'+molname+'.sh'\n",
    "!cat {namefile}"
   ]
  },
  {
   "cell_type": "markdown",
   "id": "25d79abe",
   "metadata": {},
   "source": [
    "## Generating the cubefiles, using the \"cube-kit\" set of files and the above script. \n",
    "Now we are ready to generate the orbital cube files. We replace my_pk below **with the pk of the SPM workchain**, and also the molecule name has to correspond."
   ]
  },
  {
   "cell_type": "code",
   "execution_count": null,
   "id": "8db88194",
   "metadata": {},
   "outputs": [],
   "source": [
    "#\n",
    "# Creating the cube file of the orbitals\n",
    "# \n",
    "\n",
    "molecule = molname\n",
    "!rm -Rf ./cube-kit-pk{my_pk}*\n",
    "!cp /home/jovyan/apps/surfaces/tmp/cube-kit-pk{my_pk}.zip .\n",
    "!unzip cube-kit-pk{my_pk}.zip\n",
    "!cp run_cube_from_wfn_{molecule}.sh ./cube-kit-pk{my_pk}\n",
    "!cd ./cube-kit-pk{my_pk} ; bash run_cube_from_wfn_{molecule}.sh \n",
    "!rm -Rf {molecule}_cubes\n",
    "!mv ./cube-kit-pk{my_pk}/cubes {molecule}_cubes\n",
    "\n",
    "print (\"*****************************\\n\\nTHE GENERATED FILES ARE:\\n\")\n",
    "!ls ./{molecule}_cubes\n",
    "print (\"\\n*****************************\\n\")"
   ]
  },
  {
   "cell_type": "markdown",
   "id": "23cb8ce5",
   "metadata": {},
   "source": [
    "## Visualizing all orbitals together: spin down\n",
    "\n",
    "We will use a loop and arrays to caption all orbitals and plot a matrix of representations: see the file **spindown_show_orbitals.py** "
   ]
  },
  {
   "cell_type": "markdown",
   "id": "0f47b7c3",
   "metadata": {},
   "source": [
    "## Including the MATRIX VISUALIZATION OF ALL ORBITALS into a function\n",
    "\n",
    "The function allows to choose the isosurface, and the first orbital to visualize in the array, as well as the last one. Note that for larger molecules (benzene) you better choose a few orbitals at the time, not to \"kill\" your jupyter.\n",
    "\n"
   ]
  },
  {
   "cell_type": "code",
   "execution_count": null,
   "id": "294fc813",
   "metadata": {},
   "outputs": [],
   "source": [
    "import spindown_show_orbitals\n"
   ]
  },
  {
   "cell_type": "code",
   "execution_count": null,
   "id": "64f04e51",
   "metadata": {},
   "outputs": [],
   "source": [
    "#\n",
    "# In this way, the molecule can be visualized with a call to the function followed by a call of the molecule itself\n",
    "# See, in the Exercise directory, the file show_orbitals.py. Don't forget the total number of occupied orbitals (for naming)\n",
    "#\n",
    "!pwd\n",
    "import importlib\n",
    "importlib.reload(spindown_show_orbitals)\n",
    "o2_spindown = spindown_show_orbitals.spindown_all_orbitals(molecule,pk=my_pk,nhomo=5,nlumo=4,ntotocc=my_numberocc_up,nfirstview=0,nlastview=9,isosurf=0.01);\n"
   ]
  },
  {
   "cell_type": "code",
   "execution_count": null,
   "id": "9635207a",
   "metadata": {
    "scrolled": false
   },
   "outputs": [],
   "source": [
    "# Now, magically, the name of the molecule will visualize the orbitals\n",
    "\n",
    "\n",
    "o2_spindown"
   ]
  },
  {
   "cell_type": "markdown",
   "id": "a40a3d80",
   "metadata": {},
   "source": [
    "## Visualizing all orbitals together: spin up\n",
    "\n",
    "We will use a loop and arrays to caption all orbitals and plot a matrix of representations: see the file **spinup_show_orbitals.py** "
   ]
  },
  {
   "cell_type": "markdown",
   "id": "3c76dfd9",
   "metadata": {},
   "source": [
    "## Including the MATRIX VISUALIZATION OF ALL ORBITALS into a function\n",
    "\n",
    "The function allows to choose the isosurface, and the first orbital to visualize in the array, as well as the last one. Note that for larger molecules (benzene) you better choose a few orbitals at the time, not to \"kill\" your jupyter.\n",
    "\n"
   ]
  },
  {
   "cell_type": "code",
   "execution_count": null,
   "id": "f0d231ec",
   "metadata": {},
   "outputs": [],
   "source": [
    "import spinup_show_orbitals\n"
   ]
  },
  {
   "cell_type": "code",
   "execution_count": null,
   "id": "c4e2a245",
   "metadata": {},
   "outputs": [],
   "source": [
    "#\n",
    "# In this way, the molecule can be visualized with a call to the function followed by a call of the molecule itself\n",
    "# See, in the Exercise directory, the file show_orbitals.py. Don't forget the total number of occupied orbitals (for naming)\n",
    "#\n",
    "!pwd\n",
    "import importlib\n",
    "importlib.reload(spinup_show_orbitals)\n",
    "o2_spinup = spinup_show_orbitals.spinup_all_orbitals(molecule,pk=my_pk,nhomo=7,nlumo=4,ntotocc=my_numberocc_up,nfirstview=0,nlastview=9,isosurf=0.01);\n"
   ]
  },
  {
   "cell_type": "code",
   "execution_count": null,
   "id": "f2ec3066",
   "metadata": {
    "scrolled": false
   },
   "outputs": [],
   "source": [
    "# Now, magically, the name of the molecule will visualize the orbitals\n",
    "\n",
    "\n",
    "o2_spinup"
   ]
  },
  {
   "cell_type": "markdown",
   "id": "09417403",
   "metadata": {},
   "source": [
    "# Assignments\n",
    "\n",
    "1. For each molecule, draw a molecular orbital table filling the orbitals up to the correct level.\n",
    "2. Discuss the difference between the H2 and O2 molecule.\n",
    "3. Discuss the differences between the CH4 and CH2  and C6H6  molecules (hybridisation?)\n",
    "4. Follow the discussion that you find in the link, and compare with your result. Discuss the differences you find between Hexatriene and Benzene\n",
    "5. Which molecule has the largest Band Gap?\n",
    "6. Apply a deformation to benzene and optimize again. Show the trajectory of the optimization. "
   ]
  }
 ],
 "metadata": {
  "kernelspec": {
   "display_name": "Python 3 (ipykernel)",
   "language": "python",
   "name": "python3"
  },
  "language_info": {
   "codemirror_mode": {
    "name": "ipython",
    "version": 3
   },
   "file_extension": ".py",
   "mimetype": "text/x-python",
   "name": "python",
   "nbconvert_exporter": "python",
   "pygments_lexer": "ipython3",
   "version": "3.9.13"
  }
 },
 "nbformat": 4,
 "nbformat_minor": 5
}
