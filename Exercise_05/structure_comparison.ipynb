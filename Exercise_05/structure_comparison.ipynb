{
 "cells": [
  {
   "cell_type": "markdown",
   "metadata": {},
   "source": [
    "### check the [spglib](https://spglib.readthedocs.io/en/stable/) documentation"
   ]
  },
  {
   "cell_type": "code",
   "execution_count": 1,
   "metadata": {},
   "outputs": [
    {
     "data": {
      "application/vnd.jupyter.widget-view+json": {
       "model_id": "66b4791c124d48b18a86b1ea4046866d",
       "version_major": 2,
       "version_minor": 0
      },
      "text/plain": []
     },
     "metadata": {},
     "output_type": "display_data"
    }
   ],
   "source": [
    "import itertools\n",
    "import numpy as np\n",
    "from numpy.linalg import norm\n",
    "from ase import Atoms\n",
    "from ase.spacegroup import crystal\n",
    "from ase.spacegroup import Spacegroup\n",
    "from ase.data import atomic_numbers, atomic_names\n",
    "from ase.io import read\n",
    "from ase.visualize import view\n",
    "import spglib\n",
    "import nglview as nv\n",
    "from glob import glob"
   ]
  },
  {
   "cell_type": "code",
   "execution_count": 2,
   "metadata": {},
   "outputs": [],
   "source": [
    "def view_structure(structure,myvec=[]):\n",
    "    t = nv.ASEStructure(structure)\n",
    "    w = nv.NGLWidget(t, gui=True)\n",
    "    w.add_unitcell()\n",
    "    w.add_ball_and_stick()\n",
    "    w.add_representation('label',label_type='atomindex',color='black')\n",
    "    w.add_representation('spacefill',selection=myvec,color=\"blue\",radius=0.5)\n",
    "    return w"
   ]
  },
  {
   "cell_type": "markdown",
   "metadata": {},
   "source": [
    "### How can we check whether two crystals are equivalent or not?"
   ]
  },
  {
   "cell_type": "markdown",
   "metadata": {},
   "source": [
    "<img src=\"crystal_equivalence.png\" width=500 height=500>"
   ]
  },
  {
   "cell_type": "markdown",
   "metadata": {},
   "source": [
    "### Function to obtain from spglib the symmetry informations of an ASE Atoms object"
   ]
  },
  {
   "cell_type": "code",
   "execution_count": 3,
   "metadata": {},
   "outputs": [],
   "source": [
    "def get_sym_info(ase_atoms):\n",
    "    return spglib.get_symmetry_dataset((ase_atoms.get_cell(),\n",
    "                ase_atoms.get_scaled_positions(),\n",
    "                ase_atoms.get_atomic_numbers()), \n",
    "                                   symprec=1e-5, angle_tolerance=-1.0)"
   ]
  },
  {
   "cell_type": "markdown",
   "metadata": {},
   "source": [
    "### Let's create two ZrO2 crystals..."
   ]
  },
  {
   "cell_type": "code",
   "execution_count": 4,
   "metadata": {},
   "outputs": [],
   "source": [
    "z1 = crystal('ZrO',[(0,0,0),(3./4.,1./4.,3./4.)],\n",
    "             spacegroup=225,cellpar=[[5.09,0,0],[0,5.09,0],[0,0,5.09]]).repeat([2,1,1])"
   ]
  },
  {
   "cell_type": "code",
   "execution_count": 5,
   "metadata": {},
   "outputs": [],
   "source": [
    "sym_ref = get_sym_info(z1)"
   ]
  },
  {
   "cell_type": "code",
   "execution_count": 6,
   "metadata": {},
   "outputs": [],
   "source": [
    "z2=z1.copy()"
   ]
  },
  {
   "cell_type": "markdown",
   "metadata": {},
   "source": [
    "### ...and in each crystal we raplace one Zr by one Hf"
   ]
  },
  {
   "cell_type": "code",
   "execution_count": 7,
   "metadata": {},
   "outputs": [],
   "source": [
    "z1[0].symbol='Hf'\n",
    "z2[3].symbol='Hf'\n",
    "#z2[12].symbol='Hf'"
   ]
  },
  {
   "cell_type": "markdown",
   "metadata": {},
   "source": [
    "### The two functions below allow to apply a crystal group operation (R+t) to an ASE Atoms"
   ]
  },
  {
   "cell_type": "code",
   "execution_count": 8,
   "metadata": {},
   "outputs": [],
   "source": [
    "def apply_op(rotation,translation,ase_atoms):\n",
    "    \"\"\" takes as input a rotation matrix a translation and an spg geometry\n",
    "        and returns a np.array with 'atomtype,x,y,z' where x,y,z are the transformed coordinates of each atom\n",
    "    \"\"\"\n",
    "    pnew=(np.matmul(ase_atoms.get_scaled_positions(),rotation.T) + translation) #% 1.0\n",
    "    ase_atoms.set_scaled_positions(pnew)\n",
    "def apply_invop(rotation,translation,ase_atoms):\n",
    "    \"\"\" takes as input a rotation matrix a translation and an spg geometry\n",
    "        and returns a np.array with 'atomtype,x,y,z' where x,y,z are the transformed coordinates of each atom\n",
    "    \"\"\"\n",
    "    invrot=np.linalg.inv(rotation)\n",
    "    pnew=(np.matmul(ase_atoms.get_scaled_positions(),invrot.T) -  np.matmul(invrot,translation))# % 1.0\n",
    "    ase_atoms.set_scaled_positions(pnew)    "
   ]
  },
  {
   "cell_type": "code",
   "execution_count": 9,
   "metadata": {},
   "outputs": [],
   "source": [
    "z1_ref=z1.copy()\n",
    "apply_op(sym_ref['transformation_matrix'],sym_ref['origin_shift'],z1_ref)"
   ]
  },
  {
   "cell_type": "markdown",
   "metadata": {},
   "source": [
    "### Applying to one crystal all possible symmetry operations we can check whetehr it is equivalent or not to the other one"
   ]
  },
  {
   "cell_type": "code",
   "execution_count": 10,
   "metadata": {},
   "outputs": [],
   "source": [
    "#np.concatenate([np.array([1,2,3])[:, None], [[10,20,30],[100,200,300],[1000,2000,3000]]], axis=1)"
   ]
  },
  {
   "cell_type": "code",
   "execution_count": 11,
   "metadata": {},
   "outputs": [],
   "source": [
    "def ase_a_equiv_ase_b(sym_ref,ase_a,ase_b):\n",
    "    fullb = np.concatenate([ase_b.get_atomic_numbers()[:, None], (ase_b.get_scaled_positions())%1.0 ], axis=1)\n",
    "    indices = np.lexsort((fullb[:, 3], fullb[:, 2], fullb[:, 1]))  # lexsort uses the last key as the primary sort key\n",
    "    sorted_b = fullb[indices]\n",
    "    ase_a_ref = ase_a.copy()\n",
    "    for rotation,translation in zip(sym_ref['rotations'], sym_ref['translations']):\n",
    "        new_ase = ase_a_ref.copy()\n",
    "        apply_op(rotation,translation,new_ase)\n",
    "        fulln = np.concatenate([new_ase.get_atomic_numbers()[:, None], (new_ase.get_scaled_positions())%1.0 ], axis=1)\n",
    "        indices = np.lexsort((fulln[:, 3], fulln[:, 2], fulln[:, 1])) \n",
    "        sorted_n = fulln[indices]  \n",
    "        if np.allclose(sorted_n, sorted_b, atol=1e-5):\n",
    "            #ase_a.write('a.xyz')\n",
    "            #ase_b.write('b.xyz')\n",
    "            #new_ase.write('new.xyz')\n",
    "            return True\n",
    "    return False        "
   ]
  },
  {
   "cell_type": "code",
   "execution_count": 12,
   "metadata": {},
   "outputs": [
    {
     "data": {
      "text/plain": [
       "True"
      ]
     },
     "execution_count": 12,
     "metadata": {},
     "output_type": "execute_result"
    }
   ],
   "source": [
    "ase_a_equiv_ase_b(sym_ref,z1, z2)"
   ]
  },
  {
   "cell_type": "markdown",
   "metadata": {},
   "source": [
    "### Now let's try to create several inequivalent structures where we replace O with N starting from a model structure"
   ]
  },
  {
   "cell_type": "code",
   "execution_count": 13,
   "metadata": {},
   "outputs": [
    {
     "data": {
      "application/vnd.jupyter.widget-view+json": {
       "model_id": "210caaf01e4f4726b925fd75419360c5",
       "version_major": 2,
       "version_minor": 0
      },
      "text/plain": [
       "NGLWidget()"
      ]
     },
     "metadata": {},
     "output_type": "display_data"
    },
    {
     "data": {
      "application/vnd.jupyter.widget-view+json": {
       "model_id": "0df87767d0d1405f918dda3f138a53c2",
       "version_major": 2,
       "version_minor": 0
      },
      "text/plain": [
       "Tab(children=(Box(children=(Box(children=(Box(children=(Label(value='step'), IntSlider(value=1, min=-100)), la…"
      ]
     },
     "metadata": {},
     "output_type": "display_data"
    }
   ],
   "source": [
    "pristine = read('./quartz_alpha.xyz')\n",
    "#atoms = read('./quartz_alpha_v2.xyz')\n",
    "view_structure(pristine)"
   ]
  },
  {
   "cell_type": "markdown",
   "metadata": {},
   "source": [
    "### Creation of the structures"
   ]
  },
  {
   "cell_type": "code",
   "execution_count": 14,
   "metadata": {},
   "outputs": [],
   "source": [
    "all_structures=[]"
   ]
  },
  {
   "cell_type": "code",
   "execution_count": 15,
   "metadata": {},
   "outputs": [
    {
     "name": "stdout",
     "output_type": "stream",
     "text": [
      "96\n"
     ]
    }
   ],
   "source": [
    "oxygens = [atom.index for atom in pristine if atom.symbol == 'O']\n",
    "print(len(oxygens))"
   ]
  },
  {
   "cell_type": "code",
   "execution_count": 16,
   "metadata": {},
   "outputs": [],
   "source": [
    "nstructures = 50\n",
    "nreplace = 2\n",
    "for ns in range(nstructures):\n",
    "    rho=[0,0]\n",
    "    while rho[0] == rho[1]:\n",
    "        rho=np.random.randint(0, high=len(oxygens), size=nreplace)\n",
    "    new_geo = pristine.copy()\n",
    "    elements =  new_geo.get_chemical_symbols()\n",
    "    for i in rho:\n",
    "        elements[oxygens[i]]='N'\n",
    "    new_geo.set_chemical_symbols(elements)\n",
    "    all_structures.append(new_geo)"
   ]
  },
  {
   "cell_type": "markdown",
   "metadata": {},
   "source": [
    "### We check if there are equivalent structures"
   ]
  },
  {
   "cell_type": "code",
   "execution_count": 17,
   "metadata": {},
   "outputs": [
    {
     "name": "stdout",
     "output_type": "stream",
     "text": [
      "2 11\n",
      "5 22\n",
      "12 26\n",
      "13 35\n",
      "39 44\n"
     ]
    }
   ],
   "source": [
    "sym_ref=get_sym_info(pristine)\n",
    "equivalent=[]\n",
    "for i in range(nstructures):\n",
    "    for j in range(i+1,nstructures):\n",
    "        if ase_a_equiv_ase_b(sym_ref,all_structures[i], all_structures[j]):\n",
    "            print(i,j)\n",
    "            equivalent.append([i,j])"
   ]
  },
  {
   "cell_type": "code",
   "execution_count": 18,
   "metadata": {},
   "outputs": [
    {
     "data": {
      "application/vnd.jupyter.widget-view+json": {
       "model_id": "cda80d71af8d46ee82c0a5e86a0a567a",
       "version_major": 2,
       "version_minor": 0
      },
      "text/plain": [
       "NGLWidget()"
      ]
     },
     "metadata": {},
     "output_type": "display_data"
    },
    {
     "data": {
      "application/vnd.jupyter.widget-view+json": {
       "model_id": "f8da283c6d2c454c9d49d72c23d0c1a4",
       "version_major": 2,
       "version_minor": 0
      },
      "text/plain": [
       "Tab(children=(Box(children=(Box(children=(Box(children=(Label(value='step'), IntSlider(value=1, min=-100)), la…"
      ]
     },
     "metadata": {},
     "output_type": "display_data"
    }
   ],
   "source": [
    "n=14\n",
    "view_structure(all_structures[n])"
   ]
  },
  {
   "cell_type": "code",
   "execution_count": 19,
   "metadata": {},
   "outputs": [
    {
     "data": {
      "application/vnd.jupyter.widget-view+json": {
       "model_id": "d4837e8e912f4d6eb6c22a5fcf7122cf",
       "version_major": 2,
       "version_minor": 0
      },
      "text/plain": [
       "NGLWidget()"
      ]
     },
     "metadata": {},
     "output_type": "display_data"
    },
    {
     "data": {
      "application/vnd.jupyter.widget-view+json": {
       "model_id": "bb79a450f2f447018310ab4722f1dd7a",
       "version_major": 2,
       "version_minor": 0
      },
      "text/plain": [
       "Tab(children=(Box(children=(Box(children=(Box(children=(Label(value='step'), IntSlider(value=1, min=-100)), la…"
      ]
     },
     "metadata": {},
     "output_type": "display_data"
    }
   ],
   "source": [
    "n=19\n",
    "view_structure(all_structures[n])"
   ]
  },
  {
   "cell_type": "markdown",
   "metadata": {},
   "source": [
    "### Let's check if N-N distance in equivalent crystals is the same"
   ]
  },
  {
   "cell_type": "code",
   "execution_count": 20,
   "metadata": {},
   "outputs": [],
   "source": [
    "def distance_Natoms(ase_geo):\n",
    "    Natoms=[atom.index for atom in ase_geo if atom.symbol == 'N']\n",
    "    return ase_geo.get_distance(Natoms[0],Natoms[1],mic=True)"
   ]
  },
  {
   "cell_type": "code",
   "execution_count": 21,
   "metadata": {},
   "outputs": [
    {
     "name": "stdout",
     "output_type": "stream",
     "text": [
      "structures 2 and 11 N-N distance: 2.632 and 2.632\n",
      "structures 5 and 22 N-N distance: 5.588 and 5.588\n",
      "structures 12 and 26 N-N distance: 7.062 and 7.062\n",
      "structures 13 and 35 N-N distance: 6.779 and 6.779\n",
      "structures 39 and 44 N-N distance: 4.513 and 4.513\n"
     ]
    }
   ],
   "source": [
    "for pair in equivalent:\n",
    "    print(f\"structures {pair[0]} and {pair[1]} N-N distance: {distance_Natoms(all_structures[pair[0]]):.3f} and {distance_Natoms(all_structures[pair[1]]):.3f}\")"
   ]
  },
  {
   "cell_type": "code",
   "execution_count": null,
   "metadata": {},
   "outputs": [],
   "source": []
  }
 ],
 "metadata": {
  "kernelspec": {
   "display_name": "Python 3 (ipykernel)",
   "language": "python",
   "name": "python3"
  },
  "language_info": {
   "codemirror_mode": {
    "name": "ipython",
    "version": 3
   },
   "file_extension": ".py",
   "mimetype": "text/x-python",
   "name": "python",
   "nbconvert_exporter": "python",
   "pygments_lexer": "ipython3",
   "version": "3.9.16"
  }
 },
 "nbformat": 4,
 "nbformat_minor": 4
}
