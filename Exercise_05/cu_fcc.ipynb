{
 "cells": [
  {
   "cell_type": "code",
   "execution_count": 1,
   "metadata": {},
   "outputs": [
    {
     "name": "stdout",
     "output_type": "stream",
     "text": [
      "Atoms(symbols='Cu', pbc=True, cell=[[0.0, 1.805, 1.805], [1.805, 0.0, 1.805], [1.805, 1.805, 0.0]])\n"
     ]
    }
   ],
   "source": [
    "from ase.spacegroup import crystal\n",
    "from ase.build import bulk\n",
    "from ase.dft.kpoints import get_special_points, bandpath\n",
    "\n",
    "b=bulk('Cu', 'fcc', a=3.61)\n",
    "print(b)\n",
    "points = get_special_points(b.cell,'fcc')\n",
    "GXWL = [points[k] for k in 'GXWL']"
   ]
  },
  {
   "cell_type": "code",
   "execution_count": 2,
   "metadata": {},
   "outputs": [
    {
     "name": "stderr",
     "output_type": "stream",
     "text": [
      "/Users/cpi/opt/miniconda3/lib/python3.9/site-packages/ase/utils/__init__.py:62: FutureWarning: Please use atoms.cell.reciprocal()\n",
      "  warnings.warn(warning)\n"
     ]
    },
    {
     "data": {
      "text/plain": [
       "Cell([[-0.27700831024930755, 0.2770083102493075, 0.2770083102493076], [0.27700831024930755, -0.27700831024930755, 0.2770083102493075], [0.2770083102493075, 0.27700831024930744, -0.27700831024930755]])"
      ]
     },
     "execution_count": 2,
     "metadata": {},
     "output_type": "execute_result"
    }
   ],
   "source": [
    "b.get_reciprocal_cell()"
   ]
  },
  {
   "cell_type": "code",
   "execution_count": 3,
   "metadata": {},
   "outputs": [
    {
     "name": "stdout",
     "output_type": "stream",
     "text": [
      "G [0. 0. 0.]\n",
      "K [0.375 0.375 0.75 ]\n",
      "L [0.5 0.5 0.5]\n",
      "U [0.625 0.25  0.625]\n",
      "W [0.5  0.25 0.75]\n",
      "X [0.5 0.  0.5]\n"
     ]
    }
   ],
   "source": [
    "for i in points:\n",
    "    print(i,points[i])"
   ]
  },
  {
   "cell_type": "code",
   "execution_count": null,
   "metadata": {},
   "outputs": [],
   "source": []
  }
 ],
 "metadata": {
  "kernelspec": {
   "display_name": "Python 3 (ipykernel)",
   "language": "python",
   "name": "python3"
  },
  "language_info": {
   "codemirror_mode": {
    "name": "ipython",
    "version": 3
   },
   "file_extension": ".py",
   "mimetype": "text/x-python",
   "name": "python",
   "nbconvert_exporter": "python",
   "pygments_lexer": "ipython3",
   "version": "3.9.16"
  }
 },
 "nbformat": 4,
 "nbformat_minor": 4
}
