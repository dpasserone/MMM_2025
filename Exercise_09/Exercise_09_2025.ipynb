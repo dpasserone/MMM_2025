{
 "cells": [
  {
   "cell_type": "markdown",
   "metadata": {},
   "source": [
    "# Exercise 9 - 2025: Training the Lennard-Jones, training with the Lennard-Jones. "
   ]
  },
  {
   "cell_type": "markdown",
   "metadata": {},
   "source": [
    "In this exercise we want to observe the top panel of Figure 2 of [this paper](https://aip.scitation.org/doi/pdf/10.1063/1.481671) and see if we recover the same trend, that is a disordering of a 38 atom LJ cluster.\n",
    "We will do that by performing simulations at various temperatures with LAMMPS, extracting the order parameters Q4 and Q6, and extracting averages.\n",
    "We then will use some of the MD directories to train a NN potential. This is just the first part of the exercise, in a few weeks we will go deeper and all assignments will concern the two notebooks, together."
   ]
  },
  {
   "cell_type": "code",
   "execution_count": null,
   "metadata": {},
   "outputs": [],
   "source": [
    "import numpy as np\n",
    "import scipy\n",
    "from scipy.special import sph_harm\n",
    "from glob import glob\n",
    "from ase.io import read,write\n",
    "from ase import neighborlist\n",
    "import matplotlib.pyplot as plt\n",
    "\n",
    "import numpy as np\n",
    "from ase.visualize import view\n",
    "import matplotlib.pyplot as plt\n",
    "import nglview as nv\n",
    "\n",
    "\n",
    "import ase\n",
    "import ase.io\n",
    "import ase.lattice.cubic\n",
    "import ase.md\n",
    "from ase.md.nvtberendsen import NVTBerendsen\n",
    "from ase.units import fs, kB\n",
    "from ase.calculators.lammpsrun import LAMMPS\n",
    "\n",
    "def view_structure(system):\n",
    "    t = nv.ASEStructure(system) \n",
    "    w = nv.NGLWidget(t, gui=True)\n",
    "    w.add_spacefill()\n",
    "    return w\n",
    "\n",
    "\n",
    "def view_trajectory(trajectory):\n",
    "    t2 = nv.ASETrajectory(trajectory)\n",
    "    w2 = nv.NGLWidget(t2, gui=True)\n",
    "    w2.add_spacefill(radius=0.1)\n",
    "    return w2\n",
    "\n",
    "\n",
    "global epsilon_lammps,sigma_lammps\n",
    "\n",
    "\n",
    "epsilon_lammps = 0.01042\n",
    "sigma_lammps = 3.405\n",
    "\n",
    "eps_kelvin = (epsilon_lammps/kB) # value for argon\n",
    "\n",
    "print (f\"The value for argon of the epsilon, in K is {eps_kelvin}\")"
   ]
  },
  {
   "cell_type": "markdown",
   "metadata": {},
   "source": [
    "### 3.2. Bond order parameters\n",
    "\n",
    "We now need to create a function for the calculation of bond order parameters (or Steinhardt order parameters), which we have already met in Exercise 3. As a short recap, they are defined as:\n",
    "\n",
    "$$\n",
    "Q_l^2 = \\frac{4 \\pi}{2l+1} \\sum_{m=-l}^l |q_{lm}|^2\n",
    "\\qquad\n",
    " \\text{with}:\n",
    " \\quad\n",
    " q_{lm} = \\frac{1}{N_{bonds}} \\sum_{N_n} Y_{lm} (\\theta_{ij}, \\phi_{ij}).\n",
    "$$\n",
    "\n",
    "These parameters hold the information of the local structure and are sensitive to different symmetries. Just as in Exercise 3, the center of mass of the full 38-atom cluster is calculated, and thereafter the single nearest neighbour atom to the center of mass is selected. This nearest neighbour plus its own 12 nearest neighbours themselves define the \"core\" of the total 38-atom cluster. This process is repeated over all vectors pointing from the center of mass of the 38-atom cluster to all $N_b$ bonds over the formed over the  We first define a general `Python` function for $Q_l$ calculation, and then compute $Q_4$ for all the computed trajectories by simply calling the function. Execute the code block which defines a function `QL`, which is of course identical to that in Exercise 3:"
   ]
  },
  {
   "cell_type": "code",
   "execution_count": null,
   "metadata": {},
   "outputs": [],
   "source": [
    "def QL(l, trajectory):\n",
    "    \"\"\"\n",
    "    Calculate the QL order parameter for a given trajectory.\n",
    "\n",
    "    Args:\n",
    "        l (int): the order of the QL parameter; corresponds to the l in the spherical harmonics\n",
    "        trajectory (ase.Atoms): the trajectory to be analyzed\n",
    "    \n",
    "    Returns:\n",
    "        Ql (np.array): the Ql order parameter for each frame of the trajectory\n",
    "    \"\"\"\n",
    "    \n",
    "    rcut = sigma_lammps*1.391/2 #in Angstrom\n",
    "    \n",
    "    #update the cutoff for each frame\n",
    "    for frame in trajectory: \n",
    "        array_rcut         = np.ones(len(frame))*rcut\n",
    "        new_neighbour_list = neighborlist.NeighborList(array_rcut,skin=0, self_interaction=False, bothways=False)\n",
    "        new_neighbour_list.update(frame)\n",
    "    \n",
    "    \n",
    "    #compute Ql for each frame\n",
    "    Ql = np.empty(len(trajectory))\n",
    "    i  = 0\n",
    "    \n",
    "    for frame in trajectory:\n",
    "        nbonds = 0\n",
    "        qlm    = np.zeros(2*l+1) \n",
    "        \n",
    "        for atom in frame:\n",
    "            nlist = new_neighbour_list.get_neighbors(atom.index)[0]\n",
    "                \n",
    "            for theneig in nlist:   #cycle over the neighbours\n",
    "                #get angles and distances\n",
    "                nbonds   = nbonds+1\n",
    "                rij      = frame[theneig].position - atom.position\n",
    "                dist     = np.linalg.norm(rij)\n",
    "                phi_ij   = np.arccos(rij[2]/dist)\n",
    "                theta_ij = np.arctan2(rij[1],rij[0])\n",
    "                if theta_ij < 0:\n",
    "                    theta_ij += 2*np.pi\n",
    "                \n",
    "                #move in spherical coordinates space\n",
    "                    # In a like-oriented coordinate system at j,\n",
    "                    #the spherical coordinates of atom i are:\n",
    "                if theta_ij  <= np.pi:\n",
    "                    theta_ji  = theta_ij + np.pi\n",
    "                elif theta_ij > np.pi:\n",
    "                    theta_ji  = theta_ij - np.pi\n",
    "                if np.absolute(theta_ji-2*np.pi)<0.0001:\n",
    "                    theta_ji=0.0\n",
    "                phi_ji = np.pi-phi_ij\n",
    "                \n",
    "                #compute spherical harmonics and perform qml summation \n",
    "                qlm = qlm + np.array([ sph_harm(m,l,theta_ij,phi_ij) for m in range(-l,l+1) ])\n",
    "                \n",
    "        qlm   =  np.real(qlm*np.conj(qlm)/(nbonds*nbonds))\n",
    "        \n",
    "        #prefactor and second summation\n",
    "        Ql[i] =  np.sqrt(np.pi *4 /(2*l+1)*np.sum(qlm))\n",
    "        i    += 1\n",
    "    return Ql"
   ]
  },
  {
   "cell_type": "markdown",
   "metadata": {},
   "source": [
    "# Initial structure"
   ]
  },
  {
   "cell_type": "code",
   "execution_count": null,
   "metadata": {},
   "outputs": [],
   "source": [
    "structure_t0 = read (\"T0.xyz\")\n",
    "\n",
    "view_structure (structure_t0)"
   ]
  },
  {
   "cell_type": "code",
   "execution_count": null,
   "metadata": {},
   "outputs": [],
   "source": [
    "\n",
    "\n"
   ]
  },
  {
   "cell_type": "markdown",
   "metadata": {},
   "source": [
    "## A LAMMPS ASE calculator would look like that, but is MUCH slower than the command line!"
   ]
  },
  {
   "cell_type": "code",
   "execution_count": null,
   "metadata": {},
   "outputs": [],
   "source": [
    "\n",
    "\n",
    "atoms = read (\"T0.xyz\")\n",
    "\n",
    "atoms.set_cell([50, 50, 50])  # Define box size\n",
    "atoms.center()  # Center atoms in the box\n",
    "atoms.set_pbc([True,True,True])  # Enable periodic boundaries\n",
    "parameters = {\"pair_style\": \"lj/cut 8.5\",\n",
    "              \"pair_coeff\": ['1 1 0.01042 3.405  8.5'],\n",
    "              \"units\":\"metal\",\n",
    "              \"atom_style\":\"atomic\",}\n",
    "\n",
    "\n",
    "\n",
    "\"\"\"\n",
    "\n",
    "\n",
    "\n",
    "# Set up LAMMPS calculator\n",
    "calc = LAMMPS(command =\"lmp_serial\", label=\"argon_md\", **parameters)\n",
    "atoms.calc = calc\n",
    "atoms.write(\"argon.data\", format=\"lammps-data\")\n",
    "\n",
    "\n",
    "\n",
    "print (atoms.get_potential_energy())\n",
    "\n",
    "print (atoms.get_positions())\n",
    "# Define molecular dynamics (MD) parameters\n",
    "timestep = 1.0  # femtoseconds\n",
    "temperature = 300  # Kelvin\n",
    "\n",
    "dyn = NVTBerendsen(atoms, timestep=1.0 * fs, temperature_K=300, taut=0.1)\n",
    "\n",
    "\n",
    "from ase.io.trajectory import Trajectory\n",
    "\n",
    "traj = Trajectory(\"argon.traj\", \"w\", atoms)\n",
    "\n",
    "#for step in range(10000):\n",
    "#    dyn.run(1)\n",
    "#    if step % 1000 == 0:\n",
    "#        print (step,atoms.get_potential_energy())\n",
    "#        traj.write(atoms)\n",
    "\n",
    "\n",
    "\"\"\"\n"
   ]
  },
  {
   "cell_type": "markdown",
   "metadata": {},
   "source": [
    "## Example calculation at 22 K"
   ]
  },
  {
   "cell_type": "code",
   "execution_count": null,
   "metadata": {},
   "outputs": [],
   "source": [
    "import ase\n",
    "import ase.io\n",
    "import ase.lattice.cubic\n",
    "import ase.md\n",
    "from ase.md.nvtberendsen import NVTBerendsen\n",
    "from ase.units import fs, kB\n",
    "from ase.calculators.lammpsrun import LAMMPS\n",
    "\n",
    "atoms = read (\"T0.xyz\")\n",
    "\n",
    "atoms.set_cell([50, 50, 50])  # Define box size\n",
    "atoms.center()  # Center atoms in the box\n",
    "atoms.set_pbc([True,True,True])  # Enable periodic boundaries\n",
    "atoms.write(\"T0.data\", format=\"lammps-data\")\n",
    "\n",
    "temp = 22\n",
    "\n",
    "placeholder = \"{PLACEHOLDER}\"  # Define the placeholder to be replaced\n",
    "replacement = str(temp)  # The new content for the placeholder\n",
    "file_path = \"input.T0\"  # Path to your existing file\n",
    "file_path2 = \"input.T\"\n",
    "!rm {file_path2}\n",
    "# Read the file\n",
    "with open(file_path, \"r\") as file:\n",
    "    content = file.read()\n",
    "\n",
    "# Replace the placeholder\n",
    "updated_content = content.replace(placeholder, replacement)\n",
    "\n",
    "# Write the modified content back to the file\n",
    "with open(file_path2, \"w\") as file2:\n",
    "    file2.write(updated_content)\n",
    "\n",
    "\n",
    "\n",
    "\n",
    "\n",
    "!lmp_serial -i input.T > out.{replacement}\n",
    "\n"
   ]
  },
  {
   "cell_type": "code",
   "execution_count": null,
   "metadata": {},
   "outputs": [],
   "source": [
    "filename = f\"structure_{temp}.xyz\"\n",
    "traj = read(filename,index=\":\")\n",
    "print (f\"Trajectory for T={temp}\")\n",
    "view_trajectory (traj)"
   ]
  },
  {
   "cell_type": "markdown",
   "metadata": {},
   "source": [
    "Now execute the code block defining `Q4` and `Q6`:"
   ]
  },
  {
   "cell_type": "code",
   "execution_count": null,
   "metadata": {},
   "outputs": [],
   "source": [
    "\n",
    "trajectory = read(filename, index=\":\")\n",
    "\n",
    "import numpy as np\n",
    "import matplotlib.pyplot as plt\n",
    "q4_values = QL(4,trajectory)\n",
    "# Plot Q4 along the trajectory\n",
    "plt.plot(q4_values, marker=\"o\")\n",
    "plt.xlabel(\"Frame Index\")\n",
    "plt.ylabel(\"Q4 Value\")\n",
    "title = f\"Q4 Structural Parameter, T = {temp}\"\n",
    "plt.title(title)\n",
    "plt.show()\n",
    "\n",
    "q6_values = QL(6,trajectory)\n",
    "# Plot Q4 along the trajectory\n",
    "plt.plot(q6_values, marker=\"o\")\n",
    "plt.xlabel(\"Frame Index\")\n",
    "plt.ylabel(\"Q6 Value\")\n",
    "title = f\"Q6 Structural Parameter, T = {temp}\"\n",
    "plt.title(title)\n",
    "plt.show()\n",
    "\n"
   ]
  },
  {
   "cell_type": "markdown",
   "metadata": {},
   "source": [
    "## Cycle over many temperatures (one million steps)"
   ]
  },
  {
   "cell_type": "code",
   "execution_count": null,
   "metadata": {},
   "outputs": [],
   "source": [
    "temperature_values = np.array([xxxxxxxxxxxxxxxxxxxxxx])  #insert the temperatures appropriate (in K) looking at the paper. Discussion on units. \n",
    " \n",
    "\n",
    "q4_values = [[] for _ in temperature_values]\n",
    "q6_values = [[] for _ in temperature_values]\n",
    "\n",
    "! rm structure_*.xyz \n",
    "! cat input.T0\n",
    "\n",
    "\n",
    "for i,temp in enumerate(temperature_values):\n",
    "    placeholder = \"{PLACEHOLDER}\"  # Define the placeholder to be replaced\n",
    "    temp_str = str(temp)  # The new content for the placeholder\n",
    "    file_path = \"input.T0\"  # Path to your existing file\n",
    "    file_path2 = \"input.T\"\n",
    "    !rm {file_path2}\n",
    "    # Read the file\n",
    "    print (f\"Running {temp}\")\n",
    "    with open(file_path, \"r\") as file:\n",
    "        content = file.read()\n",
    "\n",
    "    # Replace the placeholder\n",
    "    updated_content = content.replace(placeholder, temp_str)\n",
    "\n",
    "    # Write the modified content back to the file\n",
    "    with open(file_path2, \"w\") as file2:\n",
    "        file2.write(updated_content)\n",
    "\n",
    "\n",
    "    \n",
    "\n",
    "    !lmp_serial -i input.T > out.{temp_str}\n",
    "\n",
    "    my_str = f\"structure_{temp_str}.xyz\"\n",
    "\n",
    "    trajectory = read(my_str, index=\":\")\n",
    "    \n",
    "    \n",
    "    import numpy as np\n",
    "    import matplotlib.pyplot as plt\n",
    "    q4_values[i] = QL(4,trajectory)\n",
    "    q6_values[i] = QL(6,trajectory)\n",
    "\"\"\" # Plot Q4 along the trajectory\n",
    "    plt.plot(q4_values[i], marker=\"o\")\n",
    "    plt.xlabel(\"Frame Index\")\n",
    "    plt.ylabel(\"Q4 Value\")\n",
    "    title = f\"Q4 Structural Parameter {temp_str}\"\n",
    "    plt.title(title)\n",
    "    plt.show()\n",
    "\n",
    "\n",
    "    # Plot Q4 along the trajectory\n",
    "    plt.plot(q6_values[i], marker=\"o\")\n",
    "    plt.xlabel(\"Frame Index\")\n",
    "    title = f\"Q6 Structural Parameter {temp_str}\"\n",
    "    plt.title(title)\n",
    "    plt.ylabel(\"Q6 Value\")\n",
    "    plt.show()\"\"\"\n",
    "    \n",
    "    \n",
    "    \n",
    "\n",
    "data = np.column_stack((temperature_values, q4_values, q6_values))    \n",
    "\n",
    "\n",
    "print (\"Set of simulations finished! Temperatures: \",temperature_values)\n"
   ]
  },
  {
   "cell_type": "markdown",
   "metadata": {},
   "source": [
    "# Compute the average for each temperature\n"
   ]
  },
  {
   "cell_type": "code",
   "execution_count": null,
   "metadata": {},
   "outputs": [],
   "source": [
    "q4_averages = [np.mean(q4) for q4 in q4_values]\n",
    "\n",
    "# Plot the results\n",
    "plt.figure(figsize=(8, 5))\n",
    "\n",
    "t_values = temperature_values * 1./eps_kelvin\n",
    "plt.plot(t_values, q4_averages, marker='o', linestyle='-')\n",
    "\n",
    "# Labels and title\n",
    "plt.xlabel(\"Temperature/eps)\")\n",
    "plt.ylabel(\"Average q4\")\n",
    "plt.title(\"Average q4 vs Temperature\")\n",
    "plt.grid(True)\n",
    "\n",
    "# Show the plot\n",
    "plt.show()\n",
    "\n",
    "\n",
    "plt.plot(temperature_values, q4_averages, marker='o', linestyle='-')\n",
    "\n",
    "# Labels and title\n",
    "plt.xlabel(\"Temperature)\")\n",
    "plt.ylabel(\"Average q4\")\n",
    "plt.title(\"Average q4 vs Temperature\")\n",
    "plt.grid(True)\n",
    "\n",
    "# Show the plot\n",
    "plt.show()\n",
    "\n",
    "# Compute the average for each temperature\n",
    "q6_averages = [np.mean(q6) for q6 in q6_values]\n",
    "\n",
    "# Plot the results\n",
    "plt.figure(figsize=(8, 5))\n",
    "\n",
    "t_relative = temperature_values * 1./eps_kelvin\n",
    "plt.plot(t_relative, q6_averages, marker='o', linestyle='-')\n",
    "\n",
    "# Labels and title\n",
    "plt.xlabel(\"Temperature/eps)\")\n",
    "plt.ylabel(\"Average q6\")\n",
    "plt.title(\"Average q6 vs Temperature\")\n",
    "plt.grid(True)\n",
    "\n",
    "# Show the plot\n",
    "plt.show()\n",
    "\n",
    "\n",
    "plt.plot(temperature_values, q6_averages, marker='o', linestyle='-')\n",
    "\n",
    "# Labels and title\n",
    "plt.xlabel(\"Temperature)\")\n",
    "plt.ylabel(\"Average q6\")\n",
    "plt.title(\"Average q6 vs Temperature\")\n",
    "plt.grid(True)\n",
    "\n",
    "# Show the plot\n",
    "plt.show()"
   ]
  },
  {
   "cell_type": "markdown",
   "metadata": {},
   "source": [
    "Compare your result with the top panel of Figure 2 of [this paper](https://aip.scitation.org/doi/pdf/10.1063/1.481671) and see if you recover the same trend"
   ]
  },
  {
   "cell_type": "markdown",
   "metadata": {},
   "source": [
    "#### End Assignment 4"
   ]
  },
  {
   "cell_type": "markdown",
   "metadata": {},
   "source": [
    "#### Assignment 5: heat capacity at constant volume\n",
    "\n",
    "Statistical mechanics defines the **heat capacity at constant volume** $C_V$ in terms of the fluctuations of variance of energy compared to the square of the expectation value of energy:\n",
    "\n",
    "$$\n",
    "C_V = k_B\\beta^2[\\langle E^2 \\rangle - \\langle E \\rangle^2].\n",
    "$$\n",
    "\n",
    "Plot this quantity vs. the temperature (your plot might look nicer, however, if you plot the normalised expectation value of $C_V$ vs the normalised temperature: $\\langle C_V \\rangle / Nk_B$ vs. $k_BT/\\varepsilon$). Recover the plot in the top panel of FIG. 1 of the paper cited in Assignment 4.\n",
    "\n",
    "**If you feel like it**: carry out the differentiation in Eq. (15) of the paper and reproduce the bottom panel of FIG. 1."
   ]
  },
  {
   "cell_type": "code",
   "execution_count": null,
   "metadata": {},
   "outputs": [],
   "source": []
  },
  {
   "cell_type": "code",
   "execution_count": null,
   "metadata": {},
   "outputs": [],
   "source": [
    "## Your code here"
   ]
  },
  {
   "cell_type": "code",
   "execution_count": null,
   "metadata": {},
   "outputs": [],
   "source": [
    "import matplotlib.pyplot as plt\n",
    "from numpy.random import default_rng\n",
    "import numpy as np\n",
    "import torch\n",
    "\n",
    "from utils import split_data, train, MLP\n",
    "import torch.nn.functional as F\n",
    "from torch import nn\n",
    "from torch.utils.data import  DataLoader\n",
    "from IPython.display import clear_output\n",
    "import numpy as np\n",
    "import mdtraj as md"
   ]
  },
  {
   "cell_type": "code",
   "execution_count": null,
   "metadata": {},
   "outputs": [],
   "source": [
    "%load_ext autoreload\n",
    "%autoreload 2"
   ]
  },
  {
   "cell_type": "code",
   "execution_count": null,
   "metadata": {},
   "outputs": [],
   "source": [
    "# check if a GPU is available\n",
    "DEVICE = 'cuda' if torch.cuda.is_available() else 'cpu'\n",
    "DEVICE"
   ]
  },
  {
   "cell_type": "markdown",
   "metadata": {},
   "source": [
    "# Reading a torch object from an xyz"
   ]
  },
  {
   "cell_type": "code",
   "execution_count": null,
   "metadata": {},
   "outputs": [],
   "source": [
    "import torch\n",
    "import numpy as np\n",
    "\n",
    "def load_extxyz(file_path):\n",
    "    with open(file_path, \"r\") as f:\n",
    "        lines = f.readlines()\n",
    "\n",
    "    # Extract atomic positions (skip first two lines)\n",
    "    data = [line.split()[1:4] for line in lines[2:]]\n",
    "\n",
    "    # Convert to NumPy array and then to Torch tensor\n",
    "    np_data = np.array(data, dtype=np.float32)\n",
    "    tensor_data = torch.tensor(np_data)\n",
    "\n",
    "    return tensor_data\n",
    "\n",
    "clus3d = load_extxyz(\"T0.xyz\")/sigma_lammps  #rescaling to lj units\n",
    "\n",
    "\n",
    "ase_clus3d = read (\"T0.xyz\")"
   ]
  },
  {
   "cell_type": "markdown",
   "metadata": {},
   "source": [
    "## MD step function"
   ]
  },
  {
   "cell_type": "code",
   "execution_count": null,
   "metadata": {},
   "outputs": [],
   "source": [
    "def energy_lj(r: torch.tensor, epsilon: float = 1.0, sigma: float = 1.0):\n",
    "    \"\"\"Compute the Lennard-Jones energy of a system with positions r\n",
    "\n",
    "    Parameters\n",
    "    ----------\n",
    "    r: atomic configuration\n",
    "\n",
    "    sigma: LJ potential parameter sigma, defined elsewhere\n",
    "\n",
    "    epsilon: LJ potential parameter epsilon, defined elsewhere\n",
    "\n",
    "    Return\n",
    "    ------\n",
    "    ene: total LJ energy of atomic configuration\n",
    "\n",
    "    \"\"\"\n",
    "    def lj(dist, epsilon: float = 1.0, sigma: float = 1.0):\n",
    "        return 4 * epsilon * ((sigma / dist)**12 - (sigma / dist)**6)\n",
    "\n",
    "    distances = F.pdist(r)\n",
    "\n",
    "    pair_energies = torch.vmap(lj)(distances)\n",
    "    return torch.sum(pair_energies)\n",
    "\n",
    "\n",
    "\n",
    "def forces_lj(r: torch.Tensor, epsilon: float = 1.0, sigma: float = 1.0):\n",
    "    \"\"\"Compute the force of the Lennard-Jones potential of a system with positions r\n",
    "\n",
    "    Parameters\n",
    "    ----------\n",
    "    r: atomic configuration\n",
    "\n",
    "\n",
    "    sigma: LJ potential parameter sigma, defined elsewhere\n",
    "\n",
    "    epsilon: LJ potential parameter epsilon, defined elsewhere\n",
    "\n",
    "    Return\n",
    "    ------\n",
    "    f: atomic forces\n",
    "    \"\"\"\n",
    "\n",
    "    n_particles = r.shape[0]\n",
    "\n",
    "    # get vectors rij (N x N x 3)\n",
    "    rij = r[:, None, :] - r[None, :, :]  # array with all rij = rj - ri\n",
    "    # get minimum image vector\n",
    "\n",
    "    # get distance matrix (N x N)\n",
    "    dij = torch.linalg.norm(rij, axis=-1)\n",
    "    # to avoid dividing by zero, set diagonal elements dii to a small value\n",
    "    dij.fill_diagonal_(1e5)\n",
    "    # compute matrix of fij forces with fij = -dU/d|rij| * 1/|rij|, (N x N)\n",
    "    fij = (-24*epsilon/(dij**2) * ((sigma/dij)**6) * (2.0*(sigma/dij)**6 - 1.0))\n",
    "\n",
    "    # set diagonal elements fii to zero\n",
    "    fij.fill_diagonal_(0.0)\n",
    "    # initialize force array (N x N x 3)\n",
    "    fi = torch.zeros((n_particles, n_particles, 3))\n",
    "    # compute total force\n",
    "    for i in range(3):\n",
    "        fi[:, :, i] = fij * rij[:, :, i]\n",
    "\n",
    "    # compute sum over j: fi = \\sum_j fij (N x 3)\n",
    "    f = torch.sum(fi, axis=0)\n",
    "\n",
    "    return f"
   ]
  },
  {
   "cell_type": "code",
   "execution_count": null,
   "metadata": {},
   "outputs": [],
   "source": [
    "def get_forces(energy_fn, r: torch.Tensor):\n",
    "\n",
    "    \"\"\"Computes the forces acting on a configuration r for a given energy function using backpropagation.\n",
    "\n",
    "    Parameters\n",
    "    ----------\n",
    "    r: atomic configuration\n",
    "\n",
    "    energy_fn: energy function\n",
    "\n",
    "\n",
    "    Return\n",
    "    ------\n",
    "    f: atomic forces\n",
    "    \"\"\"\n",
    "\n",
    "    assert r.requires_grad == False\n",
    "\n",
    "    r.requires_grad = True\n",
    "\n",
    "    energy = energy_fn(r)\n",
    "    energy.backward()\n",
    "\n",
    "    forces = -r.grad\n",
    "    r.requires_grad = False\n",
    "    return forces"
   ]
  },
  {
   "cell_type": "code",
   "execution_count": null,
   "metadata": {},
   "outputs": [],
   "source": [
    "r_test = clus3d\n"
   ]
  },
  {
   "cell_type": "code",
   "execution_count": null,
   "metadata": {},
   "outputs": [],
   "source": [
    "energy = energy_lj(r_test)\n",
    "forces = forces_lj(r_test)"
   ]
  },
  {
   "cell_type": "code",
   "execution_count": null,
   "metadata": {},
   "outputs": [],
   "source": [
    "forces"
   ]
  },
  {
   "cell_type": "code",
   "execution_count": null,
   "metadata": {},
   "outputs": [],
   "source": [
    "get_forces(energy_lj, r_test)"
   ]
  },
  {
   "cell_type": "markdown",
   "metadata": {},
   "source": [
    "# read a trajectory"
   ]
  },
  {
   "cell_type": "code",
   "execution_count": null,
   "metadata": {},
   "outputs": [],
   "source": [
    "n_files=4\n",
    "\n",
    "temp = 20\n",
    "filename1 = f\"structure_{temp}.xyz\"\n",
    "\n",
    "temp = 30\n",
    "filename2 = f\"structure_{temp}.xyz\"\n",
    "\n",
    "temp = 5\n",
    "filename3 = f\"structure_{temp}.xyz\"\n",
    "\n",
    "temp = 15\n",
    "filename4 = f\"structure_{temp}.xyz\"\n",
    "\n",
    "traj = read(filename1,index=\"1::2\")+read(filename2,index=\"1::2\")+read(filename3,index=\"1::2\")+read(filename4,index=\"1::2\")\n",
    "\n",
    "print (f\"Trajectory for T={temp}\")\n",
    "\n",
    "for atoms in traj:\n",
    "    atoms.positions=atoms.positions/sigma_lammps\n",
    "    \n",
    "print (len(traj))\n",
    "sigma=1.0\n",
    "view_trajectory (traj)\n",
    "\n"
   ]
  },
  {
   "cell_type": "code",
   "execution_count": null,
   "metadata": {},
   "outputs": [],
   "source": [
    "sigma = 1.0\n",
    "epsilon = 1.0\n",
    "\n",
    "# now we go back to LJ units\n",
    "\n",
    "\n",
    "# Initialize a list to store tensors\n",
    "torch_tensors = []\n",
    "\n",
    "# Loop through each frame in the trajectory\n",
    "for frame in traj:\n",
    "    positions = frame.get_positions()  # Extract atomic positions\n",
    "    tensor = torch.tensor(positions, dtype=torch.float32)  # Convert to Torch tensor\n",
    "    torch_tensors.append(tensor)  # Store tensor\n",
    "\n",
    "# Example: Check the shape of the first tensor\n",
    "print(f\"First frame tensor shape: {torch_tensors[0].shape}\")  # (num_atoms, 3) for XYZ coordinates\n",
    "\n",
    "\n",
    "n_particles = len(torch_tensors[0])\n",
    "n_dimensions = 3\n",
    "print (f\"N_particles= {n_particles}\")"
   ]
  },
  {
   "cell_type": "code",
   "execution_count": null,
   "metadata": {},
   "outputs": [],
   "source": [
    "# initialize number of MD steps\n",
    "n_steps = 500000*n_files\n",
    "n_log = 1000\n",
    "\n",
    "\n",
    "\n",
    "# energies\n",
    "potential_energies = torch.empty((n_steps // n_log ,1))\n",
    "kinetic_energies = torch.empty((n_steps // n_log ,1))\n",
    "positions = torch.empty((n_steps // n_log , n_particles, n_dimensions))"
   ]
  },
  {
   "cell_type": "code",
   "execution_count": null,
   "metadata": {},
   "outputs": [],
   "source": [
    "for i,frame in enumerate(traj):\n",
    "    r_ase = frame.get_positions()\n",
    "    r = torch.tensor(r_ase, dtype=torch.float32)\n",
    "    positions [i] = r\n",
    "    potential_energies[i] = energy_lj(r)\n",
    "\n",
    "    \n",
    "print (energy_lj(r),sigma,epsilon)\n",
    "\n"
   ]
  },
  {
   "cell_type": "code",
   "execution_count": null,
   "metadata": {},
   "outputs": [],
   "source": [
    "plt.plot(positions[:,3, ]);"
   ]
  },
  {
   "cell_type": "code",
   "execution_count": null,
   "metadata": {},
   "outputs": [],
   "source": [
    "plt.plot(positions[:,6, ]);"
   ]
  },
  {
   "cell_type": "code",
   "execution_count": null,
   "metadata": {},
   "outputs": [],
   "source": [
    "plt.hist(potential_energies.flatten());"
   ]
  },
  {
   "cell_type": "code",
   "execution_count": null,
   "metadata": {},
   "outputs": [],
   "source": [
    "potential_energies.shape\n",
    "\n",
    "print (potential_energies)"
   ]
  },
  {
   "cell_type": "markdown",
   "metadata": {},
   "source": [
    "## Train net"
   ]
  },
  {
   "cell_type": "code",
   "execution_count": null,
   "metadata": {},
   "outputs": [],
   "source": [
    "type(positions)"
   ]
  },
  {
   "cell_type": "code",
   "execution_count": null,
   "metadata": {},
   "outputs": [],
   "source": [
    "features = torch.vmap(F.pdist)(positions)\n",
    "features,_ = torch.sort(features,dim=-1)\n",
    "features.shape"
   ]
  },
  {
   "cell_type": "code",
   "execution_count": null,
   "metadata": {},
   "outputs": [],
   "source": [
    "dataset_all, dataset_train, dataset_test = split_data(features, potential_energies, train_fraction=0.75,device=DEVICE)"
   ]
  },
  {
   "cell_type": "code",
   "execution_count": null,
   "metadata": {},
   "outputs": [],
   "source": [
    "dataset_train.x.shape"
   ]
  },
  {
   "cell_type": "code",
   "execution_count": null,
   "metadata": {},
   "outputs": [],
   "source": [
    "trainloader = DataLoader(dataset_train,batch_size=33,shuffle=True)"
   ]
  },
  {
   "cell_type": "code",
   "execution_count": null,
   "metadata": {},
   "outputs": [],
   "source": [
    "mlp = MLP([703,50,50,50,50,50,50,50,50,1])"
   ]
  },
  {
   "cell_type": "code",
   "execution_count": null,
   "metadata": {},
   "outputs": [],
   "source": [
    "# criterion to computes the loss between input and target\n",
    "criterion = nn.MSELoss()\n",
    "\n",
    "# optimizer that will be used to update weights and biases (learning rate 0.001)\n",
    "optim = torch.optim.Adam(mlp.parameters(),lr=1e-2)"
   ]
  },
  {
   "cell_type": "code",
   "execution_count": null,
   "metadata": {},
   "outputs": [],
   "source": [
    "losses = []"
   ]
  },
  {
   "cell_type": "code",
   "execution_count": null,
   "metadata": {},
   "outputs": [],
   "source": [
    "epochs = 500\n",
    "log_interval = 100\n",
    "for epoch in range(1, epochs + 1):\n",
    "    loss = train(mlp, trainloader,optim, criterion,DEVICE)\n",
    "\n",
    "    losses.append(loss)\n",
    "\n",
    "    if epoch % log_interval == 0:\n",
    "        print(f'Train Epoch: {epoch} Loss: {loss:.6f}')\n",
    "\n",
    "        clear_output(wait=True)\n",
    "        mydist = f\"dist {epoch}\"\n",
    "        plt.plot(losses, label=mydist)\n",
    "        plt.yscale('log')\n",
    "        plt.legend()\n",
    "        plt.show()\n",
    "    # validate(model, lossv, testloader, criterion, accv)"
   ]
  },
  {
   "cell_type": "code",
   "execution_count": null,
   "metadata": {},
   "outputs": [],
   "source": []
  },
  {
   "cell_type": "code",
   "execution_count": null,
   "metadata": {},
   "outputs": [],
   "source": [
    "# criterion to computes the loss between input and target\n",
    "criterion = nn.MSELoss()\n",
    "\n",
    "# optimizer that will be used to update weights and biases (learning rate 0.0001)\n",
    "optim = torch.optim.Adam(mlp.parameters(),lr=1e-3)"
   ]
  },
  {
   "cell_type": "code",
   "execution_count": null,
   "metadata": {},
   "outputs": [],
   "source": [
    "epochs = 2000\n",
    "log_interval = 100\n",
    "for epoch in range(1, epochs + 1):\n",
    "    loss = train(mlp, trainloader,optim, criterion,DEVICE)\n",
    "\n",
    "    losses.append(loss)\n",
    "\n",
    "    if epoch % log_interval == 0:\n",
    "        print(f'Train Epoch: {epoch} Loss: {loss:.6f}')\n",
    "\n",
    "        clear_output(wait=True)\n",
    "        mydist = f\"dist {epoch}\"\n",
    "        plt.plot(losses, label=mydist)\n",
    "        plt.yscale('log')\n",
    "        plt.legend()\n",
    "        plt.show()\n",
    "    # validate(model, lossv, testloader, criterion, accv)"
   ]
  },
  {
   "cell_type": "code",
   "execution_count": null,
   "metadata": {},
   "outputs": [],
   "source": [
    "# get predictions for training and test set\n",
    "with torch.no_grad():\n",
    "\n",
    "    # on pure data\n",
    "    y_pred =mlp(dataset_test.x)"
   ]
  },
  {
   "cell_type": "code",
   "execution_count": null,
   "metadata": {},
   "outputs": [],
   "source": [
    "plt.figure(figsize=(15,5))\n",
    "plt.scatter(y_pred,dataset_test.y, label='dist')\n",
    "plt.scatter(dataset_test.y,dataset_test.y, label='dist')\n",
    "\n",
    "plt.show()"
   ]
  },
  {
   "cell_type": "code",
   "execution_count": null,
   "metadata": {},
   "outputs": [],
   "source": [
    "from torchmetrics import MeanSquaredError"
   ]
  },
  {
   "cell_type": "code",
   "execution_count": null,
   "metadata": {},
   "outputs": [],
   "source": [
    "mse = MeanSquaredError()"
   ]
  },
  {
   "cell_type": "code",
   "execution_count": null,
   "metadata": {},
   "outputs": [],
   "source": [
    "mse(y_pred,dataset_test.y )"
   ]
  },
  {
   "cell_type": "code",
   "execution_count": null,
   "metadata": {},
   "outputs": [],
   "source": [
    "def energy_mlp(positions):\n",
    "    features,_ = torch.sort(F.pdist(positions))\n",
    "    energy = mlp(features)\n",
    "    return energy"
   ]
  },
  {
   "cell_type": "code",
   "execution_count": null,
   "metadata": {},
   "outputs": [],
   "source": [
    "positions.shape"
   ]
  },
  {
   "cell_type": "code",
   "execution_count": null,
   "metadata": {},
   "outputs": [],
   "source": [
    "with torch.no_grad():\n",
    "    pred = torch.vmap(lambda pos: energy_mlp(pos))(positions)"
   ]
  },
  {
   "cell_type": "code",
   "execution_count": null,
   "metadata": {},
   "outputs": [],
   "source": [
    "plt.scatter(pred, potential_energies)\n",
    "plt.scatter(potential_energies, potential_energies)"
   ]
  },
  {
   "cell_type": "code",
   "execution_count": null,
   "metadata": {},
   "outputs": [],
   "source": [
    "# set Boltzmann constant\n",
    "beta = 20.\n",
    "m = 1.\n",
    "\n",
    "dt = 0.00005\n",
    "\n",
    "\n",
    "\n",
    "\n",
    "def assign_MBv(n_particles, beta, m: float = 1.0):\n",
    "    \"\"\"Assign Maxwell-Boltzmann distributed velocities.\n",
    "\n",
    "    Parameters\n",
    "    ----------\n",
    "    v: velocity array\n",
    "\n",
    "    beta: 1/ (kB * T)\n",
    "\n",
    "    m: atomic mass\n",
    "\n",
    "\n",
    "    Return\n",
    "    ------\n",
    "    v:     velocity array\n",
    "\n",
    "    \"\"\"\n",
    "\n",
    "    v = torch.normal(mean=0, std=np.sqrt(1.0 / (beta * m)), size=(n_particles, 3))\n",
    "\n",
    "    return v"
   ]
  },
  {
   "cell_type": "code",
   "execution_count": null,
   "metadata": {},
   "outputs": [],
   "source": [
    "r = torch.clone(positions[267])\n",
    "# r.requires_grad = True\n",
    "# assign new velocities\n",
    "\n",
    "print (energy_lj(r))\n",
    "v = assign_MBv(n_particles, beta, m)\n",
    "f = get_forces(energy_mlp, r)\n",
    "\n",
    "\n",
    "\n"
   ]
  },
  {
   "cell_type": "code",
   "execution_count": null,
   "metadata": {},
   "outputs": [],
   "source": [
    "# initialize number of MD steps\n",
    "n_steps = 20000\n",
    "\n",
    "\n",
    "\n",
    "n_log = 25\n",
    "\n",
    "# energies\n",
    "energies_mlp = torch.empty((n_steps // n_log,1))\n",
    "energies_mlp_lj = torch.empty((n_steps // n_log,1))\n",
    "kinetic_energies_mlp = torch.empty((n_steps // n_log,1))\n",
    "positions_mlp = torch.empty((n_steps // n_log, n_particles, n_dimensions))"
   ]
  },
  {
   "cell_type": "code",
   "execution_count": null,
   "metadata": {},
   "outputs": [],
   "source": [
    "# MD step\n",
    "rng = default_rng(23)\n",
    "\n",
    "# compute kinetic energy\n",
    "def e_kin(v, m=1.0):\n",
    "    ekin =  torch.sum(0.5*m*v*v)\n",
    "    return ekin\n",
    "\n",
    "\n",
    "def verlet_step_fast(\n",
    "    r: torch.tensor,\n",
    "    v: torch.tensor,\n",
    "    f: torch.tensor,\n",
    "    energy_fn: callable,\n",
    "    dt: float,\n",
    "    m: float = 1.0,\n",
    "):\n",
    "    \"\"\"velocity Verlet step\n",
    "\n",
    "    Parameters\n",
    "    ----------\n",
    "    r: positions\n",
    "\n",
    "    v: velocities\n",
    "\n",
    "    f: forces\n",
    "\n",
    "    dt: time step\n",
    "\n",
    "    m: mass\n",
    "\n",
    "    energy_fn: energy function\n",
    "\n",
    "    Return\n",
    "    ------\n",
    "    r: updated position\n",
    "\n",
    "    v: updated velocities\n",
    "\n",
    "    f: updated forces\n",
    "\n",
    "\n",
    "    \"\"\"\n",
    "    # Remove center of mass motion\n",
    "    com = torch.mean(v, axis=0)\n",
    "    v -= com\n",
    "\n",
    "    # update velocity 1/2 step\n",
    "    v += 0.5 * f / m * dt\n",
    "\n",
    "    # update positions\n",
    "    r = r + v * dt\n",
    "\n",
    "    f = get_forces(energy_fn, r)\n",
    "\n",
    "    # update velocity 1/2 step\n",
    "    v += 0.5 * f / m * dt\n",
    "\n",
    "    return r, v, f"
   ]
  },
  {
   "cell_type": "code",
   "execution_count": null,
   "metadata": {},
   "outputs": [],
   "source": [
    "get_forces(energy_lj,r)"
   ]
  },
  {
   "cell_type": "code",
   "execution_count": null,
   "metadata": {},
   "outputs": [],
   "source": [
    "\n",
    "\n",
    "# run velocity Verlet\n",
    "for i in range(n_steps):\n",
    "    if i % n_log == 0:\n",
    "        print (i)\n",
    "        positions_mlp[i // n_log] = r\n",
    "        with torch.no_grad():\n",
    "            energies_mlp[i// n_log] = energy_mlp(r)\n",
    "            energies_mlp_lj[i// n_log] = energy_lj(r)\n",
    "            kinetic_energies_mlp[i// n_log] = e_kin(v,m)\n",
    "\n",
    "    r, v, f = verlet_step_fast(r, v, f,energy_mlp, dt, m)\n",
    "#    r, v, f = verlet_step_fast(r, v, f,energy_lj, dt, m)\n"
   ]
  },
  {
   "cell_type": "code",
   "execution_count": null,
   "metadata": {},
   "outputs": [],
   "source": [
    "plt.hist(energies_mlp.detach().numpy(), density=True, alpha=.5)\n",
    "plt.hist(energies_mlp_lj.detach().numpy(), density=True, alpha=.5)\n",
    "#plt.hist(potential_energies.detach().numpy(), density=True, alpha=.5);"
   ]
  },
  {
   "cell_type": "code",
   "execution_count": null,
   "metadata": {},
   "outputs": [],
   "source": [
    "plt.plot(energies_mlp)"
   ]
  },
  {
   "cell_type": "code",
   "execution_count": null,
   "metadata": {},
   "outputs": [],
   "source": [
    "plt.plot(energies_mlp_lj)"
   ]
  },
  {
   "cell_type": "code",
   "execution_count": null,
   "metadata": {},
   "outputs": [],
   "source": [
    "from ase.io import Trajectory\n",
    "atoms = ase_clus3d\n",
    "atoms.set_positions(atoms.get_positions()/sigma_lammps)\n",
    "trajectory = Trajectory(\"output.traj\",\"w\")\n",
    "\n",
    "for position_tensor in positions_mlp:\n",
    "    atoms.set_positions(position_tensor.numpy())\n",
    "    trajectory.write(atoms)\n",
    "\"\"\"\n",
    "    # Compute **pairwise distances** using `torch.cdist`\n",
    "\n",
    "    distances = torch.cdist(position_tensor, position_tensor)  # Shape (N, N)\n",
    "\n",
    "    # Extract **upper triangular distances** (to avoid duplicate pairs & self-distances)\n",
    "    i, j = torch.triu_indices(*distances.shape, offset=1)  # Get indices of upper triangle\n",
    "    pairwise_distances = distances[i, j]\n",
    "\n",
    "    # Plot histogram of distances\n",
    "    plt.hist(pairwise_distances.numpy(), bins=10, edgecolor=\"black\")\n",
    "\n",
    "    # Labels\n",
    "    plt.xlabel(\"Pairwise Distance\")\n",
    "    plt.ylabel(\"Frequency\")\n",
    "    plt.title(\"Histogram of Pairwise Distances\")\n",
    "\n",
    "    # Show plot\n",
    "    plt.show()\"\"\"\n",
    "\n",
    "distances = torch.cdist(position_tensor, position_tensor)  # Shape (N, N)\n",
    "\n",
    "# Extract **upper triangular distances** (to avoid duplicate pairs & self-distances)\n",
    "i, j = torch.triu_indices(*distances.shape, offset=1)  # Get indices of upper triangle\n",
    "pairwise_distances = distances[i, j]\n",
    "\n",
    "# Plot histogram of distances\n",
    "plt.hist(pairwise_distances.numpy(), bins=10, edgecolor=\"black\")\n",
    "\n",
    "# Labels\n",
    "plt.xlabel(\"Pairwise Distance\")\n",
    "plt.ylabel(\"Frequency\")\n",
    "plt.title(\"Histogram of Pairwise Distances\")\n",
    "\n",
    "# Show plot\n",
    "plt.show()\n"
   ]
  },
  {
   "cell_type": "code",
   "execution_count": null,
   "metadata": {},
   "outputs": [],
   "source": [
    "\n",
    "traj = read(\"output.traj\",index=\":\")"
   ]
  },
  {
   "cell_type": "code",
   "execution_count": null,
   "metadata": {},
   "outputs": [],
   "source": [
    "view_trajectory(traj)"
   ]
  },
  {
   "cell_type": "code",
   "execution_count": null,
   "metadata": {},
   "outputs": [],
   "source": [
    "trajectory = traj\n",
    "q4_values = QL(4,trajectory)\n",
    "# Plot Q4 along the trajectory\n",
    "plt.plot(q4_values, marker=\"o\")\n",
    "plt.xlabel(\"Frame Index\")\n",
    "plt.ylabel(\"Q4 Value\")\n",
    "title = f\"Q4 Structural Parameter, 1/T = {beta}\"\n",
    "plt.title(title)\n",
    "plt.show()\n",
    "\n",
    "q6_values = QL(6,trajectory)\n",
    "# Plot Q4 along the trajectory\n",
    "plt.plot(q6_values, marker=\"o\")\n",
    "plt.xlabel(\"Frame Index\")\n",
    "plt.ylabel(\"Q6 Value\")\n",
    "title = f\"Q6 Structural Parameter, 1/T = {beta}\"\n",
    "plt.title(title)\n",
    "plt.show()"
   ]
  },
  {
   "cell_type": "code",
   "execution_count": null,
   "metadata": {},
   "outputs": [],
   "source": []
  },
  {
   "cell_type": "code",
   "execution_count": null,
   "metadata": {},
   "outputs": [],
   "source": []
  }
 ],
 "metadata": {
  "kernelspec": {
   "display_name": "Python 3 (ipykernel)",
   "language": "python",
   "name": "python3"
  },
  "language_info": {
   "codemirror_mode": {
    "name": "ipython",
    "version": 3
   },
   "file_extension": ".py",
   "mimetype": "text/x-python",
   "name": "python",
   "nbconvert_exporter": "python",
   "pygments_lexer": "ipython3",
   "version": "3.9.13"
  }
 },
 "nbformat": 4,
 "nbformat_minor": 4
}
