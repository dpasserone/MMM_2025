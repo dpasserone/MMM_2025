{
 "cells": [
  {
   "cell_type": "markdown",
   "id": "8a2a98af",
   "metadata": {},
   "source": [
    "# -- Exercise 1: Determination of atomization energy of a small molecule and nanotube molecular dynamics -- #\n",
    "## 0. Introduction to the course\n",
    "\n",
    "Welcome to Molecular and Materials Modelling in the Spring Semester 2024 at the ETH\n",
    "Zürich. This interdisciplinary course will explore many facets of computational physics and\n",
    "materials science using classical, semi-classical, and quantum-mechanical methodologies.\n",
    "In this course, we will gain:\n",
    "\n",
    "- the ability to select a suitable atomistic approach to model a nanoscale system,\n",
    "and to employ a simulation package to compute quantities, thereby providing a\n",
    "theoretically-sound explanation of the results of a given experiment;\n",
    "\n",
    "- knowledge of empirical force fields and insight into electronic structure theory, with\n",
    "emphasis on density-functional theory\n",
    "\n",
    "- proficiency in experiments performed in silico. We will interpret the experimental in-\n",
    "put, choose the level of theory, model the approximations, perform calculations on a\n",
    "supercomputer, and finally collect and represent the results using Juypter notebooks\n",
    "and Python scripting.\n",
    "\n",
    "### 0.1. Course structure\n",
    "\n",
    "The meeting times and places of this course are as follows:\n",
    "\n",
    "- Semester: Spring Semester 2024\n",
    "- Wednesdays: lecture from 8.15 - 10.00;\n",
    "- Credit points: 6 LP (dt. *Leistungspunkte*)\n",
    "- Meeting place: ETZ E9 in ETH Zentrum\n",
    "- Final grade: The final grade will be the result of a 30 minutes individual oral exam\n",
    "on the course topics (50%) and the cumulative grade about exercises assigned after\n",
    "each exercise appointment (50%). The students will receive a small computational\n",
    "exercise about the topics treated in the class, that could be solved within different\n",
    "programming environments (we provide python based Jupyter notebooks) and if\n",
    "necessary high performance computing resources. A short report and/or answer to\n",
    "a few questions will be delivered at the next lecture appointment. At the end of the\n",
    "oral exam, the solutions will be briefly discussed and a grade will be given which\n",
    "will take into account the commitment and the quality of the solutions/report, as\n",
    "well as the discussion on them at the exam.\n",
    "\n",
    "### 0.2. Course content\n",
    "\n",
    "The lectures and accompanying exercises will be divided as described in the theory part. \n",
    "\n",
    "### 0.3. Assignments structure\n",
    "\n",
    "Assignments are designed to allow the students to apply the content of the lecture in a\n",
    "hands-on setting. As such, they constitute an integral aspect of the course – a fact reflected\n",
    "in their weighting of 50% of the final grade.\n",
    "\n",
    "**For organizational reasons, after downloading the exercise from the Terminal of the aiidalab environment, copy the exercise-1-workbook.ipynb INTO studentname_exercise-1-workbook.ipynb AND WORK ON THE LATTER FILE. In this way, any further \"pull\" from the git will not delete your efforts **\n",
    "\n",
    "Assignments are to be completed within the Jupyter notebook itself, **within the\n",
    "respective fields in which they appear** in the exercise-i-workbook_studentname.ipynb file. For\n",
    "answers which are to be written in text (an explanation or elucidation of a phenomenon,\n",
    "for instance), the cell should be in the markdown format. For answers involving bash\n",
    "scripting (or really any coding environment), the `<code></code>` environment within the markdown format should suffice.\n",
    "Standard Python code can be written directly in the cell. All assignments, which are to\n",
    "be submitted for grading, will appear in a box such as this:"
   ]
  },
  {
   "cell_type": "markdown",
   "id": "4b10af93",
   "metadata": {},
   "source": [
    "#### Assignment 1: Playing with Markdown and Latex"
   ]
  },
  {
   "cell_type": "markdown",
   "id": "72336a28",
   "metadata": {},
   "source": [
    "In this course, we will be making ample use of both Markdown and Python within a Jupyter Notebook. In order to familiarise ourselves with some of the syntax, here are some introductory tasks to practice different modes of syntax:\n",
    "1. Sometimes we will want to highlight words or phrases by means of bold or italicised text. Write something in bold, something in italicised, and then something in bold and italicised text.\n",
    "2. Formatting and appearance are important. Typeset \"import matplotlib.pyplot as plt\" here in Markdown using the monospaced slab serif typeface, so that it 'looks' more like code.\n",
    "3. Write the time-dependent 3D Schrödinger Equation (so, using the del-operator) in SI-units (so, with all the physical constants) for some arbitrary wavefunction $\\psi(\\vec{x})$ and some arbitrary potential $V(x)$ for $x := |\\vec{x}|$. If you don't know the Schrödinger Equation by heart, just Google it."
   ]
  },
  {
   "cell_type": "markdown",
   "id": "1df2702f",
   "metadata": {},
   "source": [
    "#### End Assignment 1\n",
    "\n",
    "..., and should furthermore fulfill **all** of the following criteria:\n",
    "\n",
    "- Assignments shall be submitted **on or before 18.00h of the following Sunday**\n",
    "to `daniele.passerone@empa.ch` giving the link to a polybox or a git **folder** with the submission;\n",
    "- Assignments should be submitted as **folders** containing all necessary files to ensure their proper opening, including but not limited to generated image and text files. *Please do not include the wavefunction `.wfn` files in the submitted folder, as these files are quite large*.\n",
    "- The Jupyter notebooks themselves should follow the format: studentname_exercise-i-workbook.ipynb, where i of\n",
    "course denotes the exercise / week number;\n",
    "- Assignments should be sensibly worked out, even if the submitted solution is incor-\n",
    "rect. **If, after having attempted the solution, and after Googling around\n",
    "for help, you are still unable to arrive at a working answer, please explain\n",
    "what you tried and what you searched for in your submission**, and, if\n",
    "necessary, what logic you applied and where you got stuck. Standstills are\n",
    "all too common in original research, for which reason you will still get credit for\n",
    "the exercise for a reasonably thorough explanation.\n",
    "\n",
    "If all of this seems a bit overwhelming, don’t worry – we’ll cover everything in this\n",
    "course, and Daniele Passerone, and Carlo Pignedoli are of course\n",
    "reachable by email. Solutions will then be posted by the following Monday.\n",
    "\n",
    "### 0.3. The *compendium scriptorum*\n",
    "\n",
    "Over the course of the semester, we will be using several bash scripts to automate certain\n",
    "tasks or extract data. Scripts which are to be added to this compendium scriptorum will\n",
    "be enclosed in the following box:\n",
    "\n",
    "```\n",
    "#!/bin/bash\n",
    "##--SCRIPT TO BE ADDED--##\n",
    "```"
   ]
  },
  {
   "cell_type": "markdown",
   "id": "de0e5c62",
   "metadata": {},
   "source": [
    "## 1 The Atomic Simulation Environment"
   ]
  },
  {
   "cell_type": "markdown",
   "id": "0db7bbb5",
   "metadata": {},
   "source": [
    "### 1.2 The atomization energy of a acetylene molecule\n",
    "\n",
    "We begin toying around with the Atomic Simulation Environment (ASE) by investigating\n",
    "some basic properties of materials: in the current exercise, we first want to use ASE to\n",
    "calculate the **atomization energy** of a nitrogen molecule. The atomization energy,\n",
    "or more precisely, the **enthalpy of atomization**, is defined as the change in enthalpy\n",
    "$∆_{at}H$ when the bonds of a compound are broken, and the component atoms are thereby\n",
    "separated into individual atoms. We therefore arrive at the following definition: $$∆_{at}H=-(E_{N_2} - 2E_N), $$\n",
    "where $E_{N_2}$ and $E_N$ represent the energy of the $N_2$ molecule and that of the single N atom, respectively. \n",
    "We will apply the same concept to a polyatomic molecule."
   ]
  },
  {
   "cell_type": "markdown",
   "id": "0416beb6",
   "metadata": {},
   "source": [
    "#### Assignment 2: Atomization energy\n",
    "Why must the atomization energy always be positive?\n",
    "<br> A:"
   ]
  },
  {
   "cell_type": "code",
   "execution_count": 1,
   "id": "b1a3110f",
   "metadata": {},
   "outputs": [
    {
     "data": {
      "application/vnd.jupyter.widget-view+json": {
       "model_id": "bace5033e7a5489d918f51dcaf6d2e00",
       "version_major": 2,
       "version_minor": 0
      },
      "text/plain": []
     },
     "metadata": {},
     "output_type": "display_data"
    }
   ],
   "source": [
    "from ase import Atoms\n",
    "from ase.optimize import BFGS\n",
    "from ase.calculators.emt import EMT\n",
    "import nglview as nv\n",
    "import numpy as np"
   ]
  },
  {
   "cell_type": "markdown",
   "id": "e75ab885",
   "metadata": {},
   "source": [
    "Atoms objects containing the atoms are created and a fast EMT – effective\n",
    "medium theory – calculator is attached to it simply as an argument. In ASE, a calculator\n",
    "is a sort of ”black box” which can take atomic numbers and atomic positions from an Atoms\n",
    "object and calculate the energy, forces, and (sometimes) stresses. In order to calculate\n",
    "forrces and energies, we need to attach a calculator to an Atoms object. The total energy\n",
    "for the isolated atoms is then calculated and stored in the e_atom variable.\n",
    "In the following cell we define the atom species as well as the atomic coordinates of\n",
    "the acetylene molecule,"
   ]
  },
  {
   "cell_type": "code",
   "execution_count": 2,
   "id": "05394dae",
   "metadata": {},
   "outputs": [],
   "source": [
    "atom = Atoms('C')\n",
    "atom.calc = EMT()\n",
    "e_atom_c = atom.get_potential_energy()\n",
    "atom = Atoms('H')\n",
    "atom.calc = EMT()\n",
    "e_atom_h = atom.get_potential_energy()"
   ]
  },
  {
   "cell_type": "markdown",
   "id": "5d8313e4",
   "metadata": {},
   "source": [
    "In the following cell we define the atom species as well as the atomic coordinates of\n",
    "the acetylene molecule, **optimize the molecule** using the BFGS algorithm and then calculate the atomization energy according to the equation above:"
   ]
  },
  {
   "cell_type": "code",
   "execution_count": 15,
   "id": "400c5772",
   "metadata": {},
   "outputs": [
    {
     "name": "stdout",
     "output_type": "stream",
     "text": [
      "\n",
      "Positions at the beginning\n",
      "\n",
      "[[ 0.     0.    -1.06 ]\n",
      " [ 0.     0.     0.   ]\n",
      " [ 0.     0.     1.203]\n",
      " [ 0.     0.     2.263]]\n",
      "\n",
      " Doing potential optimization\n",
      "\n",
      "      Step     Time          Energy         fmax\n",
      "BFGS:    0 23:25:18        1.741414        5.9894\n",
      "BFGS:    1 23:25:18        0.977453        0.9330\n",
      "BFGS:    2 23:25:18        0.962058        0.2159\n",
      "BFGS:    3 23:25:18        0.960718        0.1845\n",
      "BFGS:    4 23:25:18        0.958395        0.0194\n",
      "\n",
      "Positions at the end\n",
      "\n",
      "[[ 0.      -0.      -1.09691]\n",
      " [-0.      -0.       0.10675]\n",
      " [ 0.       0.       1.09625]\n",
      " [ 0.      -0.       2.29991]]\n",
      "initial, final energy  1.74141387912011 0.9583950776390268\n"
     ]
    },
    {
     "data": {
      "application/vnd.jupyter.widget-view+json": {
       "model_id": "c9e5079e16e7488c8cad40a99f240ba5",
       "version_major": 2,
       "version_minor": 0
      },
      "text/plain": [
       "NGLWidget()"
      ]
     },
     "metadata": {},
     "output_type": "display_data"
    },
    {
     "data": {
      "application/vnd.jupyter.widget-view+json": {
       "model_id": "51590e22a8664002872fbd5f366e9c15",
       "version_major": 2,
       "version_minor": 0
      },
      "text/plain": [
       "Tab(children=(Box(children=(Box(children=(Box(children=(Label(value='step'), IntSlider(value=1, min=-100)), la…"
      ]
     },
     "metadata": {},
     "output_type": "display_data"
    }
   ],
   "source": [
    "d = 1.203\n",
    "dh = 1.06\n",
    "molecule = Atoms('HCCH', [(0., 0., -dh), (0., 0., 0.), (0., 0., d), (0., 0., d+dh)])\n",
    "molecule.calc = EMT()\n",
    "e_molecule_0 = molecule.get_potential_energy()\n",
    "molecule_0 = molecule\n",
    "print (\"\\nPositions at the beginning\\n\")\n",
    "print (molecule.get_positions())\n",
    "print (\"\\n Doing potential optimization\\n\")\n",
    "dyn = BFGS(molecule)\n",
    "dyn.run(fmax=0.05)\n",
    "\n",
    "print (\"\\nPositions at the end\\n\")\n",
    "print (np.round(molecule.get_positions(),decimals = 5))\n",
    "e_molecule = molecule.get_potential_energy()\n",
    "\n",
    "print (\"initial, final energy \",e_molecule_0,e_molecule)\n",
    "view_structure(molecule_0)\n",
    "\n"
   ]
  },
  {
   "cell_type": "markdown",
   "id": "337790b2",
   "metadata": {},
   "source": [
    "We can view the structure:"
   ]
  },
  {
   "cell_type": "code",
   "execution_count": 4,
   "id": "bbf238b5",
   "metadata": {},
   "outputs": [],
   "source": [
    "def view_structure(structure):\n",
    "    \"\"\"\n",
    "    Use the ASE library to view an atoms object.\n",
    "\n",
    "    Parameters\n",
    "    ----------\n",
    "\n",
    "    structure: Atoms object\n",
    "\n",
    "    Returns\n",
    "    -------\n",
    "\n",
    "    NGLWidget with GUI: object to be viewed\n",
    "    \n",
    "    \"\"\"\n",
    "    #t1=make_supercell(structure,[[3,0,0],[0,3,0],[0,0,3]])\n",
    "    t = nv.ASEStructure(structure)\n",
    "    w = nv.NGLWidget(t, gui=True)\n",
    "    w.add_unitcell()\n",
    "    w.add_spacefill()\n",
    "    return w\n",
    "\n",
    "def view_trajectory(trajectory):\n",
    "    t2 = nv.ASETrajectory(trajectory)\n",
    "    w2 = nv.NGLWidget(t2, gui=True)\n",
    "    #w2.add_unitcell()\n",
    "    w2.add_spacefill()\n",
    "    return w2"
   ]
  },
  {
   "cell_type": "code",
   "execution_count": 5,
   "id": "b4649401",
   "metadata": {
    "scrolled": true
   },
   "outputs": [
    {
     "data": {
      "application/vnd.jupyter.widget-view+json": {
       "model_id": "b16becefffa24056be04a0c36bd70ca0",
       "version_major": 2,
       "version_minor": 0
      },
      "text/plain": [
       "NGLWidget()"
      ]
     },
     "metadata": {},
     "output_type": "display_data"
    },
    {
     "data": {
      "application/vnd.jupyter.widget-view+json": {
       "model_id": "18857225a9d64b53b468ba3ca3dc503b",
       "version_major": 2,
       "version_minor": 0
      },
      "text/plain": [
       "Tab(children=(Box(children=(Box(children=(Box(children=(Label(value='step'), IntSlider(value=1, min=-100)), la…"
      ]
     },
     "metadata": {},
     "output_type": "display_data"
    }
   ],
   "source": [
    "view_structure(molecule)"
   ]
  },
  {
   "cell_type": "markdown",
   "id": "a713bfe1",
   "metadata": {},
   "source": [
    "and then calculate the atomization energy according to Eq. 1.2:"
   ]
  },
  {
   "cell_type": "code",
   "execution_count": 6,
   "id": "178c6619",
   "metadata": {},
   "outputs": [],
   "source": [
    "e_atomization = e_molecule - 2 * e_atom_c - 2*e_atom_h"
   ]
  },
  {
   "cell_type": "markdown",
   "id": "65907ef8",
   "metadata": {},
   "source": [
    "Running the last cell in this section generates the output we want:"
   ]
  },
  {
   "cell_type": "code",
   "execution_count": 7,
   "id": "eb1297dc",
   "metadata": {},
   "outputs": [
    {
     "name": "stdout",
     "output_type": "stream",
     "text": [
      "Carbon atom energy:  3.50 eV\n",
      "Hydrogen atom energy:  3.21 eV\n",
      "C2H2 molecule energy:  0.96 eV\n",
      "Atomization energy: 12.46 eV\n"
     ]
    }
   ],
   "source": [
    "print('Carbon atom energy: %5.2f eV' % e_atom_c)\n",
    "print('Hydrogen atom energy: %5.2f eV' % e_atom_h)\n",
    "print('C2H2 molecule energy: %5.2f eV' % e_molecule)\n",
    "print('Atomization energy: %5.2f eV' % -e_atomization)\n"
   ]
  },
  {
   "cell_type": "markdown",
   "id": "c46e0c4b",
   "metadata": {},
   "source": [
    "## 2 LAMMPS: carbon nanotube molecular dynamics"
   ]
  },
  {
   "cell_type": "markdown",
   "id": "8ff16aa1",
   "metadata": {},
   "source": [
    "### 2.1 Running lammps\n",
    "\n",
    "We go to the folder Exercise_1, and we observe the file \n",
    "<code>inputC.lammps</code>. This is the input file for the molecular dynamics code lammps, that allows running several kinds of computer experiments. A MD run to heat a carbon nanotube will be tested. A thermostat (see a next lecture) will be used to gradually increase the temperature of the system to 1000 K. The potential used is of the family of the Tersoff potential (bond order), suitable for allotropes of carbon. \n",
    "The input structure can be inspected with the internal viewer or the viewer **vmd** (to be installed on the local machine). \n",
    "\n"
   ]
  },
  {
   "cell_type": "code",
   "execution_count": 8,
   "id": "e8f33a4e",
   "metadata": {},
   "outputs": [
    {
     "name": "stdout",
     "output_type": "stream",
     "text": [
      "1.4183065739948464\n"
     ]
    },
    {
     "data": {
      "application/vnd.jupyter.widget-view+json": {
       "model_id": "bc39b6995a4e44e186ec43acff2cd85f",
       "version_major": 2,
       "version_minor": 0
      },
      "text/plain": [
       "NGLWidget()"
      ]
     },
     "metadata": {},
     "output_type": "display_data"
    },
    {
     "data": {
      "application/vnd.jupyter.widget-view+json": {
       "model_id": "35fb3dc54fe64791b72e9b5c639677a5",
       "version_major": 2,
       "version_minor": 0
      },
      "text/plain": [
       "Tab(children=(Box(children=(Box(children=(Box(children=(Label(value='step'), IntSlider(value=1, min=-100)), la…"
      ]
     },
     "metadata": {},
     "output_type": "display_data"
    }
   ],
   "source": [
    "\n",
    "from ase import Atom,Atoms\n",
    "from ase.io import read, lammpsdata\n",
    "from ase.visualize import view\n",
    "\n",
    "import matplotlib.pyplot as plt\n",
    "\n",
    "\n",
    "data_cnt = read (\"cnt_C.data\",format=\"lammps-data\",style=\"molecular\")\n",
    "\n",
    "\n",
    "nat = len(data_cnt)\n",
    "carbons = np.empty(nat); carbons.fill(6)\n",
    "data_cnt.set_atomic_numbers(carbons) #transforming into carbons for the visualization\n",
    "\n",
    "print (data_cnt.get_distance(1,2)) #check first neighbor distance\n",
    "view_structure(data_cnt)\n",
    "\n",
    "\n"
   ]
  },
  {
   "cell_type": "markdown",
   "id": "09e751ab",
   "metadata": {},
   "source": [
    "We run the simulation giving the command (in the terminal)\n",
    "<code>lmp_serial -in inputC.lammps</code>\n",
    "\n",
    "We can now load the resulting trajectory and observe it here. "
   ]
  },
  {
   "cell_type": "code",
   "execution_count": 9,
   "id": "2e99d970",
   "metadata": {},
   "outputs": [
    {
     "name": "stdout",
     "output_type": "stream",
     "text": [
      "<class 'ase.atoms.Atoms'>\n"
     ]
    },
    {
     "data": {
      "application/vnd.jupyter.widget-view+json": {
       "model_id": "fd93ccaf25d14636aa8802c1524898ec",
       "version_major": 2,
       "version_minor": 0
      },
      "text/plain": [
       "NGLWidget(max_frame=300)"
      ]
     },
     "metadata": {},
     "output_type": "display_data"
    },
    {
     "data": {
      "application/vnd.jupyter.widget-view+json": {
       "model_id": "79097744fc244184a76eaee51547b25a",
       "version_major": 2,
       "version_minor": 0
      },
      "text/plain": [
       "Tab(children=(Box(children=(Box(children=(Box(children=(Label(value='step'), IntSlider(value=1, min=-100)), la…"
      ]
     },
     "metadata": {},
     "output_type": "display_data"
    }
   ],
   "source": [
    "traj_cnt = read(\"dumpC.lammpstrj\",\":\")\n",
    "\n",
    "print (type(data_cnt))\n",
    "\n",
    "for atoms in traj_cnt:\n",
    "    atoms.set_atomic_numbers(carbons)\n",
    "    #print (atoms.get_distance(2,3))\n",
    "\n",
    "\n",
    "view_trajectory(traj_cnt)\n"
   ]
  },
  {
   "cell_type": "markdown",
   "id": "12c9a85b",
   "metadata": {},
   "source": [
    "\n",
    "\n",
    "#### Assignment 2: Observations\n",
    "What do you observe by looking at the trajectory?"
   ]
  },
  {
   "cell_type": "markdown",
   "id": "038a6d1a",
   "metadata": {},
   "source": [
    "### 2.1 Running a copper nanotube\n",
    "\n",
    "We now look at the file <code>cnt_cu.data</code> that will be read by the file <code>inputCu.lammps</code> using this time the embedded atom model for metals. The coordinates of the nanotube have been rescaled to have a bond distance suitable to Cu.\n",
    "\n"
   ]
  },
  {
   "cell_type": "code",
   "execution_count": 13,
   "id": "d9731852",
   "metadata": {},
   "outputs": [
    {
     "name": "stdout",
     "output_type": "stream",
     "text": [
      "2.532735408012453\n"
     ]
    },
    {
     "data": {
      "application/vnd.jupyter.widget-view+json": {
       "model_id": "92d6b6a9ea5a430a8da1c60d1a3bc814",
       "version_major": 2,
       "version_minor": 0
      },
      "text/plain": [
       "NGLWidget()"
      ]
     },
     "metadata": {},
     "output_type": "display_data"
    },
    {
     "data": {
      "application/vnd.jupyter.widget-view+json": {
       "model_id": "08f211a2781f4d39a6ed5f8d8475f26b",
       "version_major": 2,
       "version_minor": 0
      },
      "text/plain": [
       "Tab(children=(Box(children=(Box(children=(Box(children=(Label(value='step'), IntSlider(value=1, min=-100)), la…"
      ]
     },
     "metadata": {},
     "output_type": "display_data"
    }
   ],
   "source": [
    "data_cnt = read (\"cnt_cu.data\",format=\"lammps-data\",style=\"molecular\")\n",
    "\n",
    "\n",
    "nat = len(data_cnt)\n",
    "copper = np.empty(nat); copper.fill(29)\n",
    "data_cnt.set_atomic_numbers(copper) #transforming into copper for the visualization\n",
    "print (data_cnt.get_distance(1,2)) #check first neighbor distance\n",
    "view_structure(data_cnt)\n",
    "\n"
   ]
  },
  {
   "cell_type": "markdown",
   "id": "e838360c",
   "metadata": {},
   "source": [
    "Now we run lammps again, for heating (much less than before) the system (see in the input file)\n",
    "\n",
    "<code>lmp_serial -in inputCu.lammps</code>.\n",
    "We visualize again:\n"
   ]
  },
  {
   "cell_type": "code",
   "execution_count": 14,
   "id": "b3a7458c",
   "metadata": {},
   "outputs": [
    {
     "name": "stdout",
     "output_type": "stream",
     "text": [
      "<class 'ase.atoms.Atoms'>\n"
     ]
    },
    {
     "data": {
      "application/vnd.jupyter.widget-view+json": {
       "model_id": "60eda00e09aa4cd1a67c99ee9f409f94",
       "version_major": 2,
       "version_minor": 0
      },
      "text/plain": [
       "NGLWidget(max_frame=300)"
      ]
     },
     "metadata": {},
     "output_type": "display_data"
    },
    {
     "data": {
      "application/vnd.jupyter.widget-view+json": {
       "model_id": "cf1a603d15e545318cb65108713910ea",
       "version_major": 2,
       "version_minor": 0
      },
      "text/plain": [
       "Tab(children=(Box(children=(Box(children=(Box(children=(Label(value='step'), IntSlider(value=1, min=-100)), la…"
      ]
     },
     "metadata": {},
     "output_type": "display_data"
    }
   ],
   "source": [
    "traj_cnt = read(\"dumpCu.lammpstrj\",\":\")\n",
    "\n",
    "print (type(data_cnt))\n",
    "\n",
    "for atoms in traj_cnt:\n",
    "    atoms.set_atomic_numbers(copper)\n",
    "    #print (atoms.get_distance(2,3))\n",
    "\n",
    "\n",
    "view_trajectory(traj_cnt)\n"
   ]
  },
  {
   "cell_type": "markdown",
   "id": "06cdb6d0",
   "metadata": {},
   "source": [
    "\n",
    "\n",
    "#### Assignment 3: Observations\n",
    "What do you observe by looking at the trajectory this time?"
   ]
  },
  {
   "cell_type": "code",
   "execution_count": null,
   "id": "8f258323",
   "metadata": {},
   "outputs": [],
   "source": []
  },
  {
   "cell_type": "code",
   "execution_count": null,
   "id": "72e6bba3",
   "metadata": {},
   "outputs": [],
   "source": []
  },
  {
   "cell_type": "code",
   "execution_count": null,
   "id": "1aa4a3b2",
   "metadata": {},
   "outputs": [],
   "source": []
  },
  {
   "cell_type": "code",
   "execution_count": null,
   "id": "5b6bee62",
   "metadata": {},
   "outputs": [],
   "source": []
  }
 ],
 "metadata": {
  "kernelspec": {
   "display_name": "Python 3 (ipykernel)",
   "language": "python",
   "name": "python3"
  },
  "language_info": {
   "codemirror_mode": {
    "name": "ipython",
    "version": 3
   },
   "file_extension": ".py",
   "mimetype": "text/x-python",
   "name": "python",
   "nbconvert_exporter": "python",
   "pygments_lexer": "ipython3",
   "version": "3.9.13"
  },
  "vscode": {
   "interpreter": {
    "hash": "783d7c8e9042dd68e9add47c0b718632a846e28849c908d45a1167fba6f8c7d5"
   }
  }
 },
 "nbformat": 4,
 "nbformat_minor": 5
}
