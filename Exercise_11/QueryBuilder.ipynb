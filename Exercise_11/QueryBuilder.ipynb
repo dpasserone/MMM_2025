{
 "cells": [
  {
   "cell_type": "code",
   "execution_count": 1,
   "id": "6d14c017",
   "metadata": {},
   "outputs": [
    {
     "data": {
      "application/json": {
       "current_state": "Loaded AiiDA DB environment - profile name: default."
      },
      "text/html": [
       "<p>Loaded AiiDA DB environment - profile name: default.</p>"
      ],
      "text/latex": [
       "Loaded AiiDA DB environment - profile name: default.\n"
      ],
      "text/plain": [
       "Loaded AiiDA DB environment - profile name: default.\n"
      ]
     },
     "execution_count": 1,
     "metadata": {},
     "output_type": "execute_result"
    }
   ],
   "source": [
    "%load_ext aiida\n",
    "%aiida"
   ]
  },
  {
   "cell_type": "code",
   "execution_count": 2,
   "id": "bf5b9e0b",
   "metadata": {},
   "outputs": [],
   "source": [
    "import datetime\n",
    "import ipywidgets as ipw\n",
    "from aiida import common, orm\n",
    "from IPython.display import clear_output"
   ]
  },
  {
   "cell_type": "code",
   "execution_count": 3,
   "id": "794f9232",
   "metadata": {},
   "outputs": [
    {
     "name": "stdout",
     "output_type": "stream",
     "text": [
      "1328 2025-05-05 09:54:16.478392+00:00 2025-05-05 09:54:16.695360+00:00\n",
      "1324 2025-05-05 09:54:04.681296+00:00 2025-05-05 09:54:04.911663+00:00\n",
      "1321 2025-05-05 09:53:40.157897+00:00 2025-05-05 09:53:40.326946+00:00\n",
      "1318 2025-05-05 09:52:30.275430+00:00 2025-05-05 09:52:30.591631+00:00\n",
      "1242 2025-03-26 10:26:18.519986+00:00 2025-03-26 10:26:19.808720+00:00\n",
      "1221 2025-03-26 10:25:57.247235+00:00 2025-03-26 10:25:57.596052+00:00\n",
      "1210 2025-03-26 10:25:54.648323+00:00 2025-03-26 10:25:55.320371+00:00\n",
      "1209 2025-03-26 10:25:54.198052+00:00 2025-03-26 10:25:55.156204+00:00\n",
      "1193 2025-03-26 10:25:32.678013+00:00 2025-03-26 10:25:32.997449+00:00\n",
      "1179 2025-03-26 10:25:08.817527+00:00 2025-03-26 10:25:09.140973+00:00\n",
      "1083 2025-03-22 09:53:29.611698+00:00 2025-03-22 09:53:37.023545+00:00\n",
      "1062 2025-03-22 09:52:07.421224+00:00 2025-03-22 09:52:09.308071+00:00\n",
      "1051 2025-03-22 09:51:52.412852+00:00 2025-03-22 09:51:56.713282+00:00\n",
      "1050 2025-03-22 09:51:49.608259+00:00 2025-03-22 09:51:55.917334+00:00\n",
      "1034 2025-03-22 09:49:49.826825+00:00 2025-03-22 09:49:51.606498+00:00\n",
      "1020 2025-03-22 09:47:54.805846+00:00 2025-03-22 09:47:56.220983+00:00\n",
      "928 2025-03-18 19:16:48.085516+00:00 2025-03-18 19:16:48.472783+00:00\n",
      "872 2025-03-18 19:11:38.981883+00:00 2025-03-18 19:11:39.256709+00:00\n",
      "823 2025-03-18 19:10:33.644734+00:00 2025-03-18 19:10:34.074785+00:00\n",
      "807 2025-03-18 19:10:31.369363+00:00 2025-03-18 19:10:31.891557+00:00\n",
      "806 2025-03-18 19:10:30.954265+00:00 2025-03-18 19:10:31.793565+00:00\n",
      "790 2025-03-18 19:10:11.999150+00:00 2025-03-18 19:10:12.245312+00:00\n",
      "776 2025-03-18 19:09:51.036364+00:00 2025-03-18 19:09:51.484663+00:00\n"
     ]
    }
   ],
   "source": [
    "## Search with QB StructureData nodes.\n",
    "qb = orm.QueryBuilder()\n",
    "filters={\"extras\": {\"has_key\": \"test\"}}\n",
    "qb.append(orm.CalcFunctionNode)\n",
    "qb.order_by({orm.CalcFunctionNode: {\"ctime\": \"desc\"}})\n",
    "\n",
    "for node in qb.all(flat=True):\n",
    "    print(node.pk,node.ctime,node.mtime)"
   ]
  },
  {
   "cell_type": "code",
   "execution_count": 4,
   "id": "f29793d5",
   "metadata": {},
   "outputs": [],
   "source": [
    "node = load_node(776)"
   ]
  },
  {
   "cell_type": "code",
   "execution_count": 5,
   "id": "38b38ff8",
   "metadata": {},
   "outputs": [],
   "source": [
    "node.base.extras.set('test',2)"
   ]
  },
  {
   "cell_type": "code",
   "execution_count": null,
   "id": "d3999026",
   "metadata": {},
   "outputs": [],
   "source": [
    "node.ba"
   ]
  }
 ],
 "metadata": {
  "kernelspec": {
   "display_name": "Python 3 (ipykernel)",
   "language": "python",
   "name": "python3"
  },
  "language_info": {
   "codemirror_mode": {
    "name": "ipython",
    "version": 3
   },
   "file_extension": ".py",
   "mimetype": "text/x-python",
   "name": "python",
   "nbconvert_exporter": "python",
   "pygments_lexer": "ipython3",
   "version": "3.9.13"
  }
 },
 "nbformat": 4,
 "nbformat_minor": 5
}
